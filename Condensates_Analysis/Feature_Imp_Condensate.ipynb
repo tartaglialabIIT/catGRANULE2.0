{
 "cells": [
  {
   "cell_type": "code",
   "execution_count": null,
   "id": "572599be-343b-4e9a-9ac3-8516421957d9",
   "metadata": {},
   "outputs": [],
   "source": [
    "import pandas as pd\n",
    "import seaborn as sns\n",
    "import numpy as np\n",
    "import matplotlib.pyplot as plt\n",
    "import joblib\n",
    "from sklearn.utils.validation import column_or_1d"
   ]
  },
  {
   "cell_type": "code",
   "execution_count": null,
   "id": "31d08dce-aaab-47d7-bd9c-b778c2a9b5f1",
   "metadata": {},
   "outputs": [],
   "source": [
    "data_file=\"../DATASETS/TrainSet_data.csv\"\n",
    "labels_file=\"../DATASETS/TrainSet_IDs.csv\"\n",
    "test=\"../DATASETS/TestSet_data.csv\"\n",
    "testlabels_file=\"../DATASETS/TestSet_IDs.csv\"\n",
    "\n",
    "model=joblib.load(\"../src/TRAINED_MODELS/ALL_FEATURES/MLP/gridsearchCV_Object.pkl\")\n",
    "ft_imp_df=pd.read_csv(\"../src/TRAINED_MODELS/ALL_FEATURES/MLP/GridSearchSelectedFeatures_with_Importance.csv\",index_col=0)\n",
    "X = pd.read_csv(data_file, index_col=0)\n",
    "X = X.fillna(1.0)\n",
    "data_columns=X.columns\n",
    "y = pd.read_csv(labels_file, index_col=0)\n",
    "X_v = X.values\n",
    "y = y['labels'].values\n",
    "y = column_or_1d(y)\n",
    "\n",
    "test_data = pd.read_csv(test, index_col=0)\n",
    "test_data = test_data.fillna(1.0)\n",
    "test_data_index=test_data.index\n",
    "test_data=test_data.values\n",
    "\n",
    "ytest = pd.read_csv(testlabels_file, index_col=0)\n",
    "ytest = ytest['labels'].values\n",
    "ytest = column_or_1d(ytest)"
   ]
  },
  {
   "cell_type": "code",
   "execution_count": null,
   "id": "23c3462d-d79d-4df8-a26e-0f9329150dcb",
   "metadata": {},
   "outputs": [],
   "source": [
    "pc_scales=pd.read_csv(\"../src/human_proteome_physchemscales.csv.gz\",compression=\"gzip\",index_col=0)\n",
    "af_scales=pd.read_csv(\"../src/human_proteome_alphafold2.csv.zip\",index_col=0,compression=\"zip\")\n",
    "af_scales[\"RG_protein_norm\"]=af_scales[\"RG_protein\"]/af_scales[\"Length\"]\n",
    "af_scales[\"n_contacts_norm\"]=af_scales[\"n_contacts\"]/af_scales[\"Length\"]"
   ]
  },
  {
   "cell_type": "code",
   "execution_count": null,
   "id": "b6eae916-091f-435f-8324-b4f5db74c062",
   "metadata": {},
   "outputs": [],
   "source": [
    "inters=list(set(pc_scales.index).intersection(af_scales.index))\n",
    "pc_scales=pc_scales.loc[inters]\n",
    "af_scales=af_scales.loc[inters]\n",
    "all_scales=pd.concat([pc_scales,af_scales],axis=1)\n",
    "all_scales=all_scales.loc[:,X.columns]"
   ]
  },
  {
   "cell_type": "code",
   "execution_count": null,
   "id": "1b3f1a5e-2033-4eea-a50a-97a06a408a13",
   "metadata": {},
   "outputs": [],
   "source": [
    "feature_family_df=pd.read_excel(\"../../RECURSIVE_BEST_FEATURES_ELIMINATION_JAN2024/Supplementary_Table_S1.xlsx\")\n",
    "feature_family_df=feature_family_df.loc[:,[\"Feature\",\"Feature_ID\",\"Family\",\"Type\"]]\n",
    "mapping_features=dict(zip(feature_family_df.Feature,feature_family_df.Feature_ID))"
   ]
  },
  {
   "cell_type": "code",
   "execution_count": null,
   "id": "1b73f05d-563f-4a27-af5f-b2bed56302f3",
   "metadata": {},
   "outputs": [],
   "source": [
    "condensate_df=pd.read_csv(\"../df_condensates.csv\")\n",
    "condensate_df[\"Condensate\"]=condensate_df[\"Condensate\"].astype(\"category\")"
   ]
  },
  {
   "cell_type": "code",
   "execution_count": null,
   "id": "de919b0d-6101-4d94-9b75-43af5221e3dd",
   "metadata": {},
   "outputs": [],
   "source": [
    "myprots=list(set(condensate_df.Uniprot_ID))\n",
    "print(len(myprots), len(set(myprots).intersection(set(X.index))))\n",
    "print(len(myprots), len(set(myprots).intersection(set(test_data_index))))"
   ]
  },
  {
   "cell_type": "code",
   "execution_count": null,
   "id": "a252c1c7-38f6-4492-83e4-89fdbb3c017b",
   "metadata": {},
   "outputs": [],
   "source": [
    "myprot_data=all_scales.loc[myprots]\n",
    "len(myprot_data)"
   ]
  },
  {
   "cell_type": "code",
   "execution_count": null,
   "id": "b0a59908-572d-49dc-9cc0-899b0a3be78d",
   "metadata": {},
   "outputs": [],
   "source": [
    "# Load catRAPID signature results\n",
    "cat_sig=pd.read_csv(\"/mnt/large/jfiorentino/catRAPID_signature/Gian_catsig_data_all_human_proteome.csv\",index_col=0)\n",
    "# cat_sig=cat_sig.set_index(\"Uniprot_ID\")"
   ]
  },
  {
   "cell_type": "code",
   "execution_count": null,
   "id": "d7ae07f6-4704-40c3-858e-565781b6660f",
   "metadata": {},
   "outputs": [],
   "source": [
    "castello=pd.DataFrame(all_scales[\"NucleicAcidBinding-classicalRBD-Castelloetal--Cell2011-149-1393-1406\"])\n",
    "castello[\"Uniprot_ID\"]=castello.index\n",
    "catsig=cat_sig.loc[:,[\"Uniprot_ID\",\"TotalpredictionScore\"]]\n",
    "\n",
    "newcond=pd.merge(condensate_df,castello,on=\"Uniprot_ID\",how=\"left\")\n"
   ]
  },
  {
   "cell_type": "code",
   "execution_count": null,
   "id": "4750bda0-93ba-4ba5-b89a-7ebca69f5cb8",
   "metadata": {},
   "outputs": [],
   "source": [
    "newcond=pd.merge(newcond,catsig,on=\"Uniprot_ID\",how=\"left\")"
   ]
  },
  {
   "cell_type": "code",
   "execution_count": null,
   "id": "dbb23658-2d6a-4a05-86fd-e88c92570ada",
   "metadata": {},
   "outputs": [],
   "source": [
    "sorted_categories = newcond.groupby('Condensate')['NucleicAcidBinding-classicalRBD-Castelloetal--Cell2011-149-1393-1406'].mean().sort_values().index.tolist()\n",
    "\n",
    "# Now you can use sorted_categories to sort your dataframe by category_column\n",
    "newcond['Condensate'] = pd.Categorical(newcond['Condensate'], categories=sorted_categories, ordered=True)\n",
    "newcond = newcond.sort_values('Condensate')"
   ]
  },
  {
   "cell_type": "code",
   "execution_count": null,
   "id": "d92ef003-b87f-448b-829c-ba0f52e5b3ef",
   "metadata": {},
   "outputs": [],
   "source": [
    "import seaborn as sns\n",
    "\n",
    "fig,ax=plt.subplots(figsize=(15,4))\n",
    "sns.boxplot(data=newcond,x=\"Condensate\",y=\"NucleicAcidBinding-classicalRBD-Castelloetal--Cell2011-149-1393-1406\",color=\"skyblue\",ax=ax)\n",
    "sns.pointplot(data=newcond,x=\"Condensate\",y=\"NucleicAcidBinding-classicalRBD-Castelloetal--Cell2011-149-1393-1406\",color=\"indianred\",ax=ax)\n",
    "ax.set_ylabel(\"NucleicAcidBinding_2\")\n",
    "ax.tick_params(axis='x', rotation=90)\n",
    "plt.savefig(\"castello_RBD_condensate.pdf\",bbox_inches=\"tight\"),plt.close()"
   ]
  },
  {
   "cell_type": "code",
   "execution_count": null,
   "id": "682eb883-3270-4972-944f-848fd501c669",
   "metadata": {},
   "outputs": [],
   "source": [
    "sorted_categories = newcond.groupby('Condensate')['TotalpredictionScore'].mean().sort_values().index.tolist()\n",
    "\n",
    "# Now you can use sorted_categories to sort your dataframe by category_column\n",
    "newcond['Condensate'] = pd.Categorical(newcond['Condensate'], categories=sorted_categories, ordered=True)\n",
    "newcond = newcond.sort_values('Condensate')"
   ]
  },
  {
   "cell_type": "code",
   "execution_count": null,
   "id": "e4cf0d43-8d0e-4062-93e9-b0b954a719fa",
   "metadata": {},
   "outputs": [],
   "source": [
    "import seaborn as sns\n",
    "\n",
    "fig,ax=plt.subplots(figsize=(15,4))\n",
    "sns.boxplot(data=newcond,x=\"Condensate\",y=\"TotalpredictionScore\",color=\"skyblue\",ax=ax)\n",
    "sns.pointplot(data=newcond,x=\"Condensate\",y=\"TotalpredictionScore\",color=\"indianred\",ax=ax)\n",
    "ax.tick_params(axis='x', rotation=90)\n",
    "plt.savefig(\"catrapid_signature_condensate.pdf\",bbox_inches=\"tight\"),plt.close()"
   ]
  },
  {
   "cell_type": "code",
   "execution_count": null,
   "id": "10b7674b-f171-4aee-b64c-e47628ba33e5",
   "metadata": {},
   "outputs": [],
   "source": [
    "disprot=pd.DataFrame(all_scales[\"DisProt-DunkerAK-ProteinPeptLett-2008-15-9--956\"])\n",
    "disprot[\"Uniprot_ID\"]=disprot.index\n",
    "\n",
    "newcond=pd.merge(newcond,disprot,on=\"Uniprot_ID\",how=\"left\")"
   ]
  },
  {
   "cell_type": "code",
   "execution_count": null,
   "id": "4fc5bf1e-8426-41d8-b5e5-cced0f6f3f03",
   "metadata": {},
   "outputs": [],
   "source": [
    "sorted_categories = newcond.groupby('Condensate')['DisProt-DunkerAK-ProteinPeptLett-2008-15-9--956'].mean().sort_values().index.tolist()\n",
    "\n",
    "# Now you can use sorted_categories to sort your dataframe by category_column\n",
    "newcond['Condensate'] = pd.Categorical(newcond['Condensate'], categories=sorted_categories, ordered=True)\n",
    "newcond = newcond.sort_values('Condensate')"
   ]
  },
  {
   "cell_type": "code",
   "execution_count": null,
   "id": "d5c8c26b-0d55-4c16-b100-aff440ec7d70",
   "metadata": {},
   "outputs": [],
   "source": [
    "import seaborn as sns\n",
    "\n",
    "fig,ax=plt.subplots(figsize=(15,4))\n",
    "sns.boxplot(data=newcond,x=\"Condensate\",y=\"DisProt-DunkerAK-ProteinPeptLett-2008-15-9--956\",color=\"skyblue\",ax=ax)\n",
    "sns.pointplot(data=newcond,x=\"Condensate\",y=\"DisProt-DunkerAK-ProteinPeptLett-2008-15-9--956\",color=\"indianred\",ax=ax)\n",
    "ax.tick_params(axis='x', rotation=90)\n",
    "ax.set_ylabel(\"Disorder_10\")\n",
    "plt.savefig(\"disorder_condensate.pdf\",bbox_inches=\"tight\"),plt.close()"
   ]
  },
  {
   "cell_type": "code",
   "execution_count": null,
   "id": "58cf4c6b-b2e9-4000-b9a4-c4b70ea3d33f",
   "metadata": {},
   "outputs": [],
   "source": [
    "agg=pd.DataFrame(all_scales[\"Aggregation-Tartaglia-J-Mol-Biol-2010-402-919\"])\n",
    "agg[\"Uniprot_ID\"]=agg.index\n",
    "\n",
    "newcond=pd.merge(newcond,agg,on=\"Uniprot_ID\",how=\"left\")"
   ]
  },
  {
   "cell_type": "code",
   "execution_count": null,
   "id": "6625a5fe-1384-41ac-8659-2bc8d062eff8",
   "metadata": {},
   "outputs": [],
   "source": [
    "sorted_categories = newcond.groupby('Condensate')['Aggregation-Tartaglia-J-Mol-Biol-2010-402-919'].mean().sort_values().index.tolist()\n",
    "\n",
    "# Now you can use sorted_categories to sort your dataframe by category_column\n",
    "newcond['Condensate'] = pd.Categorical(newcond['Condensate'], categories=sorted_categories, ordered=True)\n",
    "newcond = newcond.sort_values('Condensate')"
   ]
  },
  {
   "cell_type": "code",
   "execution_count": null,
   "id": "2394e9e5-d2b8-4d90-9c90-46435b497537",
   "metadata": {},
   "outputs": [],
   "source": [
    "import seaborn as sns\n",
    "\n",
    "fig,ax=plt.subplots(figsize=(15,4))\n",
    "sns.boxplot(data=newcond,x=\"Condensate\",y=\"Aggregation-Tartaglia-J-Mol-Biol-2010-402-919\",color=\"skyblue\",ax=ax)\n",
    "sns.pointplot(data=newcond,x=\"Condensate\",y=\"Aggregation-Tartaglia-J-Mol-Biol-2010-402-919\",color=\"indianred\",ax=ax)\n",
    "ax.tick_params(axis='x', rotation=90)\n",
    "# plt.savefig(\"catrapid_signature_condensate.pdf\",bbox_inches=\"tight\"),plt.close()"
   ]
  },
  {
   "cell_type": "markdown",
   "id": "0ede08d1-51ad-4470-b317-2eb7695321c4",
   "metadata": {},
   "source": [
    "# Permutation importance by condensate"
   ]
  },
  {
   "cell_type": "code",
   "execution_count": null,
   "id": "7d512fb4-ce5b-4332-99c5-984dca82be3f",
   "metadata": {},
   "outputs": [],
   "source": [
    "str_ft=['RBD_ext_min_2', 'Percentage_BetaBridge_FullSeq',\n",
    "       'Percentage_AlphaHelix_ExtSeq', 'n_contacts',\n",
    "       'Percentage_AlphaHelix_FullSeq',\n",
    "       'Percentage_Turn_FullSeq',\n",
    "       'Percentage_Bend_FullSeq',\n",
    "       'asa_std', 'Percentage_Bend_ExtSeq', 'extCharge', 'fullCharge',\n",
    "       'Length', 'stddev_plddt',\n",
    "       'Percentage_Coil_ExtSeq',\n",
    "       'RG_protein_norm',\n",
    "       'average_plddt']"
   ]
  },
  {
   "cell_type": "code",
   "execution_count": null,
   "id": "dda7b19f-7c15-4701-a383-b06a887f880f",
   "metadata": {},
   "outputs": [],
   "source": [
    "y = pd.read_csv(labels_file, index_col=0)\n",
    "ytest = pd.read_csv(testlabels_file, index_col=0)\n",
    "\n",
    "train_negs=y[y.labels==0].index\n",
    "test_negs=ytest[ytest.labels==0].index\n",
    "all_negs=list(set(list(train_negs)+list(test_negs)))"
   ]
  },
  {
   "cell_type": "code",
   "execution_count": null,
   "id": "55f49d67-4a87-4d7e-a0fa-5c87ef03a6b7",
   "metadata": {},
   "outputs": [],
   "source": [
    "from sklearn.inspection import permutation_importance\n",
    "import matplotlib.pyplot as plt\n",
    "import random\n",
    "random.seed(42)\n",
    "all_dfs=[]\n",
    "\n",
    "for cond in list(condensate_df.Condensate.cat.categories):\n",
    "    tmp_prot=list(set(condensate_df.loc[condensate_df.Condensate==cond,\"Uniprot_ID\"]))\n",
    "    # Select the data corresponding to the proteins of a given condensate\n",
    "    data_cond=myprot_data.loc[tmp_prot]\n",
    "    \n",
    "    cond_df=[]\n",
    "    for i in range(50):\n",
    "        print(cond,i)\n",
    "        negs=random.choices(all_negs, k=len(data_cond))\n",
    "        data_negs=all_scales.loc[negs]\n",
    "        # Append the positives and the negatives\n",
    "        mydata=pd.concat([data_cond,data_negs],axis=0)\n",
    "        mydata=mydata.fillna(1.0)\n",
    "        myy=[1]*len(data_cond)+[0]*len(data_negs)\n",
    "\n",
    "        #calculate permutation importance for test data \n",
    "        result_test = permutation_importance(\n",
    "            model, mydata.values, myy, n_repeats=5, random_state=42, n_jobs=24\n",
    "        )\n",
    "        cond_df.append(pd.DataFrame(result_test.importances.T,columns=X.columns))\n",
    "    cond_df=pd.concat(cond_df)\n",
    "    print(cond_df)\n",
    "    all_dfs.append(cond_df)"
   ]
  },
  {
   "cell_type": "code",
   "execution_count": null,
   "id": "1cc78fd3-649f-4dcd-a5b8-46b5f35f2f2a",
   "metadata": {},
   "outputs": [],
   "source": [
    "all_dfs_2=[]\n",
    "for df in all_dfs:\n",
    "    df2=df.copy()\n",
    "    df2=df2.loc[:,ft_imp_df.Sel_Ft]\n",
    "    # importances_test_s = importances_test[importances_test.columns].mean().sort_values().index\n",
    "    # importances_test_s = importances_test[importances_test_s]\n",
    "    df2=df2.T\n",
    "    df2[\"Type\"]=\"Physico-chemical\"\n",
    "    df2.loc[str_ft,\"Type\"]=\"AlphaFold\"\n",
    "    df2[\"Feature\"]=df2.index\n",
    "    melted_df_train = pd.melt(df2, id_vars=['Type', 'Feature'], var_name='Index', value_name='Values')\n",
    "\n",
    "    # Drop the 'Index' column if you don't need it\n",
    "    melted_df_train = melted_df_train.drop('Index', axis=1)\n",
    "    melted_df_train[\"Feature_ID\"]=melted_df_train.Feature.map(mapping_features)\n",
    "\n",
    "    all_dfs_2.append(melted_df_train)"
   ]
  },
  {
   "cell_type": "code",
   "execution_count": null,
   "id": "75156a05-d1a9-4d74-8490-941eee31f255",
   "metadata": {},
   "outputs": [],
   "source": [
    "all_dfs_3=[]\n",
    "for df in all_dfs:\n",
    "    df2=df.copy()\n",
    "    df2=df2.loc[:,ft_imp_df.Sel_Ft]\n",
    "    df2_mean=df2.mean(axis=0)\n",
    "    print(df2_mean)\n",
    "    all_dfs_3.append(df2_mean)\n",
    "\n",
    "mean_df=pd.DataFrame(all_dfs_3)"
   ]
  },
  {
   "cell_type": "code",
   "execution_count": null,
   "id": "2fd3d955-516e-49ef-871c-9de75628d1b8",
   "metadata": {},
   "outputs": [],
   "source": [
    "mean_df.index=list(condensate_df.Condensate.cat.categories)\n",
    "mean_df.columns=mean_df.columns.map(mapping_features)"
   ]
  },
  {
   "cell_type": "code",
   "execution_count": null,
   "id": "cafb1ba4-6018-40dc-bd06-4dc9d10e004f",
   "metadata": {},
   "outputs": [],
   "source": [
    "myorder = [\n",
    "    \"average_plddt\",\n",
    "    \"Burial_2\",\n",
    "    \"AlphaHelix_9\",\n",
    "    \"BetaSheet_1\",\n",
    "    \"Hydrophobicity_6\",\n",
    "    \"NucleicAcidBinding_2\",\n",
    "    \"RG_protein_norm\",\n",
    "    \"Aggregation_3\",\n",
    "    \"Coil_ExtSeq\",\n",
    "    \"BetaSheet_4\",\n",
    "    \"Disorder_8\",\n",
    "    \"stddev_plddt\",\n",
    "    \"fg\",\n",
    "    \"Length\",\n",
    "    \"fullCharge\",\n",
    "    \"extCharge\",\n",
    "    \"Bend_ExtSeq\",\n",
    "    \"asa_std\",\n",
    "    \"Membrane_7\",\n",
    "    \"Bend_FullSeq\",\n",
    "    \"Turn_1\",\n",
    "    \"Turn_FullSeq\",\n",
    "    \"AlphaHelix_4\",\n",
    "    \"AlphaHelix_FullSeq\",\n",
    "    \"n_contacts\",\n",
    "    \"AlphaHelix_ExtSeq\",\n",
    "    \"BetaBridge_FullSeq\",\n",
    "    \"RBD_ext_min_2\"\n",
    "]\n"
   ]
  },
  {
   "cell_type": "code",
   "execution_count": null,
   "id": "82541d15-f834-4ffd-b397-919ad0d6aee9",
   "metadata": {},
   "outputs": [],
   "source": [
    "# fig,ax=plt.subplots(figsize=(8,8))\n",
    "sns.set(font_scale=1.)\n",
    "\n",
    "myfig=sns.clustermap(mean_df.loc[:,myorder],col_cluster=False,row_cluster=True)\n",
    "\n",
    "myfig.savefig(\"Condensate_Permutation_Importance.pdf\")"
   ]
  }
 ],
 "metadata": {
  "kernelspec": {
   "display_name": "scRAPID-venv",
   "language": "python",
   "name": "scrapid-venv"
  },
  "language_info": {
   "codemirror_mode": {
    "name": "ipython",
    "version": 3
   },
   "file_extension": ".py",
   "mimetype": "text/x-python",
   "name": "python",
   "nbconvert_exporter": "python",
   "pygments_lexer": "ipython3",
   "version": "3.9.5"
  },
  "toc": {
   "base_numbering": 1,
   "nav_menu": {},
   "number_sections": true,
   "sideBar": true,
   "skip_h1_title": false,
   "title_cell": "Table of Contents",
   "title_sidebar": "Contents",
   "toc_cell": false,
   "toc_position": {},
   "toc_section_display": true,
   "toc_window_display": false
  }
 },
 "nbformat": 4,
 "nbformat_minor": 5
}
