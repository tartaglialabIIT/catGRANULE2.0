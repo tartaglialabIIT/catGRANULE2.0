{
 "cells": [
  {
   "cell_type": "code",
   "execution_count": null,
   "id": "e7d76faa-4ac7-4c3b-a79b-37374e7dc448",
   "metadata": {},
   "outputs": [],
   "source": [
    "import pandas as pd\n",
    "import numpy as np\n",
    "import matplotlib.pyplot as plt\n",
    "import seaborn as sns\n",
    "import joblib"
   ]
  },
  {
   "cell_type": "code",
   "execution_count": null,
   "id": "ff64ccfa-cebe-4e24-a198-5486fdc3939e",
   "metadata": {},
   "outputs": [],
   "source": [
    "import os\n",
    "\n",
    "plots_folder=\"./plots/\"\n",
    "\n",
    "if os.path.isdir(plots_folder)==False:\n",
    "    os.mkdir(plots_folder)"
   ]
  },
  {
   "cell_type": "code",
   "execution_count": null,
   "id": "88aea331-6d01-4899-aafc-d4759308a336",
   "metadata": {},
   "outputs": [],
   "source": [
    "test_data_file=\"../DATASETS/TestSet_data.csv\""
   ]
  },
  {
   "cell_type": "code",
   "execution_count": null,
   "id": "0dc3fe7c-487d-446e-a931-2b305edc69b6",
   "metadata": {},
   "outputs": [],
   "source": [
    "model_file=\"../src/TRAINED_MODELS/ALL_FEATURES/MLP/gridsearchCV_Object.pkl\""
   ]
  },
  {
   "cell_type": "code",
   "execution_count": null,
   "id": "e280be4e-fa06-436d-a023-6e127fa4e398",
   "metadata": {},
   "outputs": [],
   "source": [
    "test_data=pd.read_csv(test_data_file,index_col=0)\n",
    "test_data_columns=test_data.columns"
   ]
  },
  {
   "cell_type": "code",
   "execution_count": null,
   "id": "8938d25d-8c03-448d-8c51-4a50626cd627",
   "metadata": {},
   "outputs": [],
   "source": [
    "model=joblib.load(model_file)"
   ]
  },
  {
   "cell_type": "code",
   "execution_count": null,
   "id": "4274176d-f737-4f07-bd5b-ee706801b604",
   "metadata": {},
   "outputs": [],
   "source": [
    "pc_scales=pd.read_csv(\"../src/human_proteome_physchemscales.csv.gz\",\n",
    "                     index_col=0,compression=\"gzip\")\n",
    "af_scales=pd.read_csv(\"../human_proteome_alphafold2.csv.zip\",\n",
    "                      index_col=0,compression=\"zip\")\n",
    "af_scales[\"n_contacts_norm\"]=af_scales.n_contacts/af_scales.Length\n",
    "af_scales[\"RG_protein_norm\"]=af_scales.RG_protein/af_scales.Length"
   ]
  },
  {
   "cell_type": "code",
   "execution_count": null,
   "id": "684123a8-4fa5-4d24-904c-c7fd96fb1769",
   "metadata": {},
   "outputs": [],
   "source": [
    "inters=list(set(pc_scales.index).intersection(af_scales.index))\n",
    "pc_scales=pc_scales.loc[inters]\n",
    "af_scales=af_scales.loc[inters]\n",
    "print((pc_scales.index==af_scales.index).all())"
   ]
  },
  {
   "cell_type": "code",
   "execution_count": null,
   "id": "e115f52c-7afd-4a2c-a723-b2dbda586ddc",
   "metadata": {},
   "outputs": [],
   "source": [
    "all_scales=pd.merge(pc_scales,af_scales,left_index=True, right_index=True)\n",
    "all_scales=all_scales.loc[:,test_data_columns]\n",
    "print((all_scales.columns==test_data.columns).all())"
   ]
  },
  {
   "cell_type": "code",
   "execution_count": null,
   "id": "9fdbdd6f-ae25-4826-9375-890ae2c098f7",
   "metadata": {},
   "outputs": [],
   "source": [
    "nan_fraction = all_scales.isna().mean()\n",
    "\n",
    "# Display the result\n",
    "print(nan_fraction[nan_fraction>0])"
   ]
  },
  {
   "cell_type": "code",
   "execution_count": null,
   "id": "2cf64d99-3af1-43e9-ab4d-b2707d6d739a",
   "metadata": {},
   "outputs": [],
   "source": [
    "all_scales=all_scales.fillna(1.0)"
   ]
  },
  {
   "cell_type": "code",
   "execution_count": null,
   "id": "30504eaf-28f9-4418-9683-06a22431f63e",
   "metadata": {},
   "outputs": [],
   "source": [
    "catG2_scores=model.best_estimator_.predict_proba(all_scales)[:,1]"
   ]
  },
  {
   "cell_type": "code",
   "execution_count": null,
   "id": "9baf2195-9d81-4d0c-a2cf-a7fee52f04f1",
   "metadata": {},
   "outputs": [],
   "source": [
    "catG2_scores_df=pd.DataFrame(data=catG2_scores,index=all_scales.index)\n",
    "catG2_scores_df.columns=['LLPS_score']\n",
    "# catG2_scores_df.to_csv(\"catG2_scores_human_proteome.csv\")"
   ]
  },
  {
   "cell_type": "code",
   "execution_count": null,
   "id": "9ef7935f-2a6d-4445-a5a4-2a24d8b58344",
   "metadata": {},
   "outputs": [],
   "source": [
    "# Check that the prediction is correct\n",
    "catG2_pred_test=pd.read_csv(\"../src/TRAINED_MODELS/ALL_FEATURES/MLP/catGRANULE2_prediction_Test.csv\",index_col=0)"
   ]
  },
  {
   "cell_type": "code",
   "execution_count": null,
   "id": "c371204a-7afa-4a59-ae51-c2b5d5efa315",
   "metadata": {},
   "outputs": [],
   "source": [
    "# Load DrLLPS data\n",
    "DrLLPS=pd.read_csv(\"./DrLLPS/LLPS.csv\",delimiter=\"\\t\")\n",
    "DrLLPS=DrLLPS[DrLLPS.Species==\"Homo sapiens\"]"
   ]
  },
  {
   "cell_type": "code",
   "execution_count": null,
   "id": "61f6be6b-31ad-494e-8ef4-f610e8436363",
   "metadata": {},
   "outputs": [],
   "source": [
    "inters_DrLLPS=list(set(catG2_scores_df.index).intersection(set(DrLLPS[\"UniProt ID\"])))\n",
    "len(inters_DrLLPS)"
   ]
  },
  {
   "cell_type": "code",
   "execution_count": null,
   "id": "6dfeb165-d12e-4a67-bca5-8a0996900107",
   "metadata": {},
   "outputs": [],
   "source": [
    "DrLLPS=DrLLPS.loc[DrLLPS[\"UniProt ID\"].isin(inters_DrLLPS)]\n",
    "DrLLPS=DrLLPS.set_index(\"UniProt ID\")\n",
    "catG2_scores_df_DrLLPS=catG2_scores_df.loc[inters_DrLLPS]"
   ]
  },
  {
   "cell_type": "code",
   "execution_count": null,
   "id": "04ef0f9f-f95b-484b-abc1-21c6863f981f",
   "metadata": {},
   "outputs": [],
   "source": [
    "catG2_scores_df_DrLLPS=catG2_scores_df_DrLLPS.reindex(DrLLPS.index)"
   ]
  },
  {
   "cell_type": "code",
   "execution_count": null,
   "id": "3f20b443-b7c1-4e1f-a87d-8ff9bfcb3b70",
   "metadata": {},
   "outputs": [],
   "source": [
    "(catG2_scores_df_DrLLPS.index==DrLLPS.index).all()"
   ]
  },
  {
   "cell_type": "code",
   "execution_count": null,
   "id": "dd34e08e-b4f5-45c7-b804-c87a8abe72b1",
   "metadata": {},
   "outputs": [],
   "source": [
    "DrLLPS[\"LLPS_score\"]=catG2_scores_df.LLPS_score"
   ]
  },
  {
   "cell_type": "code",
   "execution_count": null,
   "id": "25bca667-c482-4e8e-b4d4-b17cae2439bc",
   "metadata": {},
   "outputs": [],
   "source": [
    "DrLLPS.loc[:,[\"Condensate\",\"LLPS_score\"]]"
   ]
  },
  {
   "cell_type": "code",
   "execution_count": null,
   "id": "9f01591e-0673-469e-af5f-2f4d4f36bdb6",
   "metadata": {},
   "outputs": [],
   "source": [
    "# Convert string representations of lists to actual lists\n",
    "# DrLLPS['Condensate'] = DrLLPS['Condensate'].apply(eval)\n",
    "DrLLPS['Condensate'] = DrLLPS['Condensate'].apply(lambda x: x.split(', '))\n",
    "# Explode the 'Condensate' column to separate rows based on commas\n",
    "df_expanded = DrLLPS.explode('Condensate')\n",
    "\n",
    "# Calculate the mean 'LLPS_score' for each 'Condensate' and sort in descending order\n",
    "condensate_median = df_expanded.groupby('Condensate')['LLPS_score'].median().sort_values(ascending=False)\n",
    "\n",
    "# Filter compartments with less than 5 counts\n",
    "min_counts = 5\n",
    "condensate_counts = df_expanded['Condensate'].value_counts()[condensate_median.index]\n",
    "condensate_counts = condensate_counts[condensate_counts >= min_counts]\n",
    "\n",
    "# Order the DataFrame based on the mean 'LLPS_score' and filtered counts\n",
    "df_expanded['Condensate'] = pd.Categorical(df_expanded['Condensate'], categories=condensate_counts.index, ordered=True)\n",
    "df_expanded = df_expanded[df_expanded['Condensate'].isin(condensate_counts.index)]"
   ]
  },
  {
   "cell_type": "code",
   "execution_count": null,
   "id": "ff834d9c-0ee5-4c0c-833a-9b7a7c3a42fe",
   "metadata": {},
   "outputs": [],
   "source": [
    "# Load the human proteome with the subcellular location to select a negative control\n",
    "human_proteome=pd.read_csv(\"uniprotkb_Human_AND_model_organism_9606_2024_01_09.tsv.zip\",delimiter=\"\\t\",\n",
    "                          compression=\"zip\")\n",
    "human_proteome=human_proteome.dropna(subset=\"Subcellular location [CC]\")"
   ]
  },
  {
   "cell_type": "code",
   "execution_count": null,
   "id": "b9d4eb47-9645-44ba-9707-f4323acb6423",
   "metadata": {},
   "outputs": [],
   "source": [
    "catG2_all_human=pd.read_csv(\"catG2_scores_human_proteome.csv\",index_col=0)"
   ]
  },
  {
   "cell_type": "code",
   "execution_count": null,
   "id": "4adf96c3-223a-4452-91a3-61f4897cefe4",
   "metadata": {},
   "outputs": [],
   "source": [
    "membrane_proteins=list(human_proteome[human_proteome[\"Subcellular location [CC]\"].str.contains(\"Membrane\")][\"Entry\"])"
   ]
  },
  {
   "cell_type": "code",
   "execution_count": null,
   "id": "3708c453-daae-44f8-8418-4790a78fa8d7",
   "metadata": {},
   "outputs": [],
   "source": [
    "catG2_membrane=catG2_all_human.loc[set(catG2_all_human.index).intersection(set(membrane_proteins))]"
   ]
  },
  {
   "cell_type": "code",
   "execution_count": null,
   "id": "2807256b-8a29-4de4-891f-53c888f4c05d",
   "metadata": {},
   "outputs": [],
   "source": [
    "catG2_membrane[\"Condensate\"]=\"Membrane\"\n",
    "catG2_membrane=catG2_membrane.loc[:,[\"Condensate\",\"LLPS_score\"]]"
   ]
  },
  {
   "cell_type": "code",
   "execution_count": null,
   "id": "87674074-0138-4c53-8311-4e0e0bab929e",
   "metadata": {},
   "outputs": [],
   "source": [
    "new_df_expanded=pd.concat([df_expanded.loc[:,[\"Condensate\",\"LLPS_score\"]],catG2_membrane])\n",
    "condensate_median = new_df_expanded.groupby('Condensate')['LLPS_score'].median().sort_values(ascending=False)\n",
    "\n",
    "# Filter compartments with less than 5 counts\n",
    "min_counts = 5\n",
    "condensate_counts = new_df_expanded['Condensate'].value_counts()[condensate_median.index]\n",
    "condensate_counts = condensate_counts[condensate_counts >= min_counts]\n",
    "\n",
    "# Order the DataFrame based on the mean 'LLPS_score' and filtered counts\n",
    "new_df_expanded['Condensate'] = pd.Categorical(new_df_expanded['Condensate'], categories=condensate_counts.index, ordered=True)\n",
    "new_df_expanded = new_df_expanded[new_df_expanded['Condensate'].isin(condensate_counts.index)]"
   ]
  },
  {
   "cell_type": "code",
   "execution_count": null,
   "id": "3acc6d9b-33e3-47a8-a3ea-4379c465cfb7",
   "metadata": {},
   "outputs": [],
   "source": [
    "membrane_proteins=list(human_proteome[human_proteome[\"Subcellular location [CC]\"].str.contains(\"Membrane\")][\"Entry\"])\n",
    "df_memb=catG2_all_human.loc[catG2_all_human.index.isin(membrane_proteins)]\n",
    "df_memb[\"Subcellular_Location\"]=\"Membrane\"\n",
    "print(len(membrane_proteins))\n",
    "nucleus_proteins=list(human_proteome[human_proteome[\"Subcellular location [CC]\"].str.contains(\"Nucleus\",case=False)][\"Entry\"])\n",
    "df_nuc=catG2_all_human.loc[catG2_all_human.index.isin(nucleus_proteins)]\n",
    "df_nuc[\"Subcellular_Location\"]=\"Nucleus\"\n",
    "print(len(nucleus_proteins))\n",
    "nucleolus_proteins=list(new_df_expanded[new_df_expanded.Condensate=='Nucleolus'].index)+list(human_proteome[human_proteome[\"Subcellular location [CC]\"].str.contains(\"Nucleolus\",case=False)][\"Entry\"])\n",
    "df_nucleolus=catG2_all_human.loc[catG2_all_human.index.isin(list(set(nucleolus_proteins)))]\n",
    "df_nucleolus[\"Subcellular_Location\"]=\"Nucleolus\"\n",
    "print(len(nucleolus_proteins))\n",
    "cytoplasm_proteins=list(human_proteome[human_proteome[\"Subcellular location [CC]\"].str.contains(\"Cytoplasm\",case=False)][\"Entry\"])\n",
    "df_cytoplasm=catG2_all_human.loc[catG2_all_human.index.isin(cytoplasm_proteins)]\n",
    "df_cytoplasm[\"Subcellular_Location\"]=\"Cytoplasm\"\n",
    "print(len(cytoplasm_proteins))\n",
    "extracellular_proteins=list(human_proteome[human_proteome[\"Subcellular location [CC]\"].str.contains(\"Extracellular\",case=False)][\"Entry\"])\n",
    "df_extracell=catG2_all_human.loc[catG2_all_human.index.isin(extracellular_proteins)]\n",
    "df_extracell[\"Subcellular_Location\"]=\"Extracellular\"\n",
    "print(len(extracellular_proteins))\n",
    "mitochondrial_proteins=list(human_proteome[human_proteome[\"Subcellular location [CC]\"].str.contains(\"Mitochondr\",case=False)][\"Entry\"])\n",
    "df_mito=catG2_all_human.loc[catG2_all_human.index.isin(mitochondrial_proteins)]\n",
    "df_mito[\"Subcellular_Location\"]=\"Mitochondrial\"\n",
    "print(len(mitochondrial_proteins))\n",
    "secreted_proteins=list(human_proteome[human_proteome[\"Subcellular location [CC]\"].str.contains(\"Secreted\",case=False)][\"Entry\"])\n",
    "df_secr=catG2_all_human.loc[catG2_all_human.index.isin(secreted_proteins)]\n",
    "df_secr[\"Subcellular_Location\"]=\"Secreted\"\n",
    "print(len(secreted_proteins))"
   ]
  },
  {
   "cell_type": "code",
   "execution_count": null,
   "id": "f50ba9f1-66d6-4dc2-8683-e1d71b479a10",
   "metadata": {},
   "outputs": [],
   "source": [
    "df_subloc=pd.concat([df_nuc,df_nucleolus,df_cytoplasm,df_extracell,df_mito,df_secr,df_memb])"
   ]
  },
  {
   "cell_type": "code",
   "execution_count": null,
   "id": "2c948625-a7e6-4581-93bb-2c052862bfb0",
   "metadata": {},
   "outputs": [],
   "source": [
    "# Calculate the mean 'LLPS_score' for each 'Condensate' and sort in descending order\n",
    "subloc_median = df_subloc.groupby('Subcellular_Location')['LLPS_score'].median().sort_values(ascending=False)\n",
    "\n",
    "# Filter compartments with less than 5 counts\n",
    "min_counts = 5\n",
    "subloc_counts = df_subloc['Subcellular_Location'].value_counts()[subloc_median.index]\n",
    "subloc_counts = subloc_counts[subloc_counts >= min_counts]\n",
    "\n",
    "# Order the DataFrame based on the mean 'LLPS_score' and filtered counts\n",
    "df_subloc['Subcellular_Location'] = pd.Categorical(df_subloc['Subcellular_Location'], categories=subloc_counts.index, ordered=True)\n",
    "df_subloc = df_subloc[df_subloc['Subcellular_Location'].isin(subloc_counts.index)]"
   ]
  },
  {
   "cell_type": "code",
   "execution_count": null,
   "id": "6bb59ffc-13ec-4d6b-92e4-fab4b7364e45",
   "metadata": {},
   "outputs": [],
   "source": [
    "# Create a boxplot using seaborn\n",
    "plt.figure(figsize=(10, 6))\n",
    "\n",
    "sns.reset_defaults()\n",
    "\n",
    "boxplot = sns.violinplot(x='Subcellular_Location', y='LLPS_score', data=df_subloc, palette=sns.color_palette(\"pastel\"))#,violin=False)\n",
    "# sns.swarmplot(x='Condensate', y='LLPS_score',size=5, data=new_df_expanded, color='black',alpha=.4)\n",
    "plt.axhline(0.5,linestyle=\"dashed\",color=\"grey\",lw=3)\n",
    "plt.xlabel(\"Subcellular Location\")\n",
    "plt.xticks(rotation=45, ha='right')  # Rotate x-axis labels for better readability\n",
    "# plt.title('Boxplot of LLPS Scores by Condensate (Counts >= 5)')\n",
    "\n",
    "# Annotate each box with the number of proteins\n",
    "for i, count in enumerate(subloc_counts):\n",
    "    boxplot.text(i, 1.15, f'n={count}', ha='center', va='bottom', color='black')\n",
    "# plt.savefig(plots_folder+\"LLPS_score_sub_location.pdf\",bbox_inches=\"tight\")\n",
    "plt.show()\n",
    "# plt.savefig(\"LLPS_score_condensate_type.pdf\",bbox_inches=\"tight\"),plt.close()"
   ]
  },
  {
   "cell_type": "code",
   "execution_count": null,
   "id": "7c5b715d-2480-48ee-945d-df448d05bb32",
   "metadata": {},
   "outputs": [],
   "source": [
    "location_color=dict(zip(list(df_subloc.Subcellular_Location.cat.categories),sns.color_palette(\"pastel\")))\n",
    "location_color"
   ]
  },
  {
   "cell_type": "code",
   "execution_count": null,
   "id": "82013f12-b12e-49e8-8f67-5a19c2aa1bf8",
   "metadata": {},
   "outputs": [],
   "source": [
    "location_color = {'Nucleolus': (0.6313725490196078, 0.788235294117647, 0.9568627450980393),\n",
    " 'Cytoplasm': (1.0, 0.7058823529411765, 0.5098039215686274),\n",
    " 'Nucleus': (0.5529411764705883, 0.8980392156862745, 0.6313725490196078),\n",
    " 'Mitochondrial': (1.0, 0.6235294117647059, 0.6078431372549019),\n",
    " 'Extracellular': (0.8156862745098039, 0.7333333333333333, 1.0),\n",
    " 'Secreted': (0.8705882352941177, 0.7333333333333333, 0.6078431372549019),\n",
    " 'Membrane': (0.9803921568627451, 0.6901960784313725, 0.8941176470588236),\n",
    " 'Others': (0.5, 0.5, 0.5)}  # Grey color for \"?\""
   ]
  },
  {
   "cell_type": "code",
   "execution_count": null,
   "id": "c00135c2-7634-4df0-be58-2071840ff0fd",
   "metadata": {},
   "outputs": [],
   "source": [
    "locations=[\"Nucleus\", \"Nucleus\", \"Nucleolus\",\"Nucleus\",\n",
    "           \"Nucleus\", \"Others\", \"Others\", \n",
    "           \"Nucleus\",\"Cytoplasm\",\"Nucleus\",\n",
    "           \"Others\",\"Cytoplasm\",\"Nucleus\",\n",
    "           \"Nucleus\",\"Nucleus\",\"Nucleus\",\n",
    "           \"Nucleus\",\"Nucleus\",\"Nucleus\",\"Others\",\n",
    "           \"Nucleus\", \"Mitochondrial\", \"Nucleus\",\n",
    "           \"Membrane\"]\n",
    "\n",
    "condensate_location_dict=dict(zip(list(new_df_expanded.Condensate.cat.categories),locations))\n",
    "new_df_expanded[\"Subcellular_Location\"]=new_df_expanded[\"Condensate\"].map(condensate_location_dict)\n",
    "new_df_expanded[\"Location_color\"]=new_df_expanded[\"Subcellular_Location\"].map(location_color)\n",
    "\n",
    "# new_df_expanded.Condensate=new_df_expanded.Condensate.cat.reorder_categories(['Nucleolus','Stress granule','P-body','Sam68 nuclear body', 'DNA damage foci', 'Nuclear speckle',\n",
    "#        'Histone locus body', \n",
    "#        'Nuclear stress body',  'Cajal body',\n",
    "#         'PcG body',\n",
    "#        'Centrosome/Spindle pole body', 'Paraspeckle', 'Chromatoid body',\n",
    "#        'PML nuclear body', 'Spindle apparatus', 'OPT domain', \n",
    "#        'Gemini of cajal body', 'Receptor cluster','Mitochondrial RNA granule','Droplet', 'Neuronal granule','Postsynaptic density','Others',\n",
    "#        'Membrane'])"
   ]
  },
  {
   "cell_type": "code",
   "execution_count": null,
   "id": "8336c8de-7eac-4ef1-b25a-326bfc0478f2",
   "metadata": {},
   "outputs": [],
   "source": [
    "condensate_colors_dict = {condensate: location_color[loc] for condensate, loc in condensate_location_dict.items()}\n",
    "\n",
    "# reordered_condensate_colors_dict = {condensate: condensate_colors_dict[condensate] for condensate in new_df_expanded.Condensate.cat.categories}\n"
   ]
  },
  {
   "cell_type": "code",
   "execution_count": null,
   "id": "0d495933-a387-40e0-9b89-b488b9391b45",
   "metadata": {},
   "outputs": [],
   "source": [
    "condensate_counts=condensate_counts.reindex(new_df_expanded.Condensate.cat.categories)"
   ]
  },
  {
   "cell_type": "code",
   "execution_count": null,
   "id": "fa38a4db-a710-46b2-a3d0-b545fcbce239",
   "metadata": {},
   "outputs": [],
   "source": [
    "new_df_expanded['Subcellular_Location']=new_df_expanded.Subcellular_Location.astype(\"category\")"
   ]
  },
  {
   "cell_type": "code",
   "execution_count": null,
   "id": "6ce62244-1983-47ae-b0eb-81aeffc7ba97",
   "metadata": {},
   "outputs": [],
   "source": [
    "new_df_expanded['Subcellular_Location']"
   ]
  },
  {
   "cell_type": "code",
   "execution_count": null,
   "id": "0b743860-2b62-48ae-aa74-b98baa7f2244",
   "metadata": {},
   "outputs": [],
   "source": [
    "new_df_expanded['Subcellular_Location']=new_df_expanded['Subcellular_Location'].cat.reorder_categories(['Nucleolus','Cytoplasm', 'Nucleus', 'Mitochondrial', 'Others', 'Membrane'])"
   ]
  },
  {
   "cell_type": "code",
   "execution_count": null,
   "id": "d3749bec-1069-4307-b63b-364b6160bf73",
   "metadata": {},
   "outputs": [],
   "source": [
    "sns.reset_defaults()\n",
    "\n",
    "min_counts = 10\n",
    "condensate_counts_filtered = condensate_counts.loc[condensate_counts >= min_counts]\n",
    "condensate_counts_filtered = condensate_counts_filtered.drop(\"Membrane\")\n",
    "\n",
    "# Order the DataFrame based on the mean 'LLPS_score' and filtered counts\n",
    "new_df_expanded_filtered=new_df_expanded.copy()\n",
    "new_df_expanded_filtered = new_df_expanded_filtered.loc[new_df_expanded_filtered['Condensate'].isin(condensate_counts_filtered.index)]\n",
    "new_df_expanded_filtered.Subcellular_Location=new_df_expanded_filtered.Subcellular_Location.cat.remove_unused_categories()\n",
    "\n",
    "condensate_colors_dict_filtered = {key: condensate_colors_dict[key] for key in condensate_counts_filtered.index}\n",
    "\n",
    "new_df_expanded_filtered.Condensate=new_df_expanded_filtered.Condensate.cat.remove_unused_categories()\n",
    "\n",
    "# Create a boxplot using seaborn\n",
    "plt.figure(figsize=(20, 6))\n",
    "\n",
    "# sns.set_palette([location_color[loc] for loc in new_df_expanded['Subcellular_Location'].unique()])\n",
    "\n",
    "boxplot = sns.violinplot(x='Condensate', y='LLPS_score', data=new_df_expanded_filtered,palette=condensate_colors_dict_filtered.values(),dodge=True)\n",
    "# sns.swarmplot(x='Condensate', y='LLPS_score',size=5, data=new_df_expanded, color='black',alpha=.4)\n",
    "plt.xlabel(\"DrLLPS condensate category\")\n",
    "plt.xticks(rotation=45, ha='right')  # Rotate x-axis labels for better readability\n",
    "# plt.title('Boxplot of LLPS Scores by Condensate (Counts >= 5)')\n",
    "plt.axhline(0.5,linestyle=\"dashed\",color=\"grey\",lw=3)\n",
    "# Annotate each box with the number of proteins\n",
    "for i, count in enumerate(condensate_counts_filtered):\n",
    "    print(i,count)\n",
    "    boxplot.text(i, 1.27, f'n={count}', ha='center', va='bottom', color='black')\n",
    "legend_labels = [loc for loc in new_df_expanded_filtered['Subcellular_Location'].cat.categories]\n",
    "legend_colors = [location_color[loc] for loc in legend_labels]\n",
    "legend_elements = [plt.Line2D([0], [0], marker='o', color='w', label=label, \n",
    "                              markerfacecolor=color, markersize=10) for label, color in zip(legend_labels, legend_colors)]\n",
    "boxplot.legend(handles=legend_elements,title='Subcellular Location', bbox_to_anchor=(1,1))\n",
    "# plt.savefig(plots_folder+\"LLPS_score_condensate_type_color_n_15.pdf\",bbox_inches=\"tight\")\n",
    "    \n",
    "plt.show()\n",
    "# plt.savefig(\"LLPS_score_condensate_type.pdf\",bbox_inches=\"tight\"),plt.close()"
   ]
  }
 ],
 "metadata": {
  "kernelspec": {
   "display_name": "scRAPID-venv",
   "language": "python",
   "name": "scrapid-venv"
  },
  "language_info": {
   "codemirror_mode": {
    "name": "ipython",
    "version": 3
   },
   "file_extension": ".py",
   "mimetype": "text/x-python",
   "name": "python",
   "nbconvert_exporter": "python",
   "pygments_lexer": "ipython3",
   "version": "3.9.5"
  },
  "toc": {
   "base_numbering": 1,
   "nav_menu": {},
   "number_sections": true,
   "sideBar": true,
   "skip_h1_title": false,
   "title_cell": "Table of Contents",
   "title_sidebar": "Contents",
   "toc_cell": false,
   "toc_position": {},
   "toc_section_display": true,
   "toc_window_display": false
  }
 },
 "nbformat": 4,
 "nbformat_minor": 5
}
