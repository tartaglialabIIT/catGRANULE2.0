{
 "cells": [
  {
   "cell_type": "code",
   "execution_count": null,
   "id": "0e24b37f",
   "metadata": {},
   "outputs": [],
   "source": [
    "%matplotlib inline"
   ]
  },
  {
   "cell_type": "code",
   "execution_count": null,
   "id": "5f7bcfda",
   "metadata": {},
   "outputs": [],
   "source": [
    "import pandas as pd\n",
    "import numpy as np\n",
    "import matplotlib.pyplot as plt"
   ]
  },
  {
   "cell_type": "markdown",
   "id": "289d3499-fe60-4c1d-9611-75c3a04ce154",
   "metadata": {},
   "source": [
    "# Feature family mapping"
   ]
  },
  {
   "cell_type": "code",
   "execution_count": null,
   "id": "9c8c0db7-be45-4cec-8feb-540ff527aac4",
   "metadata": {},
   "outputs": [],
   "source": [
    "# Load the dataframe of feature families\n",
    "feature_family_df=pd.read_excel(\"Supplementary_Table_S2.xlsx\",index_col=\"Feature\")\n",
    "feature_family_df=feature_family_df.loc[:,[\"Feature_ID\",\"Family\",\"Type\"]]\n",
    "feature_family_df[\"Family\"]=feature_family_df.Family.astype(\"category\")\n",
    "feature_family_df.Family.cat.categories"
   ]
  },
  {
   "cell_type": "code",
   "execution_count": null,
   "id": "af198ca8-7b25-4ab7-a787-25697cb62b63",
   "metadata": {},
   "outputs": [],
   "source": [
    "feature_family_df[\"Family\"]=feature_family_df[\"Family\"].cat.reorder_categories(['Aggregation','LowFolding', 'AlphaHelix', 'BetaSheet',\n",
    "       'Burial', 'Disorder', 'Hydrophobicity','Membrane', 'Turn','NucleicAcidBinding','Phenomenological',\n",
    "       'Secondary_Structure_Full','Secondary_Structure_Ext','Geometry','Charge', 'AlphaFold_Disorder',\n",
    "        'RNABinding'])\n",
    "feature_mapping_dict=dict(zip(feature_family_df.index,feature_family_df.Feature_ID))"
   ]
  },
  {
   "cell_type": "markdown",
   "id": "f03d1563-bf10-45cd-b68d-4c658764df29",
   "metadata": {},
   "source": [
    "# Load the results of the features vs iterations analysis"
   ]
  },
  {
   "cell_type": "code",
   "execution_count": null,
   "id": "34decb61",
   "metadata": {},
   "outputs": [],
   "source": [
    "res=pd.read_csv(\"results.txt\",delimiter=\"\\t\",header=None)"
   ]
  },
  {
   "cell_type": "code",
   "execution_count": null,
   "id": "bcd3c004",
   "metadata": {},
   "outputs": [],
   "source": [
    "sel_ft=[]\n",
    "for i in range(len(res)):\n",
    "    sel_ft.append(len(res.iloc[i,6:].dropna()))"
   ]
  },
  {
   "cell_type": "markdown",
   "id": "7245335e-b559-42e4-84e5-8aa0e5caed4b",
   "metadata": {},
   "source": [
    "## Plot the results"
   ]
  },
  {
   "cell_type": "code",
   "execution_count": null,
   "id": "c77e819f",
   "metadata": {},
   "outputs": [],
   "source": [
    "import matplotlib\n",
    "matplotlib.rcParams.update({'font.size': 14})\n",
    "\n",
    "fig,ax=plt.subplots(1,3,figsize=(14,4))\n",
    "\n",
    "ax[0].set_xlabel(\"Iteration\")\n",
    "ax[0].set_ylabel(\"AUROC\")\n",
    "ax[0].scatter(res[0],res[2],s=10,lw=3,label=\"Train\")\n",
    "ax[0].scatter(res[0],res[3],s=10,lw=3,label=\"Test\")\n",
    "\n",
    "ax[1].set_xlabel(\"Size of feature pool\")\n",
    "ax[1].set_ylabel(\"AUROC\")\n",
    "ax[1].scatter(res[4],res[2],s=10,lw=3,label=\"Train\")\n",
    "ax[1].scatter(res[4],res[3],s=10,lw=3,label=\"Test\")\n",
    "# ax[1].set_xscale(\"log\")\n",
    "ax[1].legend(loc=0)\n",
    "ax[2].set_ylabel(\"Number of selected features\")\n",
    "ax[2].set_xlabel(\"Iteration\")\n",
    "ax[2].scatter(res[0],sel_ft,s=10,lw=3)\n",
    "fig.tight_layout()\n",
    "# plt.show()\n",
    "plt.savefig(\"Rec_Ft_Elim.pdf\",bbox_inches=\"tight\"),plt.close()"
   ]
  },
  {
   "cell_type": "code",
   "execution_count": null,
   "id": "c3ea2717",
   "metadata": {},
   "outputs": [],
   "source": [
    "X=pd.read_csv(\"../DATASETS/TrainSet_data.csv\",index_col=0)\n",
    "X_phys_chem=X.iloc[:,:82]"
   ]
  },
  {
   "cell_type": "code",
   "execution_count": null,
   "id": "8eb30a42-d41f-4835-828d-838ed79dfe7d",
   "metadata": {},
   "outputs": [],
   "source": [
    "# Correlation clustermap\n",
    "X_new=X.copy()\n",
    "X_new.columns=X_new.columns.map(feature_mapping_dict)\n",
    "corrmat1 = X_new.corr()"
   ]
  },
  {
   "cell_type": "code",
   "execution_count": null,
   "id": "5094d533-adc2-4b52-b37e-716a3184af7f",
   "metadata": {},
   "outputs": [],
   "source": [
    "import seaborn as sns\n",
    "fig=sns.clustermap(corrmat1, method=\"complete\", cmap='Spectral_r', annot=False,yticklabels=True,xticklabels=True ,\n",
    "               annot_kws={\"size\": 6}, vmin=-1, vmax=1, figsize=(25,25));\n",
    "fig.savefig(\"Clustermap_New.pdf\")\n",
    "plt.show()"
   ]
  },
  {
   "cell_type": "markdown",
   "id": "3e09e247-0533-41bc-9756-c9a18633be96",
   "metadata": {},
   "source": [
    "## Correlation matrices between iterations"
   ]
  },
  {
   "cell_type": "code",
   "execution_count": null,
   "id": "f25bb079",
   "metadata": {
    "tags": []
   },
   "outputs": [],
   "source": [
    "import numpy as np\n",
    "import pandas as pd\n",
    "import seaborn as sns\n",
    "import matplotlib.pyplot as plt\n",
    "from scipy.cluster import hierarchy\n",
    "from scipy.spatial.distance import squareform\n",
    "import plotly.graph_objects as go\n",
    "from matplotlib.backends.backend_pdf import PdfPages\n",
    "\n",
    "sns.set(font_scale=1.4)\n",
    "\n",
    "# Function to compute correlation matrix and plot using seaborn\n",
    "def plot_correlation_matrix(matrix, iteration_labels,selected_features):\n",
    "    \n",
    "    with PdfPages(\"Corr_Matrices_Iterations_New.pdf\") as pdf:\n",
    "        correlation_matrices = []\n",
    "\n",
    "        for i in range(len(iteration_labels) - 1):\n",
    "            features_i = selected_features[i]\n",
    "            features_j = selected_features[i + 1]\n",
    "\n",
    "            matrix_i = matrix.loc[:, features_i]\n",
    "            matrix_j = matrix.loc[:, features_j]\n",
    "        \n",
    "\n",
    "            correlation_matrix = pd.concat([matrix_i, matrix_j], axis=1).corr()\n",
    "            correlation_matrix = correlation_matrix.loc[selected_features[i],selected_features[i+1]]\n",
    "\n",
    "            correlation_matrices.append(correlation_matrix)\n",
    "\n",
    "        for i, corr_matrix in enumerate(correlation_matrices):\n",
    "            print(res.iloc[i,2],res.iloc[i+1,2])\n",
    "            fig=sns.clustermap(corr_matrix, cmap='coolwarm', annot=False, fmt=\".2f\",yticklabels=True,xticklabels=True,\n",
    "                       figsize=(30, 30))\n",
    "                    \n",
    "            plt.title(f'Correlation Matrix: Iteration {iteration_labels[i]} to {iteration_labels[i+1]} %.2f %.2f' % (res.iloc[i,2],res.iloc[i+1,2]),\n",
    "                 fontsize=32)\n",
    "            pdf.savefig()\n",
    "            plt.close()\n",
    "\n",
    "\n",
    "\n",
    "\n",
    "# Example usage\n",
    "matrix_path = \"../DATASETS/TrainSet_data.csv\"\n",
    "iteration_labels=list(res[0])\n",
    "matrix = pd.read_csv(matrix_path, index_col=0)\n",
    "matrix = matrix.fillna(1.0)\n",
    "matrix.columns=matrix.columns.map(feature_mapping_dict)\n",
    "selected_features=[]\n",
    "selected_features_mapped=[]\n",
    "\n",
    "for i in range(len(res)):\n",
    "    selected_features.append(list(res.iloc[i,6:].dropna()))\n",
    "    selected_features_mapped.append(list(res.iloc[i,6:].dropna().map(feature_mapping_dict)))\n",
    "plot_correlation_matrix(matrix, iteration_labels,selected_features_mapped)"
   ]
  },
  {
   "cell_type": "markdown",
   "id": "ce98391b-1d37-4ed7-9806-c8d72ff8b112",
   "metadata": {},
   "source": [
    "## Correlation Graph of features vs iterations"
   ]
  },
  {
   "cell_type": "code",
   "execution_count": null,
   "id": "c0692404",
   "metadata": {},
   "outputs": [],
   "source": [
    "import numpy as np\n",
    "import pandas as pd\n",
    "import seaborn as sns\n",
    "import matplotlib.pyplot as plt\n",
    "from scipy.cluster import hierarchy\n",
    "from scipy.spatial.distance import squareform\n",
    "import plotly.graph_objects as go\n",
    "import networkx as nx\n",
    "from networkx.drawing.nx_agraph import graphviz_layout\n",
    "from ete3 import Tree\n",
    "\n",
    "# Function to plot clustering tree with arrows based on correlation\n",
    "def plot_clustering_tree_with_arrows(matrix, iteration_labels,selected_features, correlation_threshold=0.8):\n",
    "    G = nx.Graph()\n",
    "    print(len(iteration_labels))\n",
    "\n",
    "    for i in range(len(iteration_labels) - 1):\n",
    "        print(i)\n",
    "        features_i = selected_features[i]\n",
    "        features_j = selected_features[i + 1]\n",
    "\n",
    "        matrix_i = matrix.loc[:, features_i]\n",
    "        matrix_j = matrix.loc[:, features_j]\n",
    "        correlation_matrix = pd.concat([matrix_i, matrix_j], axis=1).corr()\n",
    "        correlation_matrix = correlation_matrix.loc[selected_features[i],selected_features[i+1]]\n",
    "\n",
    "        for feature_i in features_i:\n",
    "            for feature_j in features_j:\n",
    "                correlation = correlation_matrix.loc[feature_i, feature_j]\n",
    "                # print(i,correlation)\n",
    "\n",
    "                if abs(correlation) > correlation_threshold:\n",
    "                    G.add_edge(f'{iteration_labels[i]}_{feature_i}', f'{iteration_labels[i+1]}_{feature_j}',\n",
    "                               weight=correlation)\n",
    "       \n",
    "    return G\n",
    "\n",
    "# Example usage\n",
    "\n",
    "matrix_path = \"../DATASETS/TrainSet_data.csv\"\n",
    "iteration_labels=list(res[0])\n",
    "matrix = pd.read_csv(matrix_path, index_col=0)\n",
    "matrix = matrix.fillna(1.0)\n",
    "matrix.columns=matrix.columns.map(feature_mapping_dict)\n",
    "selected_features=[]\n",
    "selected_features_mapped=[]\n",
    "\n",
    "for i in range(len(res)):\n",
    "    selected_features.append(list(res.iloc[i,6:].dropna()))\n",
    "    selected_features_mapped.append(list(res.iloc[i,6:].dropna().map(feature_mapping_dict)))\n",
    "\n",
    "\n",
    "G= plot_clustering_tree_with_arrows(matrix, iteration_labels,selected_features_mapped)"
   ]
  },
  {
   "cell_type": "code",
   "execution_count": null,
   "id": "1cccbc8f-02ac-4847-9989-b480f540f0be",
   "metadata": {},
   "outputs": [],
   "source": [
    "i=0\n",
    "for sel_ft in selected_features_mapped:\n",
    "    for ft in sel_ft:\n",
    "        ft=str(i)+\"_\"+ft\n",
    "        if ft not in list(G.nodes):\n",
    "            G.add_node(ft)\n",
    "    i+=1"
   ]
  },
  {
   "cell_type": "code",
   "execution_count": null,
   "id": "a61326c3-4e90-44f6-a762-13ab948fd6a2",
   "metadata": {},
   "outputs": [],
   "source": [
    "G.nodes"
   ]
  },
  {
   "cell_type": "code",
   "execution_count": null,
   "id": "eb5fcfe3-5e19-4f96-897c-c195fdaaf267",
   "metadata": {},
   "outputs": [],
   "source": [
    "from sklearn.preprocessing import LabelEncoder\n",
    "\n",
    "# Group nodes by their prefixes\n",
    "# Create a directed graph and add edges based on your criteria\n",
    "G = nx.DiGraph(G)\n",
    "\n",
    "# Use spring_layout for graph layout\n",
    "pos = nx.spring_layout(G, seed=42)\n",
    "\n",
    "grouped_nodes = {}\n",
    "for node, position in pos.items():\n",
    "    prefix = node.split('_')[0]\n",
    "    if prefix not in grouped_nodes:\n",
    "        grouped_nodes[prefix] = []\n",
    "    grouped_nodes[prefix].append((node, position))\n",
    "\n",
    "# Sort groups by prefix and then by the number following the underscore\n",
    "sorted_groups = sorted(grouped_nodes.items(), key=lambda x: (int(x[0]), x[1]))\n",
    "\n",
    "# Calculate equally spaced x-coordinates for each group\n",
    "x_offsets = {}\n",
    "x_increment = 0.1\n",
    "for i, (prefix, nodes) in enumerate(sorted_groups):\n",
    "    x_offsets[prefix] = i * x_increment\n",
    "\n",
    "# Calculate equally spaced and centered y-coordinates for each node within a group\n",
    "y_offsets = {}\n",
    "y_increment = 0.2\n",
    "for prefix, nodes in sorted_groups:\n",
    "    num_nodes = len(nodes)\n",
    "    for i, (node, position) in enumerate(nodes):\n",
    "        y_offsets[node] = (i - (num_nodes - 1) / 2) * y_increment + 0.5\n",
    "\n",
    "new_positions = {}\n",
    "node_colors = []\n",
    "for prefix, nodes in sorted_groups:\n",
    "    for node, position in nodes:\n",
    "        new_positions[node] = np.array([x_offsets[prefix], y_offsets[node]])\n",
    "        node_colors.append(prefix)\n",
    "# Convert node_colors to numeric values using LabelEncoder\n",
    "label_encoder = LabelEncoder()\n",
    "numeric_colors = label_encoder.fit_transform(node_colors)"
   ]
  },
  {
   "cell_type": "code",
   "execution_count": null,
   "id": "5e1f578e-1376-4984-9b4b-561d58dcbcf4",
   "metadata": {},
   "outputs": [],
   "source": [
    "# Draw the graph\n",
    "plt.figure(figsize=(40, 40))\n",
    "nx.draw(G, new_positions, with_labels=True, arrows=False, node_size=800, font_size=11, font_color=\"black\",node_color=\"skyblue\",\n",
    "        font_weight=\"bold\", width=1, alpha=0.7, edge_color=\"gray\")\n",
    "\n",
    "plt.savefig(\"Features_vs_Iteration_Graph_corr_08.pdf\",bbox_inches=\"tight\"),plt.close()"
   ]
  },
  {
   "cell_type": "code",
   "execution_count": null,
   "id": "c263f869-a8c4-401c-b181-f26fa6170fc5",
   "metadata": {},
   "outputs": [],
   "source": [
    "new_selected_features=[]\n",
    "\n",
    "for sel_ft in selected_features:\n",
    "    tmp_sel_ft=[i for i in sel_ft if i in list(families_df.Feature)]\n",
    "    new_selected_features.append(tmp_sel_ft)"
   ]
  },
  {
   "cell_type": "code",
   "execution_count": null,
   "id": "efe11db2-b528-44eb-abbb-469c102dbdc7",
   "metadata": {},
   "outputs": [],
   "source": [
    "# Convert the DataFrame to a dictionary where features are keys and families are values\n",
    "families = feature_family_df.set_index('Feature_ID')['Family'].to_dict()"
   ]
  },
  {
   "cell_type": "markdown",
   "id": "2435a9bb-5bff-4168-9334-84d475aef028",
   "metadata": {},
   "source": [
    "## Stacked Area Chart"
   ]
  },
  {
   "cell_type": "code",
   "execution_count": null,
   "id": "c5a6617b-0b51-4691-9c6c-fdec5cf436c5",
   "metadata": {},
   "outputs": [],
   "source": [
    "import pandas as pd\n",
    "import matplotlib.pyplot as plt\n",
    "\n",
    "sns.reset_defaults()\n",
    "# Example data\n",
    "iteration_data = selected_features_mapped\n",
    "\n",
    "# Example DataFrame\n",
    "feature_families_df = feature_family_df.copy()\n",
    "\n",
    "# Create a mapping from feature to family and color\n",
    "feature_mapping = dict(zip(feature_families_df['Feature_ID'], feature_families_df['Family']))\n",
    "mapped_iteration_data = [[feature_mapping[feature] for feature in iteration] for iteration in iteration_data]\n",
    "\n",
    "# Create a DataFrame with counts for each family at each iteration\n",
    "iteration_counts = {}\n",
    "\n",
    "for i, iteration in enumerate(mapped_iteration_data, start=1):\n",
    "    for family in iteration:\n",
    "        iteration_counts.setdefault(f'Iteration {i}', {}).setdefault(family, 0)\n",
    "        iteration_counts[f'Iteration {i}'][family] += 1\n",
    "\n",
    "stacked_data = pd.DataFrame(iteration_counts).T.fillna(0)\n",
    "\n",
    "# Plot the stacked area chart\n",
    "fig, ax = plt.subplots()\n",
    "# print([color_mapping[family] for family in stacked_data.columns])\n",
    "\n",
    "stacked_data.index=np.arange(1,16,1)\n",
    "# Use the colors directly from the color_mapping\n",
    "# stacked_data.plot(kind='area', stacked=True,colormap=\"Pastel2\",ax=ax)#, colormap=[color_mapping[family] for family in stacked_data.columns], ax=ax)\n",
    "colors = plt.cm.tab20.colors[:stacked_data.shape[1]]\n",
    "stacked_data.plot(kind='area', stacked=True, color=colors, ax=ax)\n",
    "# Customize the plot\n",
    "ax.set_title('Stacked Area Chart of Feature Families')\n",
    "ax.set_xlabel('Iteration')\n",
    "ax.set_ylabel('Count')\n",
    "ax.legend(title='Family', bbox_to_anchor=(1.05, 1), loc='upper left')\n",
    "\n",
    "plt.savefig(\"stacked_area_chart_feature_families_vs_iteration.pdf\",bbox_inches=\"tight\")\n",
    "plt.show()\n"
   ]
  },
  {
   "cell_type": "code",
   "execution_count": null,
   "id": "ba21f342-ac63-4236-97b3-53619c8765a2",
   "metadata": {},
   "outputs": [],
   "source": [
    "import pandas as pd\n",
    "import matplotlib.pyplot as plt\n",
    "\n",
    "sns.reset_defaults()\n",
    "stacked_data_percentage=stacked_data.div(stacked_data.sum(axis=1), axis=0) * 100\n",
    "\n",
    "# Plot the stacked area chart\n",
    "fig, ax = plt.subplots()\n",
    "# print([color_mapping[family] for family in stacked_data.columns])\n",
    "\n",
    "stacked_data_percentage.index=np.arange(1,16,1)\n",
    "# Use the colors directly from the color_mapping\n",
    "# stacked_data.plot(kind='area', stacked=True,colormap=\"Pastel2\",ax=ax)#, colormap=[color_mapping[family] for family in stacked_data.columns], ax=ax)\n",
    "colors = plt.cm.tab20.colors[:stacked_data_percentage.shape[1]]\n",
    "stacked_data_percentage.plot(kind='area', stacked=True, color=colors, ax=ax)\n",
    "# Customize the plot\n",
    "ax.set_title('Stacked Area Chart of Feature Families')\n",
    "ax.set_xlabel('Iteration')\n",
    "ax.set_ylabel('Percentage')\n",
    "ax.legend(title='Family', bbox_to_anchor=(1.05, 1), loc='upper left')\n",
    "\n",
    "plt.savefig(\"stacked_area_chart_feature_families_vs_iteration_percentage.pdf\",bbox_inches=\"tight\")\n",
    "plt.show()"
   ]
  },
  {
   "cell_type": "code",
   "execution_count": null,
   "id": "a32c4b50-fb28-4444-9b79-13d870f252f4",
   "metadata": {},
   "outputs": [],
   "source": [
    "family_colors=dict(zip(stacked_data.columns,colors))"
   ]
  }
 ],
 "metadata": {
  "kernelspec": {
   "display_name": "scRAPID-venv",
   "language": "python",
   "name": "scrapid-venv"
  },
  "language_info": {
   "codemirror_mode": {
    "name": "ipython",
    "version": 3
   },
   "file_extension": ".py",
   "mimetype": "text/x-python",
   "name": "python",
   "nbconvert_exporter": "python",
   "pygments_lexer": "ipython3",
   "version": "3.9.5"
  },
  "toc": {
   "base_numbering": 1,
   "nav_menu": {},
   "number_sections": true,
   "sideBar": true,
   "skip_h1_title": false,
   "title_cell": "Table of Contents",
   "title_sidebar": "Contents",
   "toc_cell": false,
   "toc_position": {},
   "toc_section_display": true,
   "toc_window_display": false
  }
 },
 "nbformat": 4,
 "nbformat_minor": 5
}
