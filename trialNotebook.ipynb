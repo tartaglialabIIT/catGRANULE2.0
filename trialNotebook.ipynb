{
 "cells": [
  {
   "attachments": {},
   "cell_type": "markdown",
   "metadata": {},
   "source": [
    "# catGRANULE 2.0 tutorial"
   ]
  },
  {
   "cell_type": "code",
   "execution_count": 1,
   "metadata": {},
   "outputs": [],
   "source": [
    "import numpy as np\n",
    "from matplotlib import pyplot as plt\n",
    "from Bio.Seq import Seq\n",
    "from Bio import SeqIO\n",
    "from glob import glob\n",
    "\n",
    "import math\n",
    "from sklearn.decomposition import PCA\n",
    "\n",
    "import random\n",
    "from dtw import dtw\n",
    "from scipy.signal import savgol_filter\n",
    "\n",
    "import subprocess\n",
    "import os\n",
    "import pandas as pd\n",
    "import random\n",
    "\n",
    "from itertools import cycle\n",
    "\n",
    "from sklearn import svm, datasets\n",
    "from sklearn.metrics import roc_curve, auc\n",
    "from sklearn.model_selection import train_test_split\n",
    "from sklearn.preprocessing import label_binarize\n",
    "from sklearn.multiclass import OneVsRestClassifier\n",
    "from scipy import interp\n",
    "from sklearn.metrics import roc_auc_score\n",
    "from sklearn.metrics import roc_auc_score\n",
    "\n",
    "# Import some data to play with\n",
    "from scipy.stats import pearsonr\n",
    "from stringScalesFunctions import *\n",
    "\n",
    "from collections import Counter\n",
    "from mpl_toolkits.mplot3d import Axes3D\n",
    "\n",
    "from compute_profiles_and_predictions import *\n",
    "import re\n",
    "\n",
    "from catgranuleFunctions import *"
   ]
  },
  {
   "cell_type": "code",
   "execution_count": 2,
   "metadata": {},
   "outputs": [],
   "source": [
    "%matplotlib qt"
   ]
  },
  {
   "cell_type": "markdown",
   "metadata": {},
   "source": [
    "##  Load up TDP43 fasta file"
   ]
  },
  {
   "cell_type": "code",
   "execution_count": 3,
   "metadata": {},
   "outputs": [],
   "source": [
    "seqTdp43=list(SeqIO.parse(\"./examples/TDP43.fasta\", \"fasta\"))\n",
    "\n",
    "seq=str(seqTdp43[0].seq)"
   ]
  },
  {
   "cell_type": "markdown",
   "metadata": {},
   "source": [
    "### generate profile and score from a string"
   ]
  },
  {
   "cell_type": "code",
   "execution_count": 4,
   "metadata": {},
   "outputs": [
    {
     "name": "stderr",
     "output_type": "stream",
     "text": [
      "/Users/mmonti/anaconda3/envs/predenv/lib/python3.9/site-packages/sklearn/base.py:443: UserWarning: X has feature names, but StandardScaler was fitted without feature names\n",
      "  warnings.warn(\n"
     ]
    }
   ],
   "source": [
    "seq=str(seqTdp43[0].seq)\n",
    "WT_scores,WT_profiles=catGranule2_str(seq)"
   ]
  },
  {
   "cell_type": "code",
   "execution_count": 8,
   "metadata": {},
   "outputs": [
    {
     "data": {
      "text/plain": [
       "<matplotlib.legend.Legend at 0x1aee38f70>"
      ]
     },
     "execution_count": 8,
     "metadata": {},
     "output_type": "execute_result"
    }
   ],
   "source": [
    "plt.plot(WT_profiles, label= 'Score = %.3lf'%WT_scores)\n",
    "plt.xlabel('Residue position')\n",
    "plt.ylabel('LLPS propensity')\n",
    "plt.title('%s'%(seqTdp43[0].id))\n",
    "plt.legend()"
   ]
  },
  {
   "cell_type": "markdown",
   "metadata": {},
   "source": [
    "### from uniprot id"
   ]
  },
  {
   "cell_type": "code",
   "execution_count": 12,
   "metadata": {},
   "outputs": [
    {
     "name": "stderr",
     "output_type": "stream",
     "text": [
      "/Users/mmonti/anaconda3/envs/predenv/lib/python3.9/site-packages/sklearn/base.py:443: UserWarning: X has feature names, but StandardScaler was fitted without feature names\n",
      "  warnings.warn(\n"
     ]
    },
    {
     "data": {
      "text/plain": [
       "<matplotlib.legend.Legend at 0x1b0e83e20>"
      ]
     },
     "execution_count": 12,
     "metadata": {},
     "output_type": "execute_result"
    }
   ],
   "source": [
    "seqTdp43=list(SeqIO.parse(\"./examples/TDP43.fasta\", \"fasta\"))\n",
    "proteinImport = fromUniprot('Q13148')[0]\n",
    "seq=str(proteinImport.seq)\n",
    "\n",
    "seq=str(seqTdp43[0].seq)\n",
    "WT_scores,WT_profiles=catGranule2_str(seq)\n",
    "plt.plot(WT_profiles, label= 'Score = %.3lf'%WT_scores)\n",
    "plt.xlabel('Residue position')\n",
    "plt.ylabel('LLPS propensity')\n",
    "plt.title('%s'%(proteinImport.id))\n",
    "plt.legend()"
   ]
  },
  {
   "cell_type": "code",
   "execution_count": 11,
   "metadata": {},
   "outputs": [
    {
     "data": {
      "text/plain": [
       "'MSEYIRVTEDENDEPIEIPSEDDGTVLLSTVTAQFPGACGLRYRNPVSQCMRGVRLVEGILHAPDAGWGNLVYVVNYPKDNKRKMDETDASSAVKVKRAVQKTSDLIVLGLPWKTTEQDLKEYFSTFGEVLMVQVKKDLKTGHSKGFGFVRFTEYETQVKVMSQRHMIDGRWCDCKLPNSKQSQDEPLRSRKVFVGRCTEDMTEDELREFFSQYGDVMDVFIPKPFRAFAFVTFADDQIAQSLCGEDLIIKGISVHISNAEPKHNSNRQLERSGRFGGNPGGFGNQGGFGNSRGGGAGLGNNQGSNMGGGMNFGAFSINPAMMAAAQAALQSSWGMMGMLASQQNQSGPSGNNQNQGNMQREPNQAFGSGNNSYSGSNSGAAIGWGSASNAGSGSGFNGGFGSSMDSKSSGWGM'"
      ]
     },
     "execution_count": 11,
     "metadata": {},
     "output_type": "execute_result"
    }
   ],
   "source": [
    "str(fromUniprot('Q13148')[0].seq)"
   ]
  },
  {
   "cell_type": "markdown",
   "metadata": {},
   "source": [
    "### generate profile and score form a fasta as lists or as dataframe\n"
   ]
  },
  {
   "cell_type": "code",
   "execution_count": 26,
   "metadata": {},
   "outputs": [
    {
     "name": "stderr",
     "output_type": "stream",
     "text": [
      "/Users/mmonti/anaconda3/envs/predenv/lib/python3.9/site-packages/sklearn/base.py:443: UserWarning: X has feature names, but StandardScaler was fitted without feature names\n",
      "  warnings.warn(\n"
     ]
    }
   ],
   "source": [
    "fasta_file='./examples/newMutations_TDP43_mutated.fasta'\n",
    "\n",
    "prof, scores = compute_score_and_profile_from_fasta_file(fasta_file)"
   ]
  },
  {
   "cell_type": "code",
   "execution_count": 31,
   "metadata": {},
   "outputs": [
    {
     "name": "stderr",
     "output_type": "stream",
     "text": [
      "/Users/mmonti/anaconda3/envs/predenv/lib/python3.9/site-packages/sklearn/base.py:443: UserWarning: X has feature names, but StandardScaler was fitted without feature names\n",
      "  warnings.warn(\n"
     ]
    }
   ],
   "source": [
    "fDf = compute_score_profile_fatsa_DF(fasta_file)"
   ]
  },
  {
   "cell_type": "code",
   "execution_count": 35,
   "metadata": {},
   "outputs": [
    {
     "data": {
      "text/html": [
       "<div>\n",
       "<style scoped>\n",
       "    .dataframe tbody tr th:only-of-type {\n",
       "        vertical-align: middle;\n",
       "    }\n",
       "\n",
       "    .dataframe tbody tr th {\n",
       "        vertical-align: top;\n",
       "    }\n",
       "\n",
       "    .dataframe thead th {\n",
       "        text-align: right;\n",
       "    }\n",
       "</style>\n",
       "<table border=\"1\" class=\"dataframe\">\n",
       "  <thead>\n",
       "    <tr style=\"text-align: right;\">\n",
       "      <th></th>\n",
       "      <th>Name</th>\n",
       "      <th>LLPS_Score</th>\n",
       "      <th>LLPS_Profile</th>\n",
       "    </tr>\n",
       "  </thead>\n",
       "  <tbody>\n",
       "    <tr>\n",
       "      <th>0</th>\n",
       "      <td>TDP43_333_K</td>\n",
       "      <td>0.881716</td>\n",
       "      <td>[0.3, 0.295, 0.255, 0.235, 0.28, 0.56, 0.61, 0...</td>\n",
       "    </tr>\n",
       "    <tr>\n",
       "      <th>1</th>\n",
       "      <td>TDP43_321_K</td>\n",
       "      <td>0.872718</td>\n",
       "      <td>[0.3, 0.295, 0.255, 0.235, 0.28, 0.56, 0.61, 0...</td>\n",
       "    </tr>\n",
       "    <tr>\n",
       "      <th>2</th>\n",
       "      <td>TDP43_327_P</td>\n",
       "      <td>0.861247</td>\n",
       "      <td>[0.3, 0.295, 0.255, 0.235, 0.28, 0.56, 0.61, 0...</td>\n",
       "    </tr>\n",
       "    <tr>\n",
       "      <th>3</th>\n",
       "      <td>TDP43_327_V</td>\n",
       "      <td>0.874903</td>\n",
       "      <td>[0.3, 0.295, 0.255, 0.235, 0.28, 0.56, 0.61, 0...</td>\n",
       "    </tr>\n",
       "    <tr>\n",
       "      <th>4</th>\n",
       "      <td>TDP43_359_Y</td>\n",
       "      <td>0.874290</td>\n",
       "      <td>[0.3, 0.295, 0.255, 0.235, 0.28, 0.56, 0.61, 0...</td>\n",
       "    </tr>\n",
       "    <tr>\n",
       "      <th>5</th>\n",
       "      <td>TDP43_334_I</td>\n",
       "      <td>0.871023</td>\n",
       "      <td>[0.3, 0.295, 0.255, 0.235, 0.28, 0.56, 0.61, 0...</td>\n",
       "    </tr>\n",
       "  </tbody>\n",
       "</table>\n",
       "</div>"
      ],
      "text/plain": [
       "          Name  LLPS_Score                                       LLPS_Profile\n",
       "0  TDP43_333_K    0.881716  [0.3, 0.295, 0.255, 0.235, 0.28, 0.56, 0.61, 0...\n",
       "1  TDP43_321_K    0.872718  [0.3, 0.295, 0.255, 0.235, 0.28, 0.56, 0.61, 0...\n",
       "2  TDP43_327_P    0.861247  [0.3, 0.295, 0.255, 0.235, 0.28, 0.56, 0.61, 0...\n",
       "3  TDP43_327_V    0.874903  [0.3, 0.295, 0.255, 0.235, 0.28, 0.56, 0.61, 0...\n",
       "4  TDP43_359_Y    0.874290  [0.3, 0.295, 0.255, 0.235, 0.28, 0.56, 0.61, 0...\n",
       "5  TDP43_334_I    0.871023  [0.3, 0.295, 0.255, 0.235, 0.28, 0.56, 0.61, 0..."
      ]
     },
     "execution_count": 35,
     "metadata": {},
     "output_type": "execute_result"
    }
   ],
   "source": [
    "fDf"
   ]
  },
  {
   "cell_type": "markdown",
   "metadata": {},
   "source": [
    "### generate dataframe from a single PDB or list of  PDB files\n",
    "\n"
   ]
  },
  {
   "cell_type": "code",
   "execution_count": 10,
   "metadata": {},
   "outputs": [
    {
     "name": "stderr",
     "output_type": "stream",
     "text": [
      "/Users/mmonti/anaconda3/envs/predenv/lib/python3.9/site-packages/openpyxl/worksheet/_read_only.py:81: UserWarning: Unknown extension is not supported and will be removed\n",
      "  for idx, row in parser.parse():\n",
      "/Users/mmonti/anaconda3/envs/predenv/lib/python3.9/site-packages/sklearn/base.py:443: UserWarning: X has feature names, but StandardScaler was fitted without feature names\n",
      "  warnings.warn(\n"
     ]
    }
   ],
   "source": [
    "a =compute_score_and_profile_from_pdb('./examples/AF-Q13148-F1-model_v4.pdb')"
   ]
  },
  {
   "cell_type": "code",
   "execution_count": 11,
   "metadata": {},
   "outputs": [
    {
     "name": "stderr",
     "output_type": "stream",
     "text": [
      "/Users/mmonti/anaconda3/envs/predenv/lib/python3.9/site-packages/openpyxl/worksheet/_read_only.py:81: UserWarning: Unknown extension is not supported and will be removed\n",
      "  for idx, row in parser.parse():\n",
      "/Users/mmonti/anaconda3/envs/predenv/lib/python3.9/site-packages/sklearn/base.py:443: UserWarning: X has feature names, but StandardScaler was fitted without feature names\n",
      "  warnings.warn(\n",
      "/Users/mmonti/anaconda3/envs/predenv/lib/python3.9/site-packages/openpyxl/worksheet/_read_only.py:81: UserWarning: Unknown extension is not supported and will be removed\n",
      "  for idx, row in parser.parse():\n",
      "/Users/mmonti/anaconda3/envs/predenv/lib/python3.9/site-packages/sklearn/base.py:443: UserWarning: X has feature names, but StandardScaler was fitted without feature names\n",
      "  warnings.warn(\n"
     ]
    }
   ],
   "source": [
    "b =compute_score_profile_ListPdb(['./examples/AF-Q13148-F1-model_v4.pdb','./examples/AF-X6R8D5-F1-model_v4.pdb'])"
   ]
  },
  {
   "cell_type": "markdown",
   "metadata": {},
   "source": [
    "## Mutation analysis of one single protein"
   ]
  },
  {
   "cell_type": "code",
   "execution_count": 105,
   "metadata": {},
   "outputs": [],
   "source": [
    "names=[]\n",
    "mutSeqList=[]\n",
    "\n",
    "fastaInput=list(SeqIO.parse(\"TDP43.fasta\", \"fasta\"))\n",
    "seq=str(fastaInput[0].seq)\n",
    "\n",
    "for i in range(len(seq)):\n",
    "    for am in aminoList:\n",
    "\n",
    "        pos=i\n",
    "        newAm = am\n",
    "        \n",
    "        names.append(fastaInput[0].id.split('|')[1]+'_'+str(pos)+'_'+str(newAm))\n",
    "\n",
    "        mutSeq= seqMutation(seq, pos,newAm)\n",
    "\n",
    "\n",
    "        mutSeqList.append(mutSeq)"
   ]
  },
  {
   "cell_type": "code",
   "execution_count": 106,
   "metadata": {},
   "outputs": [],
   "source": [
    "write_fasta(mutSeqList, names,'./examples/TPD_allMutation.fasta')"
   ]
  },
  {
   "cell_type": "code",
   "execution_count": 107,
   "metadata": {},
   "outputs": [],
   "source": [
    "fDf = compute_score_profile_fatsa_DF('./examples/TPD_allMutation.fasta')"
   ]
  },
  {
   "cell_type": "code",
   "execution_count": null,
   "metadata": {},
   "outputs": [
    {
     "name": "stderr",
     "output_type": "stream",
     "text": [
      "/Users/mmonti/anaconda3/envs/predenv/lib/python3.9/site-packages/sklearn/base.py:443: UserWarning: X has feature names, but StandardScaler was fitted without feature names\n",
      "  warnings.warn(\n"
     ]
    }
   ],
   "source": [
    "prof_wt, score_wt = compute_score_and_profile_from_fasta_file('./examples/TDP43.fasta')"
   ]
  },
  {
   "cell_type": "code",
   "execution_count": null,
   "metadata": {},
   "outputs": [],
   "source": [
    "fDf['mutation_score'] = fDf['LLPS_Profile'].apply(lambda x: np.sum(np.array(x) - prof_wt[0])/np.mean(prof_wt))"
   ]
  },
  {
   "cell_type": "code",
   "execution_count": 85,
   "metadata": {},
   "outputs": [],
   "source": [
    "count = 0\n",
    "hm = []\n",
    "for i in range(len(seq)):\n",
    "    hm.append([])\n",
    "    for am in aminoList:\n",
    "        hm[-1].append(fDf.mutation_score[count])\n",
    "\n",
    "        count =count+1"
   ]
  },
  {
   "cell_type": "code",
   "execution_count": 93,
   "metadata": {},
   "outputs": [],
   "source": [
    "plt.figure('HeatMap_mutation', figsize = (10,7))\n",
    "\n",
    "\n",
    "x_labels=range(1,np.shape(hm)[0]+1)\n",
    "y_labels=aminoList\n",
    "\n",
    "im=plt.imshow(np.transpose(hm), aspect='auto', origin='lower', interpolation=None, cmap='PiYG')\n",
    "plt.colorbar(im)\n",
    "\n",
    "\n",
    "# plt.xticks(ticks=range(len(x_labels)), labels=x_labels)  # Use the custom x-axis labels\n",
    "step = 25  # Show one label every 25\n",
    "plt.xticks(ticks=range(0, len(x_labels), step), labels=[x_labels[i] for i in range(0, len(x_labels), step)])\n",
    "\n",
    "\n",
    "\n",
    "plt.yticks(ticks=range(len(y_labels)), labels=y_labels)  # Use the custom y-axis labels\n",
    "\n",
    "# Optional: add labels for the axes\n",
    "plt.ylabel(\"amino-acid substitution\")\n",
    "plt.xlabel(\"sequence position\")\n",
    "plt.tight_layout()\n",
    "plt.savefig('MutationScan.pdf')"
   ]
  },
  {
   "cell_type": "code",
   "execution_count": 104,
   "metadata": {},
   "outputs": [],
   "source": [
    "plt.figure('profile_WT', figsize = (10,7))\n",
    "\n",
    "plt.plot(prof_wt[0], color='k')\n",
    "\n",
    "plt.xlabel(\"Residue position\")\n",
    "plt.ylabel(\"LLPS propensity\")\n",
    "plt.grid(alpha=0.3)\n",
    "plt.tight_layout()\n",
    "plt.savefig('Profile.pdf')"
   ]
  }
 ],
 "metadata": {
  "kernelspec": {
   "display_name": "Python 3 (ipykernel)",
   "language": "python",
   "name": "python3"
  },
  "language_info": {
   "codemirror_mode": {
    "name": "ipython",
    "version": 3
   },
   "file_extension": ".py",
   "mimetype": "text/x-python",
   "name": "python",
   "nbconvert_exporter": "python",
   "pygments_lexer": "ipython3",
   "version": "3.12.2"
  }
 },
 "nbformat": 4,
 "nbformat_minor": 4
}
