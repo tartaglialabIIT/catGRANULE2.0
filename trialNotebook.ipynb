{
 "cells": [
  {
   "cell_type": "markdown",
   "metadata": {},
   "source": [
    "# Example for the catgranule 2 webserver"
   ]
  },
  {
   "cell_type": "code",
   "execution_count": 1,
   "metadata": {},
   "outputs": [],
   "source": [
    "import numpy as np\n",
    "from matplotlib import pyplot as plt\n",
    "from Bio.Seq import Seq\n",
    "from Bio import SeqIO\n",
    "from glob import glob\n",
    "\n",
    "import math\n",
    "from sklearn.decomposition import PCA\n",
    "\n",
    "import random\n",
    "from dtw import dtw\n",
    "from scipy.signal import savgol_filter\n",
    "\n",
    "import subprocess\n",
    "import os\n",
    "import pandas as pd\n",
    "import random\n",
    "\n",
    "from itertools import cycle\n",
    "\n",
    "from sklearn import svm, datasets\n",
    "from sklearn.metrics import roc_curve, auc\n",
    "from sklearn.model_selection import train_test_split\n",
    "from sklearn.preprocessing import label_binarize\n",
    "from sklearn.multiclass import OneVsRestClassifier\n",
    "from scipy import interp\n",
    "from sklearn.metrics import roc_auc_score\n",
    "from sklearn.metrics import roc_auc_score\n",
    "\n",
    "# Import some data to play with\n",
    "from scipy.stats import pearsonr\n",
    "from stringScalesFunctions import *\n",
    "\n",
    "\n",
    "from collections import Counter\n",
    "from mpl_toolkits.mplot3d import Axes3D\n",
    "\n",
    "from compute_profiles_and_predictions import *\n",
    "#HumanProt = list(SeqIO.parse(\"HumanProteome.fasta\", \"fasta\"))\n",
    "import re\n",
    "\n",
    "from catgranuleFunctions import *\n"
   ]
  },
  {
   "cell_type": "code",
   "execution_count": 2,
   "metadata": {},
   "outputs": [],
   "source": [
    "c_o_c = ['Normalizedfrequencyofbeta-sheetinall-betaclass-Palauetal--Int-J-PeptideProteinRes-1981-19-394-401',\n",
    " 'Aggregationmed-Tartaglia-JMolBiol2008-380-2--425-36',\n",
    " 'Normalizedfrequencyofcoil-Nagano-J-Mol-Biol-1973-75-401-420',\n",
    " 'Aggregationhigh-Ferdandez-Escamilla-Nat-Biotechnol-2004-22-10--1302-6',\n",
    " 'Membrane-buriedpreferenceparameters-Argosetal--Eur-J-Biochem-1982-128-565-575',\n",
    " 'Hydrophobicity-Rao_Argos-Biochim-Biophys-Acta1986-869-197-214',\n",
    " 'Averagerelativeprobabilityofbeta-sheet-Kanehisa-Tsong-Biopolymers1980-19-1617-1628',\n",
    " 'Normalizedfrequencyofbeta-sheet-Chou-Fasman-Adv-Enzymol-1978-47-45-148',\n",
    " 'Normalizedfrequencyofmiddlehelix-Crawfordetal--Proc-Natl-Acad-Sci-USA1973-70-538-542',\n",
    " 'Compositionofaminoacidsinmembraneproteins-percent--Cedanoetal--J-Mol-Biol-1997-266-594-600',\n",
    " 'Normalizedfrequencyofbeta-sheet-Crawfordetal-Proc-Natl-Acad-Sci-USA1973-70-538-542',\n",
    " 'Averagevolumeofburiedresidue-Chothia-Nature1975-254-304-308',\n",
    " 'Meanareaburiedontransfer-Roseetal--Science1985-229-834-838',\n",
    " 'Hydrophobicity-Sweetetal--J-Mol-Biol-1983-171-479-488',\n",
    " 'NucleicAcidBinding-interface_center-Terribilinietal--RNA2006-12-1450-1462',\n",
    " 'Relativefrequencyinalpha-helix-Prabhakaran-Biochem-J-1990-269-691-696',\n",
    " 'Normalizedfrequencyofbeta-sheet-withweights-Levitt-Biochemistry1978-17-4277-4285',\n",
    " 'charge',\n",
    " 'Aggregation-Tartaglia-J-Mol-Biol-2010-402-919',\n",
    " 'Transmembraneregionsofnon-mt-proteins-Nakashimaetal--Proteins1990-8-173-178',\n",
    " 'Averagedturnpropensitiesinatransmembranehelix-Monneetal--J-Mol-Biol-1999-293-807-814',\n",
    " 'fg',\n",
    " 'Informationmeasureforpleated-sheet-Robson-Suzuki-J-Mol-Biol-1976-107-327-356',\n",
    " 'NucleicAcidBinding-classicalRBD-Castelloetal--Cell2011-149-1393-1406',\n",
    " 'Normalizedfrequencyofbeta-sheet-unweighted-Levitt-Biochemistry1978-17-4277-4285',\n",
    " 'Normalizedfrequencyofcoil-Tanaka-Scheraga-Macromolecules1977-10-9-20',\n",
    " 'Knowledge-basedmembrane-propensityscalefrom3D_HelixinMPtopodatabases-Punta-Maritan-Proteins2003-50-114-121',\n",
    " 'Ratioofburiedandaccessiblemolarfractions-Janin-Nature1979-277-491-492',\n",
    " 'Hydrophobicity-Black-Anal-Biochem-1991-193-72-82',\n",
    " 'Beta-sheet-Deleage-Roux-ProteinEngineering1987-1-289-294',\n",
    " 'Energytransferfromouttoin-95_buried--Radzicka-Wolfenden-Biochemistry1988-27-1664-1670',\n",
    " 'TOP-IDB-DunkerAK-ProteinPeptLett-2008-15-9--956',\n",
    " 'Aggregation-Pawar-J-Mol-Biol-2005-350-379',\n",
    " 'Normalizedcompositionofmembraneproteins-Nakashimaetal--Proteins1990-8-173-178',\n",
    " 'Hydrophobicity-Kyte_Doolittle-J-Mol-Biol-1982-157-105-132',\n",
    " 'Hydrophobicity-Eisenbergetal-J-Mol-Biol-1984-179-125-142',\n",
    " 'Hydrophobicity-Fauchereetal--Eur-J-Med-Chem-1983-18-369-375',\n",
    " 'Aggregation-Conchillo-Sole-BMCBioinformatics2007-8-65',\n",
    " 'Aggregation-Tartaglia-ProteinScience2005-14-2735-2740',\n",
    " 'UnfoldOverFold-DunkerAK-ProteinPeptLett-2008-15-9--956',\n",
    " 'Aggregationlow-Ferdandez-Escamilla-Nat-Biotechnol-2004-22-10--1302-6',\n",
    " 'Hydrophobicity-Janin-Nature1979-277-491-492',\n",
    " 'Turnpropensityscalefortransmembranehelices-Monneetal--J-Mol-Biol-1999-288-141-145',\n",
    " 'Normalizedfrequencyofalpha-helix-Burgessetal-Isr-J-Chem-1974-12-239-286',\n",
    " 'B-Value-DunkerAK-ProteinPeptLett-2008-15-9--956',\n",
    " 'TheChou-Fasmanparameterofthecoilconformation-Charton-Charton-J-Theor-Biol-1983-111-447-450',\n",
    " 'Normalizedfrequencyofalpha-helixinall-alphaclass-Palauetal--Int-J-PeptideProteinRes-1981-19-394-401',\n",
    " 'Percentageofburiedresidues-Janinetal--J-Mol-Biol-1978-125-357-386',\n",
    " 'NucleicAcidBinding-_interface_close-1-Terribilinietal--RNA2006-12-1450-1462',\n",
    " 'Informationmeasureforalpha-helix-Robson-Suzuki-J-Mol-Biol-1976-107-327-356',\n",
    " 'NucleicAcidBinding-interface-NucleicAcidsRes-2011-39-D277',\n",
    " 'Relativefrequencyinbeta-sheet-Prabhakaran-Biochem-J-1990-269-691-696',\n",
    " 'Aggregationhigh-Tartaglia-JMolBiol2008-380-2--425-36',\n",
    " 'Hydrophobicity-Abraham_Leo-Proteins-Structure-FunctionandGenetics1987-2-130-152',\n",
    " 'rg',\n",
    " 'Normalizedrelativefrequencyofcoil-Isogaietal--Biopolymers1980-19-1183-1210',\n",
    " 'NucleicAcidBinding-interface_close+1-Terribilinietal--RNA2006-12-1450-1462',\n",
    " 'Averageflexibilityindices-Bhaskaran-Ponnuswamy-Int-J-PeptideProteinRes-1988-32-241-255',\n",
    " 'Coil-Deleage-Roux-ProteinEngineering1987-1-289-294',\n",
    " 'Aggregationlow-Tartaglia-JMolBiol2008-380-2--425-36',\n",
    " 'Proportionofresidues95_buried-Chothia-J-Mol-Biol-1976-105-1-14',\n",
    " 'Normalizedfrequencyofalpha-helix-unweightedLevitt-Biochemistry1978-17-4277-4285',\n",
    " 'NucleicAcidBinding-nonclassicalRBD-Castelloetal--Cell2011-149-1393-1406',\n",
    " 'Normalizedfrequencyofalpha-helix-Chou-Fasman-Adv-Enzym-1978-47-45-148',\n",
    " 'Aggregationmed-Ferdandez-Escamilla-Nat-Biotechnol-2004-22-10--1302-6',\n",
    " 'Averagerelativeprobabilityofinnerbeta-sheet-Kanehisa-Tsong-Biopolymers1980-19-1617-1628',\n",
    " 'Propensitytobeburiedinside-Wertz-Scheraga-Macromolecules1978-11-9-15',\n",
    " 'DisProt-DunkerAK-ProteinPeptLett-2008-15-9--956',\n",
    " 'Hydrophobicity-Roseman-J-Mol-Biol-1988-200-513-522',\n",
    " 'Alpha-helix-Deleage-Roux-ProteinEngineering1987-1-289-294',\n",
    " 'Meanvolumesofresiduesburiedinproteininteriors-Harpazetal--Structure1994-2-641-649',\n",
    " 'Averagerelativeprobabilityofhelix-Kanehisa-Tsong-Biopolymers1980-19-1617-1628',\n",
    " 'NucleicAcidBinding-mRNAinteractome-Castelloetal--Cell2011-149-1393-1406',\n",
    " 'NucleicAcidBinding-HOH-NucleicAcidsRes-2011-39-D277',\n",
    " 'NucleicAcidBinding-HB-NucleicAcidsRes-2011-39-D277',\n",
    " 'Normalizedfrequencyofalpha-helix-withweights-Levitt-Biochemistry1978-17-4277-4285',\n",
    " 'NucleicAcidBinding-unknownRBD-Castelloetal--Cell2011-149-1393-1406',\n",
    " 'Hydrophobicity-Bull_Breese-Arch-Biochem-Biophys-1974-161-665-670',\n",
    " 'Transmembraneregionsofmt-proteins-Nakashimaetal--Proteins1990-8-173-178',\n",
    " 'AAcompositionofmembraneproteins-Nakashimaetal--Proteins1990-8-173-178',\n",
    " 'Knowledge-basedmembrane-propensityscalefrom1D_HelixinMPtopodatabases-Punta-Maritan-Proteins2003-50-114-121',\n",
    " 'Proportionofresidues100_buried-Chothia-J-Mol-Biol-1976-105-1-14',\n",
    " 'n_contacts',\n",
    " 'RG_protein',\n",
    " 'rmsd_prot',\n",
    " 'Length',\n",
    " 'fullCharge',\n",
    " 'extCharge',\n",
    " 'Percentage_Coil_FullSeq',\n",
    " 'Percentage_AlphaHelix_FullSeq',\n",
    " 'Percentage_BetaBridge_FullSeq',\n",
    " 'Percentage_Strand_FullSeq',\n",
    " 'Percentage_3_10Helix_FullSeq',\n",
    " 'Percentage_PiHelix_FullSeq',\n",
    " 'Percentage_Turn_FullSeq',\n",
    " 'Percentage_Bend_FullSeq',\n",
    " 'Percentage_Coil_ExtSeq',\n",
    " 'Percentage_AlphaHelix_ExtSeq',\n",
    " 'Percentage_BetaBridge_ExtSeq',\n",
    " 'Percentage_Strand_ExtSeq',\n",
    " 'Percentage_3_10Helix_ExtSeq',\n",
    " 'Percentage_PiHelix_ExtSeq',\n",
    " 'Percentage_Turn_ExtSeq',\n",
    " 'Percentage_Bend_ExtSeq',\n",
    " 'asa_mean',\n",
    " 'asa_std',\n",
    " 'RBD_Full_min_0',\n",
    " 'RBD_Full_min_1',\n",
    " 'RBD_Full_min_2',\n",
    " 'RBD_Full_indexmin_0',\n",
    " 'RBD_Full_indexmin_1',\n",
    " 'RBD_Full_indexmin_2',\n",
    " 'RBD_int_min_0',\n",
    " 'RBD_int_min_1',\n",
    " 'RBD_int_min_2',\n",
    " 'RBD_int_indexmin_0',\n",
    " 'RBD_int_indexmin_1',\n",
    " 'RBD_int_indexmin_2',\n",
    " 'RBD_ext_min_0',\n",
    " 'RBD_ext_min_1',\n",
    " 'RBD_ext_min_2',\n",
    " 'RBD_ext_indexmin_0',\n",
    " 'RBD_ext_indexmin_1',\n",
    " 'RBD_ext_indexmin_2',\n",
    " 'average_plddt',\n",
    " 'stddev_plddt',\n",
    " 'n_contacts_norm',\n",
    " 'RG_protein_norm']\n",
    "correct_order_columns = np.array(c_o_c, dtype='str')"
   ]
  },
  {
   "cell_type": "code",
   "execution_count": 3,
   "metadata": {},
   "outputs": [],
   "source": [
    "def compute_score_from_pdb(pdb_files_string):\n",
    "    '''Computes the Profiles of the sequences and the predictions of LLPS\n",
    "    Input: a directory with pdb files\n",
    "    Output: a Profiles array, a Predictions array'''\n",
    "    code_dir = os.getcwd()\n",
    "    scales_dir = './src/ChemicalPhysicalScales_Py_dictionary'\n",
    "    classifiers_dir = './src/TRAINED_MODELS/'\n",
    "    af_code_dir = './src/AlphaFold/'\n",
    "    # convert the pdb string with the files in a list of paths\n",
    "    pdb_files = get_list_from_pdb_string(pdb_files_string)\n",
    "    # get the sequences and the according ids\n",
    "    sequences, ids = get_sequences_from_pdbs(pdb_files)\n",
    "    # get the dataframe with the physical/chemical properties\n",
    "    pc_df = get_physical_chemical_properties(sequences, ids, scales_dir)\n",
    "    # get the correct index | UNCOMMENT THIS IF YOU HAVE AF MODELS\n",
    "    #pc_df.index = pc_df.index.map(return_af_protein_name)\n",
    "    # get the dataframe with the alphafold properties\n",
    "    af_df = get_alphafold_features_from_file(af_code_dir, pdb_files)\n",
    "    # add plddt columns\n",
    "    af_complete_df = add_plddt_to_af_features_from_file(pdb_files, af_df)\n",
    "    # postprocess alphafold features\n",
    "    postprocessed_af_df = ProcessAF_Features_from_file(af_complete_df)\n",
    "    # set the uniprot _ID as the index\n",
    "    postprocessed_af_df.set_index('Uniprot_ID', inplace=True)\n",
    "    # get the matrixes needed in order to compute the profiles\n",
    "    # create the combined dataframe of the physical/chemical properties\n",
    "    cmb_df = pd.concat([pc_df, postprocessed_af_df], axis=1)\n",
    "    # reorder the columns in order to get the correct columns\n",
    "    cmb_df = cmb_df[correct_order_columns]\n",
    "    # get the llps predictions\n",
    "    predictions = predict(cmb_df, classifiers_dir)\n",
    "    # create dataframes\n",
    "\n",
    "    predictions_df = pd.DataFrame(data=predictions, index=ids)\n",
    "\n",
    "    scoPd = predictions_df.reset_index()\n",
    "    scoPd.columns=['FileName', 'LLPS_Score']\n",
    "    # return the according arrays\n",
    "#     finalDf = pd.merge(scoPd, proPd, on='FileName')\n",
    "    return scoPd\n",
    "\n"
   ]
  },
  {
   "cell_type": "code",
   "execution_count": 4,
   "metadata": {},
   "outputs": [
    {
     "data": {
      "text/plain": [
       "{'classifier__max_depth': None,\n",
       " 'classifier__n_estimators': 200,\n",
       " 'scaling__with_mean': True,\n",
       " 'selector__estimator__l1_ratio': 0.1,\n",
       " 'selector__estimator__n_alphas': 50}"
      ]
     },
     "execution_count": 4,
     "metadata": {},
     "output_type": "execute_result"
    }
   ],
   "source": [
    "dimitris=joblib.load(\"./src/TRAINED_MODELS/ONLY_PHYSCHEM/RandomForest/gridsearchCV_Object.pkl\")\n",
    "dimitris.best_params_"
   ]
  },
  {
   "cell_type": "code",
   "execution_count": 5,
   "metadata": {},
   "outputs": [
    {
     "data": {
      "text/plain": [
       "0.8445508379808327"
      ]
     },
     "execution_count": 5,
     "metadata": {},
     "output_type": "execute_result"
    }
   ],
   "source": [
    "dimitris.best_score_"
   ]
  },
  {
   "cell_type": "markdown",
   "metadata": {},
   "source": [
    "##  Load up TDP43 fasta file"
   ]
  },
  {
   "cell_type": "code",
   "execution_count": 5,
   "metadata": {},
   "outputs": [
    {
     "ename": "ModuleNotFoundError",
     "evalue": "No module named 'config'",
     "output_type": "error",
     "traceback": [
      "\u001b[0;31m---------------------------------------------------------------------------\u001b[0m",
      "\u001b[0;31mModuleNotFoundError\u001b[0m                       Traceback (most recent call last)",
      "Input \u001b[0;32mIn [5]\u001b[0m, in \u001b[0;36m<cell line: 1>\u001b[0;34m()\u001b[0m\n\u001b[0;32m----> 1\u001b[0m \u001b[38;5;28;01mfrom\u001b[39;00m \u001b[38;5;21;01mutilities\u001b[39;00m \u001b[38;5;28;01mimport\u001b[39;00m \u001b[38;5;241m*\u001b[39m\n\u001b[1;32m      3\u001b[0m \u001b[38;5;66;03m# code for mutation scan\u001b[39;00m\n\u001b[1;32m      4\u001b[0m \u001b[38;5;28;01mimport\u001b[39;00m \u001b[38;5;21;01mtime\u001b[39;00m\n",
      "File \u001b[0;32m/mnt/large/jfiorentino/tartaglialab_webserver/catgranule2/utilities.py:25\u001b[0m, in \u001b[0;36m<module>\u001b[0;34m\u001b[0m\n\u001b[1;32m     22\u001b[0m \u001b[38;5;28;01mimport\u001b[39;00m \u001b[38;5;21;01mzipfile\u001b[39;00m\n\u001b[1;32m     23\u001b[0m \u001b[38;5;28;01mimport\u001b[39;00m \u001b[38;5;21;01mbase64\u001b[39;00m\n\u001b[0;32m---> 25\u001b[0m \u001b[38;5;28;01mimport\u001b[39;00m \u001b[38;5;21;01mconfig\u001b[39;00m\n\u001b[1;32m     27\u001b[0m \u001b[38;5;28;01mimport\u001b[39;00m \u001b[38;5;21;01msmtplib\u001b[39;00m\n\u001b[1;32m     28\u001b[0m \u001b[38;5;28;01mfrom\u001b[39;00m \u001b[38;5;21;01memail\u001b[39;00m\u001b[38;5;21;01m.\u001b[39;00m\u001b[38;5;21;01mmime\u001b[39;00m\u001b[38;5;21;01m.\u001b[39;00m\u001b[38;5;21;01mtext\u001b[39;00m \u001b[38;5;28;01mimport\u001b[39;00m MIMEText\n",
      "\u001b[0;31mModuleNotFoundError\u001b[0m: No module named 'config'"
     ]
    }
   ],
   "source": [
    "from utilities import *\n",
    "\n",
    "# code for mutation scan\n",
    "import time\n",
    "\n",
    "start=time.time()\n",
    "FASTAINPUTFILE = \"./examples/TDP43.fasta\"\n",
    "outputdir=\"./\"\n",
    "\n",
    "names=[]\n",
    "mutSeqList=[]\n",
    "\n",
    "fastaInput=list(SeqIO.parse(FASTAINPUTFILE, \"fasta\"))\n",
    "seq=str(fastaInput[0].seq)\n",
    "\n",
    "for i in range(len(seq)):\n",
    "    for am in aminoList:\n",
    "        pos=i\n",
    "\n",
    "        newAm = am\n",
    "        names.append(fastaInput[0].id.split('|')[1]+'_'+str(pos)+'_'+str(newAm))\n",
    "        mutSeq= seqMutation(seq, pos,newAm)\n",
    "        mutSeqList.append(mutSeq)\n",
    "\n",
    "tall_mut_file = os.path.join(outputdir, 'TallMutation.fasta' )\n",
    "write_fasta(mutSeqList, names, tall_mut_file)\n",
    "\n",
    "fDf = compute_score_profile_fatsa_DF_for_mutscan(tall_mut_file)\n",
    "                \n",
    "                \n",
    "datafile = os.path.join(outputdir,'mutation_scan.csv')\n",
    "fDf.to_csv(datafile)\n",
    "zip_df(datafile)   \n",
    "\n",
    "prof_wt, score_wt = compute_score_and_profile_from_fasta_file_for_mutscan(FASTAINPUTFILE)\n",
    "fDf['mutation_score'] = fDf['LLPS_Profile'].apply(lambda x: np.sum(np.array(x) - prof_wt[0])/np.mean(prof_wt[0]))\n",
    "\n",
    "\n",
    "\n",
    "count = 0\n",
    "hm = []\n",
    "for i in range(len(seq)):\n",
    "    hm.append([])\n",
    "    for am in aminoList:\n",
    "        hm[-1].append(fDf.mutation_score[count])\n",
    "        count =count+1\n",
    "\n",
    "\n",
    "\n",
    "# figure of the mutation scan\n",
    "\n",
    "plt.figure('HeatMap_mutation', figsize = (10,7))\n",
    "\n",
    "\n",
    "x_labels=range(1,np.shape(hm)[0]+1)\n",
    "y_labels=aminoList\n",
    "\n",
    "im=plt.imshow(np.transpose(hm), aspect='auto', origin='lower', interpolation=None, cmap='PiYG')\n",
    "cbar = plt.colorbar(im)\n",
    "cbar.set_label('Mutation Score')\n",
    "\n",
    "\n",
    "\n",
    "# plt.xticks(ticks=range(len(x_labels)), labels=x_labels)  # Use the custom x-axis labels\n",
    "step = 25  # Show one label every 25\n",
    "plt.xticks(ticks=range(0, len(x_labels), step), labels=[x_labels[i] for i in range(0, len(x_labels), step)])\n",
    "\n",
    "\n",
    "\n",
    "plt.yticks(ticks=range(len(y_labels)), labels=y_labels)  # Use the custom y-axis labels\n",
    "\n",
    "# Optional: add labels for the axes\n",
    "plt.ylabel(\"amino-acid substitution\")\n",
    "plt.xlabel(\"sequence position\")\n",
    "plt.tight_layout()\n",
    "print(\"Saving MutationScan Profile\")\n",
    "# plt.savefig(os.path.join(outputdir,'MutationScan.pdf'))\n",
    "plt.savefig(os.path.join(outputdir,'MutationScan.png'), dpi=300, bbox_inches='tight')\n",
    "end=time.time()\n",
    "print(end-start)"
   ]
  },
  {
   "cell_type": "code",
   "execution_count": 7,
   "metadata": {},
   "outputs": [
    {
     "ename": "ModuleNotFoundError",
     "evalue": "No module named 'utilities'",
     "output_type": "error",
     "traceback": [
      "\u001b[0;31m---------------------------------------------------------------------------\u001b[0m",
      "\u001b[0;31mModuleNotFoundError\u001b[0m                       Traceback (most recent call last)",
      "Input \u001b[0;32mIn [7]\u001b[0m, in \u001b[0;36m<cell line: 1>\u001b[0;34m()\u001b[0m\n\u001b[0;32m----> 1\u001b[0m \u001b[38;5;28;01mfrom\u001b[39;00m \u001b[38;5;21;01mutilities\u001b[39;00m \u001b[38;5;28;01mimport\u001b[39;00m \u001b[38;5;241m*\u001b[39m\n",
      "\u001b[0;31mModuleNotFoundError\u001b[0m: No module named 'utilities'"
     ]
    }
   ],
   "source": []
  },
  {
   "cell_type": "code",
   "execution_count": 6,
   "metadata": {},
   "outputs": [
    {
     "name": "stderr",
     "output_type": "stream",
     "text": [
      "/mnt/large/jfiorentino/INTERACTomics/PREDICTOR/pred-venv/lib/python3.9/site-packages/sklearn/base.py:443: UserWarning: X has feature names, but StandardScaler was fitted without feature names\n",
      "  warnings.warn(\n"
     ]
    },
    {
     "name": "stdout",
     "output_type": "stream",
     "text": [
      "Saving MutationScan Profile\n"
     ]
    },
    {
     "data": {
      "image/png": "[encoded data removed]",
      "text/plain": [
       "<Figure size 720x504 with 2 Axes>"
      ]
     },
     "metadata": {
      "needs_background": "light"
     },
     "output_type": "display_data"
    }
   ],
   "source": [
    "# \n",
    "                \n",
    "\n"
   ]
  },
  {
   "cell_type": "code",
   "execution_count": 5,
   "metadata": {},
   "outputs": [],
   "source": [
    "scales_dir = './src/ChemicalPhysicalScales_Py_dictionary'\n",
    "sys.path.append(scales_dir)\n",
    "names = glob(f'{scales_dir}/*')\n",
    "names1 = [x.replace(f'{scales_dir}/', '') for x in names]\n",
    "names1 = [x.replace('.json', '') for x in names1]"
   ]
  },
  {
   "cell_type": "code",
   "execution_count": 6,
   "metadata": {},
   "outputs": [],
   "source": [
    "# seqTdp43=list(SeqIO.parse(\"./examples/TDP43.fasta\", \"fasta\"))\n",
    "seqTdp43=list(SeqIO.parse(\"ROA1_CAEEL.fasta\", \"fasta\"))\n",
    "seq=str(seqTdp43[0].seq)"
   ]
  },
  {
   "cell_type": "markdown",
   "metadata": {},
   "source": [
    "### generate profile and score form a string\n"
   ]
  },
  {
   "cell_type": "code",
   "execution_count": 18,
   "metadata": {},
   "outputs": [
    {
     "name": "stdout",
     "output_type": "stream",
     "text": [
      "[array([0.305, 0.345, 0.385, 0.26 , 0.325, 0.25 , 0.52 , 0.51 , 0.325,\n",
      "       0.37 , 0.62 , 0.36 , 0.62 , 0.385, 0.51 , 0.36 , 0.22 , 0.325,\n",
      "       0.445, 0.325, 0.37 , 0.22 , 0.595, 0.52 , 0.25 , 0.335, 0.26 ,\n",
      "       0.62 , 0.62 , 0.22 , 0.345, 0.36 , 0.37 , 0.345, 0.345, 0.385,\n",
      "       0.385, 0.22 , 0.305, 0.595, 0.325, 0.335, 0.5  , 0.36 , 0.43 ,\n",
      "       0.335, 0.62 , 0.325, 0.25 , 0.345, 0.385, 0.25 , 0.25 , 0.26 ,\n",
      "       0.305, 0.595, 0.385, 0.445, 0.345, 0.345, 0.52 , 0.595, 0.36 ,\n",
      "       0.595, 0.62 , 0.335, 0.62 , 0.335, 0.26 , 0.345, 0.335, 0.36 ,\n",
      "       0.62 , 0.52 , 0.345, 0.325, 0.26 , 0.385, 0.51 , 0.51 , 0.305,\n",
      "       0.52 , 0.43 , 0.595, 0.445, 0.39 , 0.25 , 0.25 , 0.385, 0.62 ,\n",
      "       0.52 , 0.345, 0.26 , 0.385, 0.445, 0.52 , 0.595, 0.51 , 0.26 ,\n",
      "       0.445, 0.595, 0.385, 0.385, 0.52 , 0.37 , 0.595, 0.36 , 0.325,\n",
      "       0.36 , 0.37 , 0.26 , 0.36 , 0.345, 0.52 , 0.595, 0.22 , 0.5  ,\n",
      "       0.26 , 0.36 , 0.62 , 0.26 , 0.595, 0.325, 0.385, 0.39 , 0.345,\n",
      "       0.325, 0.385, 0.305, 0.22 , 0.345, 0.325, 0.5  , 0.335, 0.345,\n",
      "       0.52 , 0.5  , 0.62 , 0.345, 0.26 , 0.345, 0.52 , 0.36 , 0.325,\n",
      "       0.25 , 0.25 , 0.22 , 0.385, 0.52 , 0.51 , 0.345, 0.43 , 0.52 ,\n",
      "       0.445, 0.595, 0.62 , 0.335, 0.62 , 0.335, 0.26 , 0.345, 0.335,\n",
      "       0.385, 0.385, 0.39 , 0.385, 0.36 , 0.26 , 0.385, 0.43 , 0.21 ,\n",
      "       0.26 , 0.22 , 0.43 , 0.52 , 0.36 , 0.39 , 0.305, 0.26 , 0.37 ,\n",
      "       0.62 , 0.39 , 0.595, 0.21 , 0.385, 0.26 , 0.595, 0.52 , 0.62 ,\n",
      "       0.22 , 0.36 , 0.52 , 0.385, 0.325, 0.305, 0.36 , 0.52 , 0.51 ,\n",
      "       0.43 , 0.305, 0.37 , 0.595, 0.385, 0.595, 0.325, 0.345, 0.595,\n",
      "       0.62 , 0.62 , 0.595, 0.36 , 0.595, 0.385, 0.62 , 0.43 , 0.595,\n",
      "       0.62 , 0.62 , 0.5  , 0.37 , 0.62 , 0.62 , 0.62 , 0.62 , 0.62 ,\n",
      "       0.62 , 0.62 , 0.62 , 0.28 , 0.62 , 0.62 , 0.445, 0.51 , 0.43 ,\n",
      "       0.595, 0.62 , 0.62 , 0.445, 0.62 , 0.51 , 0.5  , 0.62 , 0.62 ,\n",
      "       0.445, 0.62 , 0.62 , 0.62 , 0.62 , 0.43 , 0.62 , 0.62 , 0.5  ,\n",
      "       0.62 , 0.62 , 0.385, 0.5  , 0.62 , 0.62 , 0.62 , 0.28 , 0.62 ,\n",
      "       0.43 , 0.43 , 0.62 , 0.62 , 0.62 , 0.62 , 0.43 , 0.62 , 0.62 ,\n",
      "       0.28 , 0.62 , 0.62 , 0.445, 0.43 , 0.43 , 0.43 , 0.43 , 0.62 ,\n",
      "       0.62 , 0.62 , 0.62 , 0.28 , 0.62 , 0.43 , 0.43 , 0.62 , 0.62 ,\n",
      "       0.62 , 0.62 , 0.43 , 0.62 , 0.62 , 0.28 , 0.62 , 0.62 , 0.445,\n",
      "       0.43 , 0.43 , 0.43 , 0.43 , 0.43 , 0.62 , 0.62 , 0.28 , 0.62 ,\n",
      "       0.62 , 0.445, 0.43 , 0.43 , 0.62 , 0.62 , 0.62 , 0.62 , 0.62 ,\n",
      "       0.62 , 0.28 , 0.62 , 0.62 , 0.43 , 0.62 , 0.43 , 0.43 , 0.43 ,\n",
      "       0.62 , 0.62 , 0.28 , 0.62 , 0.62 , 0.43 , 0.36 , 0.62 , 0.51 ,\n",
      "       0.43 , 0.43 , 0.28 , 0.51 , 0.39 , 0.51 , 0.43 , 0.62 , 0.62 ,\n",
      "       0.37 , 0.595, 0.37 , 0.5  ]), array([0.305, 0.445, 0.445, 0.445, 0.36 , 0.445, 0.385, 0.36 , 0.325,\n",
      "       0.37 , 0.62 , 0.335, 0.5  , 0.445, 0.62 , 0.22 , 0.445, 0.36 ,\n",
      "       0.36 , 0.305, 0.37 , 0.445, 0.51 , 0.335, 0.335, 0.445, 0.36 ,\n",
      "       0.335, 0.36 , 0.445, 0.26 , 0.36 , 0.445, 0.39 , 0.62 , 0.21 ,\n",
      "       0.345, 0.62 , 0.22 , 0.36 , 0.26 , 0.445, 0.345, 0.36 , 0.62 ,\n",
      "       0.62 , 0.62 , 0.62 , 0.62 , 0.62 , 0.335, 0.62 , 0.62 , 0.445,\n",
      "       0.335, 0.36 , 0.51 , 0.345, 0.51 , 0.26 , 0.445, 0.445, 0.445,\n",
      "       0.445, 0.445, 0.445, 0.51 , 0.305, 0.37 , 0.25 , 0.445, 0.43 ,\n",
      "       0.43 , 0.43 , 0.445, 0.445, 0.445, 0.445, 0.51 , 0.51 , 0.445,\n",
      "       0.43 , 0.43 , 0.445, 0.43 , 0.36 , 0.595, 0.595, 0.36 , 0.445,\n",
      "       0.26 , 0.36 , 0.445, 0.43 , 0.22 , 0.43 , 0.43 , 0.43 , 0.39 ,\n",
      "       0.43 , 0.51 , 0.51 , 0.51 , 0.51 , 0.51 , 0.335, 0.22 , 0.43 ,\n",
      "       0.43 , 0.595, 0.37 , 0.36 , 0.5  , 0.37 , 0.39 , 0.39 , 0.43 ,\n",
      "       0.445, 0.22 , 0.22 , 0.52 , 0.43 , 0.36 , 0.445, 0.28 , 0.36 ,\n",
      "       0.37 , 0.39 , 0.43 , 0.36 , 0.36 , 0.62 , 0.28 , 0.62 , 0.345,\n",
      "       0.62 , 0.36 , 0.305, 0.36 , 0.28 , 0.62 , 0.51 , 0.305, 0.39 ,\n",
      "       0.62 , 0.595, 0.385, 0.39 , 0.595, 0.595, 0.345, 0.62 , 0.37 ,\n",
      "       0.305, 0.62 , 0.25 , 0.445, 0.62 , 0.345, 0.305, 0.37 , 0.43 ,\n",
      "       0.25 , 0.36 , 0.445, 0.22 , 0.52 , 0.52 , 0.445, 0.335, 0.36 ,\n",
      "       0.62 , 0.37 , 0.26 , 0.25 , 0.51 , 0.445, 0.445, 0.52 , 0.335,\n",
      "       0.345, 0.595, 0.36 , 0.345, 0.445, 0.36 , 0.22 , 0.345, 0.445,\n",
      "       0.52 , 0.36 , 0.28 , 0.25 , 0.325, 0.385, 0.37 , 0.26 , 0.335,\n",
      "       0.595, 0.345, 0.385, 0.37 , 0.37 , 0.36 , 0.37 , 0.345, 0.22 ,\n",
      "       0.22 , 0.445, 0.22 , 0.43 , 0.26 , 0.595, 0.36 , 0.36 , 0.22 ,\n",
      "       0.43 , 0.22 , 0.445, 0.51 , 0.28 , 0.62 , 0.36 , 0.385, 0.36 ,\n",
      "       0.22 , 0.43 , 0.385, 0.36 , 0.28 , 0.21 , 0.345, 0.51 , 0.51 ,\n",
      "       0.62 , 0.345, 0.36 , 0.595, 0.25 , 0.385, 0.43 , 0.385, 0.595,\n",
      "       0.36 , 0.595, 0.305, 0.5  , 0.385, 0.36 , 0.22 , 0.37 , 0.305,\n",
      "       0.39 , 0.36 , 0.22 , 0.325, 0.37 , 0.36 , 0.22 , 0.25 , 0.385,\n",
      "       0.25 , 0.305, 0.595, 0.51 , 0.325, 0.39 , 0.385, 0.445, 0.22 ,\n",
      "       0.52 , 0.62 , 0.595, 0.22 , 0.36 , 0.5  , 0.445, 0.39 , 0.445,\n",
      "       0.62 , 0.345, 0.385, 0.37 , 0.22 , 0.22 , 0.305, 0.22 , 0.37 ,\n",
      "       0.62 , 0.595, 0.36 , 0.36 , 0.22 , 0.335, 0.445, 0.25 , 0.385,\n",
      "       0.385, 0.62 , 0.22 , 0.22 , 0.385, 0.385, 0.62 , 0.39 , 0.36 ,\n",
      "       0.385, 0.43 , 0.26 , 0.62 , 0.26 , 0.22 , 0.37 , 0.36 , 0.445,\n",
      "       0.345, 0.21 , 0.5  , 0.36 , 0.51 , 0.39 , 0.43 , 0.37 , 0.62 ,\n",
      "       0.325, 0.595, 0.25 , 0.325, 0.595, 0.335, 0.36 , 0.595, 0.52 ,\n",
      "       0.26 , 0.335, 0.26 , 0.62 , 0.62 , 0.22 , 0.445, 0.445, 0.385,\n",
      "       0.25 , 0.385, 0.325, 0.385, 0.325, 0.25 , 0.345, 0.51 , 0.36 ,\n",
      "       0.335, 0.595, 0.595, 0.335, 0.62 , 0.445, 0.22 , 0.26 , 0.26 ,\n",
      "       0.385, 0.28 , 0.445, 0.39 , 0.52 , 0.51 , 0.325, 0.36 , 0.52 ,\n",
      "       0.36 , 0.5  , 0.335, 0.445, 0.445, 0.52 , 0.62 , 0.5  , 0.51 ,\n",
      "       0.335, 0.22 , 0.22 , 0.335, 0.43 , 0.325, 0.325, 0.36 , 0.36 ,\n",
      "       0.26 , 0.43 , 0.51 , 0.22 , 0.25 , 0.385, 0.51 , 0.21 , 0.25 ,\n",
      "       0.325, 0.325, 0.385, 0.62 , 0.52 , 0.22 , 0.5  , 0.22 , 0.21 ,\n",
      "       0.26 , 0.36 , 0.36 , 0.445, 0.345, 0.25 , 0.52 , 0.385, 0.52 ,\n",
      "       0.445, 0.26 , 0.43 , 0.25 , 0.595, 0.445, 0.28 , 0.37 , 0.22 ,\n",
      "       0.36 , 0.385, 0.36 , 0.385, 0.335, 0.26 , 0.305, 0.385, 0.62 ,\n",
      "       0.36 , 0.43 , 0.445, 0.22 , 0.385, 0.445, 0.595, 0.52 , 0.345,\n",
      "       0.25 , 0.335, 0.26 , 0.62 , 0.62 , 0.26 , 0.445, 0.595, 0.445,\n",
      "       0.22 , 0.595, 0.51 , 0.26 , 0.325, 0.22 , 0.51 , 0.305, 0.25 ,\n",
      "       0.305, 0.385, 0.595, 0.22 , 0.5  , 0.62 , 0.62 , 0.26 , 0.21 ,\n",
      "       0.5  , 0.51 , 0.62 , 0.25 , 0.385, 0.345, 0.385, 0.445, 0.325,\n",
      "       0.22 , 0.52 , 0.5  , 0.445, 0.52 , 0.62 , 0.51 , 0.62 , 0.595,\n",
      "       0.26 , 0.51 , 0.335, 0.36 , 0.37 , 0.43 , 0.43 , 0.36 , 0.5  ,\n",
      "       0.25 , 0.51 , 0.51 , 0.25 , 0.36 , 0.51 , 0.595, 0.335, 0.26 ,\n",
      "       0.43 , 0.22 , 0.43 , 0.39 , 0.62 , 0.385, 0.25 , 0.385, 0.52 ,\n",
      "       0.595, 0.26 , 0.325, 0.26 , 0.52 , 0.445, 0.5  , 0.26 , 0.22 ,\n",
      "       0.385, 0.385, 0.43 , 0.305, 0.21 , 0.385, 0.325, 0.21 , 0.43 ,\n",
      "       0.62 , 0.51 , 0.595, 0.21 , 0.62 , 0.62 , 0.52 , 0.335, 0.51 ,\n",
      "       0.445, 0.335, 0.335, 0.21 , 0.51 , 0.37 , 0.26 , 0.345, 0.21 ,\n",
      "       0.22 , 0.43 , 0.5  , 0.5  , 0.21 , 0.325, 0.335, 0.21 , 0.28 ,\n",
      "       0.51 , 0.37 , 0.25 , 0.39 , 0.36 , 0.595, 0.51 , 0.62 , 0.595,\n",
      "       0.325, 0.335, 0.39 , 0.52 , 0.445, 0.22 , 0.26 , 0.52 , 0.325,\n",
      "       0.62 , 0.51 , 0.385, 0.595, 0.445, 0.595, 0.43 , 0.25 , 0.39 ,\n",
      "       0.335, 0.595, 0.28 , 0.37 ])]\n"
     ]
    },
    {
     "name": "stderr",
     "output_type": "stream",
     "text": [
      "/mnt/large/jfiorentino/INTERACTomics/PREDICTOR/pred-venv/lib/python3.9/site-packages/sklearn/base.py:443: UserWarning: X has feature names, but StandardScaler was fitted without feature names\n",
      "  warnings.warn(\n"
     ]
    }
   ],
   "source": [
    "\n",
    "seq=str(seqTdp43[0].seq)\n",
    "# WT_scores,WT_profiles=catGranule2_str(seq)\n",
    "prof_wt, score_wt = compute_score_and_profile_from_fasta_file(\"2proteins.fasta\")"
   ]
  },
  {
   "cell_type": "code",
   "execution_count": 15,
   "metadata": {},
   "outputs": [
    {
     "data": {
      "text/plain": [
       "array([0.3209749 , 0.34838912, 0.39560251, 0.4249205 , 0.46375732,\n",
       "       0.49117155, 0.50792469, 0.53267364, 0.56656067, 0.59130962,\n",
       "       0.61948536, 0.61301255, 0.63205021, 0.64233054, 0.64156904,\n",
       "       0.64233054, 0.64309205, 0.65070711, 0.65908368, 0.65108787,\n",
       "       0.6491841 , 0.62938494, 0.63014644, 0.60920502, 0.606159  ,\n",
       "       0.59664017, 0.59854393, 0.59854393, 0.59702092, 0.60844351,\n",
       "       0.60844351, 0.60577824, 0.62710042, 0.60920502, 0.60235146,\n",
       "       0.60882427, 0.6305272 , 0.63547699, 0.60730126, 0.58635983,\n",
       "       0.59892469, 0.59169038, 0.58331381, 0.57493724, 0.57189121,\n",
       "       0.59092887, 0.59092887, 0.59549791, 0.60501674, 0.60806276,\n",
       "       0.60235146, 0.62291213, 0.6248159 , 0.63205021, 0.65184937,\n",
       "       0.64461506, 0.66631799, 0.64461506, 0.63966527, 0.64689958,\n",
       "       0.64613808, 0.64423431, 0.67241004, 0.69297071, 0.69944351,\n",
       "       0.70096653, 0.67545607, 0.67545607, 0.68040586, 0.69297071,\n",
       "       0.68992469, 0.68992469, 0.67735983, 0.69525523, 0.68383264,\n",
       "       0.66631799, 0.65984519, 0.63166946, 0.63547699, 0.66289121,\n",
       "       0.67621757, 0.67697908, 0.66936402, 0.65146862, 0.64575732,\n",
       "       0.65908368, 0.67964435, 0.69868201, 0.68916318, 0.68421339,\n",
       "       0.69068619, 0.69677824, 0.68649791, 0.69335146, 0.67621757,\n",
       "       0.68764017, 0.68535565, 0.69106695, 0.69944351, 0.69830126,\n",
       "       0.67088703, 0.65870293, 0.65870293, 0.67850209, 0.69449372,\n",
       "       0.67735983, 0.67583682, 0.65032636, 0.63890377, 0.66631799,\n",
       "       0.65223013, 0.65223013, 0.64766109, 0.64766109, 0.63776151,\n",
       "       0.63585774, 0.61529707, 0.61720084, 0.61567782, 0.60501674,\n",
       "       0.60311297, 0.60806276, 0.61872385, 0.61796234, 0.60463598,\n",
       "       0.59892469, 0.62024686, 0.62938494, 0.63585774, 0.62824268,\n",
       "       0.60730126, 0.62710042, 0.60920502, 0.60920502, 0.59892469,\n",
       "       0.5882636 , 0.57874477, 0.58331381, 0.59359414, 0.60920502,\n",
       "       0.61872385, 0.62519665, 0.64004603, 0.63585774, 0.6556569 ,\n",
       "       0.67659833, 0.66251046, 0.67164854, 0.64994561, 0.6434728 ,\n",
       "       0.64994561, 0.6491841 , 0.63890377, 0.64080753, 0.64575732,\n",
       "       0.65603766, 0.66441423, 0.66746025, 0.66746025, 0.66060669,\n",
       "       0.63776151, 0.6312887 , 0.61529707, 0.60844351, 0.61415481,\n",
       "       0.59625941, 0.57874477, 0.57646025, 0.54904603, 0.5517113 ,\n",
       "       0.57912552, 0.5825523 , 0.60235146, 0.5890251 , 0.5890251 ,\n",
       "       0.57912552, 0.59511715, 0.60730126, 0.63471548, 0.62215063,\n",
       "       0.61682008, 0.64042678, 0.64994561, 0.65794142, 0.64842259,\n",
       "       0.63623849, 0.64842259, 0.65756067, 0.6670795 , 0.67050628,\n",
       "       0.67050628, 0.66860251, 0.66822176, 0.66822176, 0.67697908,\n",
       "       0.67393305, 0.69944351, 0.70134728, 0.70896234, 0.70705858,\n",
       "       0.71771967, 0.73561506, 0.72533473, 0.74323013, 0.75122594,\n",
       "       0.77330962, 0.79310879, 0.80072385, 0.79996234, 0.79539331,\n",
       "       0.81938075, 0.83841841, 0.84032218, 0.85821757, 0.86012134,\n",
       "       0.88258577, 0.9035272 , 0.90543096, 0.87953975, 0.87953975,\n",
       "       0.88144351, 0.88791632, 0.88144351, 0.88487029, 0.88296653,\n",
       "       0.89743515, 0.89933891, 0.88601255, 0.88601255, 0.88677406,\n",
       "       0.89667364, 0.89667364, 0.89667364, 0.88334728, 0.88334728,\n",
       "       0.88334728, 0.88334728, 0.88334728, 0.86887866, 0.89476987,\n",
       "       0.89476987, 0.8856318 , 0.89895816, 0.90733473, 0.90390795,\n",
       "       0.89667364, 0.89667364, 0.89667364, 0.91      , 0.88410879,\n",
       "       0.89248536, 0.88715481, 0.87268619, 0.87268619, 0.88601255,\n",
       "       0.88601255, 0.88601255, 0.87154393, 0.87154393, 0.88601255,\n",
       "       0.86012134, 0.86012134, 0.86925941, 0.85593305, 0.84146444,\n",
       "       0.84489121, 0.83956067, 0.82509205, 0.82509205, 0.82509205,\n",
       "       0.85098326, 0.85098326, 0.83956067, 0.85402929, 0.83956067,\n",
       "       0.82509205, 0.82509205, 0.82509205, 0.83956067, 0.83956067,\n",
       "       0.82509205, 0.85098326, 0.85098326, 0.82509205, 0.83841841,\n",
       "       0.85288703, 0.85402929, 0.85402929, 0.85402929, 0.83956067,\n",
       "       0.82509205, 0.81062343, 0.81062343, 0.83651464, 0.81062343,\n",
       "       0.82509205, 0.83956067, 0.82623431, 0.81176569, 0.79729707,\n",
       "       0.79729707, 0.81176569, 0.81176569, 0.81176569, 0.8376569 ,\n",
       "       0.8376569 , 0.81176569, 0.82509205, 0.83956067, 0.83956067,\n",
       "       0.85402929, 0.85402929, 0.85402929, 0.83956067, 0.83956067,\n",
       "       0.86545188, 0.83956067, 0.83956067, 0.85288703, 0.85288703,\n",
       "       0.84755649, 0.84755649, 0.83917992, 0.8247113 , 0.81024268,\n",
       "       0.78435146, 0.7759749 , 0.78435146, 0.7759749 , 0.76150628,\n",
       "       0.7759749 , 0.7759749 , 0.77140586, 0.78397071, 0.77940167,\n",
       "       0.7702636 , 0.72305021, 0.70172803, 0.65451464, 0.60730126,\n",
       "       0.57455649, 0.54714226, 0.49992887, 0.46109205, 0.42834728,\n",
       "       0.39560251])"
      ]
     },
     "execution_count": 15,
     "metadata": {},
     "output_type": "execute_result"
    }
   ],
   "source": [
    "prof_wt[0]"
   ]
  },
  {
   "cell_type": "code",
   "execution_count": 19,
   "metadata": {},
   "outputs": [
    {
     "data": {
      "text/plain": [
       "<matplotlib.legend.Legend at 0x7f6526740b50>"
      ]
     },
     "execution_count": 19,
     "metadata": {},
     "output_type": "execute_result"
    },
    {
     "data": {
      "image/png": "[encoded data removed]",
      "text/plain": [
       "<Figure size 432x288 with 1 Axes>"
      ]
     },
     "metadata": {
      "needs_background": "light"
     },
     "output_type": "display_data"
    }
   ],
   "source": [
    "plt.plot(prof_wt[0], label= 'Score = %.3lf'%score_wt[0])\n",
    "# plt.plot(smooth(WT_profiles,21), label= 'Score = %.3lf'%WT_scores)\n",
    "\n",
    "plt.xlabel('Residue position')\n",
    "plt.ylabel('LLPS propensity')\n",
    "plt.title('%s'%(seqTdp43[0].id))\n",
    "# plt.ylim(0.2,0.9)\n",
    "plt.legend()"
   ]
  },
  {
   "cell_type": "code",
   "execution_count": 22,
   "metadata": {},
   "outputs": [
    {
     "data": {
      "text/plain": [
       "<matplotlib.legend.Legend at 0x7f6520df4550>"
      ]
     },
     "execution_count": 22,
     "metadata": {},
     "output_type": "execute_result"
    },
    {
     "data": {
      "image/png": "[encoded data removed]",
      "text/plain": [
       "<Figure size 432x288 with 1 Axes>"
      ]
     },
     "metadata": {
      "needs_background": "light"
     },
     "output_type": "display_data"
    }
   ],
   "source": [
    "plt.plot(prof_wt[1], label= 'Score = %.3lf'%score_wt[1])\n",
    "# plt.plot(smooth(WT_profiles,21), label= 'Score = %.3lf'%WT_scores)\n",
    "\n",
    "plt.xlabel('Residue position')\n",
    "plt.ylabel('LLPS propensity')\n",
    "# plt.title('%s'%(seqTdp43[1].id))\n",
    "# plt.ylim(0.2,0.9)\n",
    "plt.legend()"
   ]
  },
  {
   "cell_type": "code",
   "execution_count": 3,
   "metadata": {},
   "outputs": [
    {
     "name": "stderr",
     "output_type": "stream",
     "text": [
      "/mnt/large/jfiorentino/INTERACTomics/PREDICTOR/pred-venv/lib/python3.9/site-packages/openpyxl/worksheet/_reader.py:329: UserWarning: Unknown extension is not supported and will be removed\n",
      "  warn(msg)\n"
     ]
    }
   ],
   "source": [
    "df=compute_score_and_profile_from_pdb(\"./pdb_files/AF-Q2Q9Z6-F1-model_v4.pdb\")"
   ]
  },
  {
   "cell_type": "code",
   "execution_count": 7,
   "metadata": {},
   "outputs": [
    {
     "data": {
      "text/plain": [
       "['RBD_int_min_0', 'RBD_int_min_1', 'RBD_int_min_2']"
      ]
     },
     "execution_count": 7,
     "metadata": {},
     "output_type": "execute_result"
    }
   ],
   "source": [
    "df.columns[df.isna().any()].tolist()"
   ]
  },
  {
   "cell_type": "code",
   "execution_count": 9,
   "metadata": {},
   "outputs": [
    {
     "data": {
      "text/html": [
       "<div>\n",
       "<style scoped>\n",
       "    .dataframe tbody tr th:only-of-type {\n",
       "        vertical-align: middle;\n",
       "    }\n",
       "\n",
       "    .dataframe tbody tr th {\n",
       "        vertical-align: top;\n",
       "    }\n",
       "\n",
       "    .dataframe thead th {\n",
       "        text-align: right;\n",
       "    }\n",
       "</style>\n",
       "<table border=\"1\" class=\"dataframe\">\n",
       "  <thead>\n",
       "    <tr style=\"text-align: right;\">\n",
       "      <th></th>\n",
       "      <th>RBD_int_min_0</th>\n",
       "      <th>RBD_int_min_1</th>\n",
       "      <th>RBD_int_min_2</th>\n",
       "    </tr>\n",
       "  </thead>\n",
       "  <tbody>\n",
       "    <tr>\n",
       "      <th>AF-Q2Q9Z6-F1-model_v4</th>\n",
       "      <td>NaN</td>\n",
       "      <td>NaN</td>\n",
       "      <td>NaN</td>\n",
       "    </tr>\n",
       "  </tbody>\n",
       "</table>\n",
       "</div>"
      ],
      "text/plain": [
       "                       RBD_int_min_0  RBD_int_min_1  RBD_int_min_2\n",
       "AF-Q2Q9Z6-F1-model_v4            NaN            NaN            NaN"
      ]
     },
     "execution_count": 9,
     "metadata": {},
     "output_type": "execute_result"
    }
   ],
   "source": [
    "df.loc[:,['RBD_int_min_0', 'RBD_int_min_1', 'RBD_int_min_2']]"
   ]
  },
  {
   "cell_type": "code",
   "execution_count": 5,
   "metadata": {},
   "outputs": [
    {
     "name": "stdout",
     "output_type": "stream",
     "text": [
      "1 AF-A0A0K3ATS1-F1-model_v4.pdb\n"
     ]
    },
    {
     "name": "stderr",
     "output_type": "stream",
     "text": [
      "/mnt/large/jfiorentino/INTERACTomics/PREDICTOR/pred-venv/lib/python3.9/site-packages/openpyxl/worksheet/_reader.py:329: UserWarning: Unknown extension is not supported and will be removed\n",
      "  warn(msg)\n"
     ]
    },
    {
     "name": "stdout",
     "output_type": "stream",
     "text": [
      "2 AF-Q03392-F1-model_v4.pdb\n"
     ]
    },
    {
     "name": "stderr",
     "output_type": "stream",
     "text": [
      "/mnt/large/jfiorentino/INTERACTomics/PREDICTOR/pred-venv/lib/python3.9/site-packages/sklearn/base.py:443: UserWarning: X has feature names, but StandardScaler was fitted without feature names\n",
      "  warnings.warn(\n",
      "/mnt/large/jfiorentino/INTERACTomics/PREDICTOR/pred-venv/lib/python3.9/site-packages/openpyxl/worksheet/_reader.py:329: UserWarning: Unknown extension is not supported and will be removed\n",
      "  warn(msg)\n"
     ]
    },
    {
     "name": "stdout",
     "output_type": "stream",
     "text": [
      "3 AF-Q06851-F1-model_v4.pdb\n"
     ]
    },
    {
     "name": "stderr",
     "output_type": "stream",
     "text": [
      "/mnt/large/jfiorentino/INTERACTomics/PREDICTOR/pred-venv/lib/python3.9/site-packages/sklearn/base.py:443: UserWarning: X has feature names, but StandardScaler was fitted without feature names\n",
      "  warnings.warn(\n",
      "/mnt/large/jfiorentino/INTERACTomics/PREDICTOR/pred-venv/lib/python3.9/site-packages/openpyxl/worksheet/_reader.py:329: UserWarning: Unknown extension is not supported and will be removed\n",
      "  warn(msg)\n"
     ]
    },
    {
     "name": "stdout",
     "output_type": "stream",
     "text": [
      "4 AF-B7JA25-F1-model_v4.pdb\n"
     ]
    },
    {
     "name": "stderr",
     "output_type": "stream",
     "text": [
      "/mnt/large/jfiorentino/INTERACTomics/PREDICTOR/pred-venv/lib/python3.9/site-packages/sklearn/base.py:443: UserWarning: X has feature names, but StandardScaler was fitted without feature names\n",
      "  warnings.warn(\n",
      "/mnt/large/jfiorentino/INTERACTomics/PREDICTOR/pred-venv/lib/python3.9/site-packages/openpyxl/worksheet/_reader.py:329: UserWarning: Unknown extension is not supported and will be removed\n",
      "  warn(msg)\n"
     ]
    },
    {
     "name": "stdout",
     "output_type": "stream",
     "text": [
      "5 AF-P25603-F1-model_v4.pdb\n"
     ]
    },
    {
     "name": "stderr",
     "output_type": "stream",
     "text": [
      "/mnt/large/jfiorentino/INTERACTomics/PREDICTOR/pred-venv/lib/python3.9/site-packages/sklearn/base.py:443: UserWarning: X has feature names, but StandardScaler was fitted without feature names\n",
      "  warnings.warn(\n",
      "/mnt/large/jfiorentino/INTERACTomics/PREDICTOR/pred-venv/lib/python3.9/site-packages/openpyxl/worksheet/_reader.py:329: UserWarning: Unknown extension is not supported and will be removed\n",
      "  warn(msg)\n"
     ]
    },
    {
     "name": "stdout",
     "output_type": "stream",
     "text": [
      "6 AF-A0A1T5HUK6-F1-model_v4.pdb\n"
     ]
    },
    {
     "name": "stderr",
     "output_type": "stream",
     "text": [
      "/mnt/large/jfiorentino/INTERACTomics/PREDICTOR/pred-venv/lib/python3.9/site-packages/sklearn/base.py:443: UserWarning: X has feature names, but StandardScaler was fitted without feature names\n",
      "  warnings.warn(\n",
      "/mnt/large/jfiorentino/INTERACTomics/PREDICTOR/pred-venv/lib/python3.9/site-packages/openpyxl/worksheet/_reader.py:329: UserWarning: Unknown extension is not supported and will be removed\n",
      "  warn(msg)\n"
     ]
    },
    {
     "name": "stdout",
     "output_type": "stream",
     "text": [
      "7 AF-F4JXN6-F1-model_v4.pdb\n"
     ]
    },
    {
     "name": "stderr",
     "output_type": "stream",
     "text": [
      "/mnt/large/jfiorentino/INTERACTomics/PREDICTOR/pred-venv/lib/python3.9/site-packages/sklearn/base.py:443: UserWarning: X has feature names, but StandardScaler was fitted without feature names\n",
      "  warnings.warn(\n",
      "/mnt/large/jfiorentino/INTERACTomics/PREDICTOR/pred-venv/lib/python3.9/site-packages/openpyxl/worksheet/_reader.py:329: UserWarning: Unknown extension is not supported and will be removed\n",
      "  warn(msg)\n"
     ]
    },
    {
     "name": "stdout",
     "output_type": "stream",
     "text": [
      "8 AF-A0A2K3D3T0-F1-model_v4.pdb\n"
     ]
    },
    {
     "name": "stderr",
     "output_type": "stream",
     "text": [
      "/mnt/large/jfiorentino/INTERACTomics/PREDICTOR/pred-venv/lib/python3.9/site-packages/sklearn/base.py:443: UserWarning: X has feature names, but StandardScaler was fitted without feature names\n",
      "  warnings.warn(\n",
      "/mnt/large/jfiorentino/INTERACTomics/PREDICTOR/pred-venv/lib/python3.9/site-packages/openpyxl/worksheet/_reader.py:329: UserWarning: Unknown extension is not supported and will be removed\n",
      "  warn(msg)\n"
     ]
    },
    {
     "name": "stdout",
     "output_type": "stream",
     "text": [
      "9 AF-Q9TXM1-F1-model_v4.pdb\n"
     ]
    },
    {
     "name": "stderr",
     "output_type": "stream",
     "text": [
      "/mnt/large/jfiorentino/INTERACTomics/PREDICTOR/pred-venv/lib/python3.9/site-packages/sklearn/base.py:443: UserWarning: X has feature names, but StandardScaler was fitted without feature names\n",
      "  warnings.warn(\n",
      "/mnt/large/jfiorentino/INTERACTomics/PREDICTOR/pred-venv/lib/python3.9/site-packages/openpyxl/worksheet/_reader.py:329: UserWarning: Unknown extension is not supported and will be removed\n",
      "  warn(msg)\n"
     ]
    },
    {
     "name": "stdout",
     "output_type": "stream",
     "text": [
      "10 AF-G5EDE7-F1-model_v4.pdb\n"
     ]
    },
    {
     "name": "stderr",
     "output_type": "stream",
     "text": [
      "/mnt/large/jfiorentino/INTERACTomics/PREDICTOR/pred-venv/lib/python3.9/site-packages/sklearn/base.py:443: UserWarning: X has feature names, but StandardScaler was fitted without feature names\n",
      "  warnings.warn(\n",
      "/mnt/large/jfiorentino/INTERACTomics/PREDICTOR/pred-venv/lib/python3.9/site-packages/openpyxl/worksheet/_reader.py:329: UserWarning: Unknown extension is not supported and will be removed\n",
      "  warn(msg)\n"
     ]
    },
    {
     "name": "stdout",
     "output_type": "stream",
     "text": [
      "11 AF-P0C093-F1-model_v4.pdb\n"
     ]
    },
    {
     "name": "stderr",
     "output_type": "stream",
     "text": [
      "/mnt/large/jfiorentino/INTERACTomics/PREDICTOR/pred-venv/lib/python3.9/site-packages/sklearn/base.py:443: UserWarning: X has feature names, but StandardScaler was fitted without feature names\n",
      "  warnings.warn(\n",
      "/mnt/large/jfiorentino/INTERACTomics/PREDICTOR/pred-venv/lib/python3.9/site-packages/openpyxl/worksheet/_reader.py:329: UserWarning: Unknown extension is not supported and will be removed\n",
      "  warn(msg)\n"
     ]
    },
    {
     "name": "stdout",
     "output_type": "stream",
     "text": [
      "12 AF-B7JB30-F1-model_v4.pdb\n"
     ]
    },
    {
     "name": "stderr",
     "output_type": "stream",
     "text": [
      "/mnt/large/jfiorentino/INTERACTomics/PREDICTOR/pred-venv/lib/python3.9/site-packages/sklearn/base.py:443: UserWarning: X has feature names, but StandardScaler was fitted without feature names\n",
      "  warnings.warn(\n",
      "/mnt/large/jfiorentino/INTERACTomics/PREDICTOR/pred-venv/lib/python3.9/site-packages/openpyxl/worksheet/_reader.py:329: UserWarning: Unknown extension is not supported and will be removed\n",
      "  warn(msg)\n"
     ]
    },
    {
     "name": "stdout",
     "output_type": "stream",
     "text": [
      "13 AF-Q03513-F1-model_v4.pdb\n"
     ]
    },
    {
     "name": "stderr",
     "output_type": "stream",
     "text": [
      "/mnt/large/jfiorentino/INTERACTomics/PREDICTOR/pred-venv/lib/python3.9/site-packages/sklearn/base.py:443: UserWarning: X has feature names, but StandardScaler was fitted without feature names\n",
      "  warnings.warn(\n",
      "/mnt/large/jfiorentino/INTERACTomics/PREDICTOR/pred-venv/lib/python3.9/site-packages/openpyxl/worksheet/_reader.py:329: UserWarning: Unknown extension is not supported and will be removed\n",
      "  warn(msg)\n"
     ]
    },
    {
     "name": "stdout",
     "output_type": "stream",
     "text": [
      "14 AF-Q95XR4-F1-model_v4.pdb\n"
     ]
    },
    {
     "name": "stderr",
     "output_type": "stream",
     "text": [
      "/mnt/large/jfiorentino/INTERACTomics/PREDICTOR/pred-venv/lib/python3.9/site-packages/sklearn/base.py:443: UserWarning: X has feature names, but StandardScaler was fitted without feature names\n",
      "  warnings.warn(\n",
      "/mnt/large/jfiorentino/INTERACTomics/PREDICTOR/pred-venv/lib/python3.9/site-packages/openpyxl/worksheet/_reader.py:329: UserWarning: Unknown extension is not supported and will be removed\n",
      "  warn(msg)\n"
     ]
    },
    {
     "name": "stdout",
     "output_type": "stream",
     "text": [
      "15 AF-Q9VWE6-F1-model_v4.pdb\n"
     ]
    },
    {
     "name": "stderr",
     "output_type": "stream",
     "text": [
      "/mnt/large/jfiorentino/INTERACTomics/PREDICTOR/pred-venv/lib/python3.9/site-packages/sklearn/base.py:443: UserWarning: X has feature names, but StandardScaler was fitted without feature names\n",
      "  warnings.warn(\n",
      "/mnt/large/jfiorentino/INTERACTomics/PREDICTOR/pred-venv/lib/python3.9/site-packages/openpyxl/worksheet/_reader.py:329: UserWarning: Unknown extension is not supported and will be removed\n",
      "  warn(msg)\n"
     ]
    },
    {
     "name": "stdout",
     "output_type": "stream",
     "text": [
      "16 AF-P42212-F1-model_v4.pdb\n"
     ]
    },
    {
     "name": "stderr",
     "output_type": "stream",
     "text": [
      "/mnt/large/jfiorentino/INTERACTomics/PREDICTOR/pred-venv/lib/python3.9/site-packages/sklearn/base.py:443: UserWarning: X has feature names, but StandardScaler was fitted without feature names\n",
      "  warnings.warn(\n",
      "/mnt/large/jfiorentino/INTERACTomics/PREDICTOR/pred-venv/lib/python3.9/site-packages/openpyxl/worksheet/_reader.py:329: UserWarning: Unknown extension is not supported and will be removed\n",
      "  warn(msg)\n"
     ]
    },
    {
     "name": "stdout",
     "output_type": "stream",
     "text": [
      "17 AF-Q9VV90-F1-model_v4.pdb\n"
     ]
    },
    {
     "name": "stderr",
     "output_type": "stream",
     "text": [
      "/mnt/large/jfiorentino/INTERACTomics/PREDICTOR/pred-venv/lib/python3.9/site-packages/sklearn/base.py:443: UserWarning: X has feature names, but StandardScaler was fitted without feature names\n",
      "  warnings.warn(\n",
      "/mnt/large/jfiorentino/INTERACTomics/PREDICTOR/pred-venv/lib/python3.9/site-packages/openpyxl/worksheet/_reader.py:329: UserWarning: Unknown extension is not supported and will be removed\n",
      "  warn(msg)\n"
     ]
    },
    {
     "name": "stdout",
     "output_type": "stream",
     "text": [
      "18 AF-B7JB29-F1-model_v4.pdb\n"
     ]
    },
    {
     "name": "stderr",
     "output_type": "stream",
     "text": [
      "/mnt/large/jfiorentino/INTERACTomics/PREDICTOR/pred-venv/lib/python3.9/site-packages/sklearn/base.py:443: UserWarning: X has feature names, but StandardScaler was fitted without feature names\n",
      "  warnings.warn(\n",
      "/mnt/large/jfiorentino/INTERACTomics/PREDICTOR/pred-venv/lib/python3.9/site-packages/openpyxl/worksheet/_reader.py:329: UserWarning: Unknown extension is not supported and will be removed\n",
      "  warn(msg)\n"
     ]
    },
    {
     "name": "stdout",
     "output_type": "stream",
     "text": [
      "19 AF-P95648-F1-model_v4.pdb\n"
     ]
    },
    {
     "name": "stderr",
     "output_type": "stream",
     "text": [
      "/mnt/large/jfiorentino/INTERACTomics/PREDICTOR/pred-venv/lib/python3.9/site-packages/sklearn/base.py:443: UserWarning: X has feature names, but StandardScaler was fitted without feature names\n",
      "  warnings.warn(\n",
      "/mnt/large/jfiorentino/INTERACTomics/PREDICTOR/pred-venv/lib/python3.9/site-packages/openpyxl/worksheet/_reader.py:329: UserWarning: Unknown extension is not supported and will be removed\n",
      "  warn(msg)\n"
     ]
    },
    {
     "name": "stdout",
     "output_type": "stream",
     "text": [
      "20 AF-P00873-F1-model_v4.pdb\n"
     ]
    },
    {
     "name": "stderr",
     "output_type": "stream",
     "text": [
      "/mnt/large/jfiorentino/INTERACTomics/PREDICTOR/pred-venv/lib/python3.9/site-packages/sklearn/base.py:443: UserWarning: X has feature names, but StandardScaler was fitted without feature names\n",
      "  warnings.warn(\n",
      "/mnt/large/jfiorentino/INTERACTomics/PREDICTOR/pred-venv/lib/python3.9/site-packages/openpyxl/worksheet/_reader.py:329: UserWarning: Unknown extension is not supported and will be removed\n",
      "  warn(msg)\n"
     ]
    },
    {
     "name": "stdout",
     "output_type": "stream",
     "text": [
      "21 AF-P07987-F1-model_v4.pdb\n"
     ]
    },
    {
     "name": "stderr",
     "output_type": "stream",
     "text": [
      "/mnt/large/jfiorentino/INTERACTomics/PREDICTOR/pred-venv/lib/python3.9/site-packages/sklearn/base.py:443: UserWarning: X has feature names, but StandardScaler was fitted without feature names\n",
      "  warnings.warn(\n",
      "/mnt/large/jfiorentino/INTERACTomics/PREDICTOR/pred-venv/lib/python3.9/site-packages/openpyxl/worksheet/_reader.py:329: UserWarning: Unknown extension is not supported and will be removed\n",
      "  warn(msg)\n"
     ]
    },
    {
     "name": "stdout",
     "output_type": "stream",
     "text": [
      "22 AF-P0A9A6-F1-model_v4.pdb\n"
     ]
    },
    {
     "name": "stderr",
     "output_type": "stream",
     "text": [
      "/mnt/large/jfiorentino/INTERACTomics/PREDICTOR/pred-venv/lib/python3.9/site-packages/sklearn/base.py:443: UserWarning: X has feature names, but StandardScaler was fitted without feature names\n",
      "  warnings.warn(\n",
      "/mnt/large/jfiorentino/INTERACTomics/PREDICTOR/pred-venv/lib/python3.9/site-packages/openpyxl/worksheet/_reader.py:329: UserWarning: Unknown extension is not supported and will be removed\n",
      "  warn(msg)\n"
     ]
    },
    {
     "name": "stdout",
     "output_type": "stream",
     "text": [
      "23 AF-Q2Q9Z6-F1-model_v4.pdb\n"
     ]
    },
    {
     "name": "stderr",
     "output_type": "stream",
     "text": [
      "/mnt/large/jfiorentino/INTERACTomics/PREDICTOR/pred-venv/lib/python3.9/site-packages/sklearn/base.py:443: UserWarning: X has feature names, but StandardScaler was fitted without feature names\n",
      "  warnings.warn(\n",
      "/mnt/large/jfiorentino/INTERACTomics/PREDICTOR/pred-venv/lib/python3.9/site-packages/openpyxl/worksheet/_reader.py:329: UserWarning: Unknown extension is not supported and will be removed\n",
      "  warn(msg)\n"
     ]
    },
    {
     "name": "stdout",
     "output_type": "stream",
     "text": [
      "24 AF-Q12113-F1-model_v4.pdb\n"
     ]
    },
    {
     "name": "stderr",
     "output_type": "stream",
     "text": [
      "/mnt/large/jfiorentino/INTERACTomics/PREDICTOR/pred-venv/lib/python3.9/site-packages/sklearn/base.py:443: UserWarning: X has feature names, but StandardScaler was fitted without feature names\n",
      "  warnings.warn(\n",
      "/mnt/large/jfiorentino/INTERACTomics/PREDICTOR/pred-venv/lib/python3.9/site-packages/openpyxl/worksheet/_reader.py:329: UserWarning: Unknown extension is not supported and will be removed\n",
      "  warn(msg)\n"
     ]
    },
    {
     "name": "stdout",
     "output_type": "stream",
     "text": [
      "25 AF-Q9A749-F1-model_v4.pdb\n"
     ]
    },
    {
     "name": "stderr",
     "output_type": "stream",
     "text": [
      "/mnt/large/jfiorentino/INTERACTomics/PREDICTOR/pred-venv/lib/python3.9/site-packages/sklearn/base.py:443: UserWarning: X has feature names, but StandardScaler was fitted without feature names\n",
      "  warnings.warn(\n",
      "/mnt/large/jfiorentino/INTERACTomics/PREDICTOR/pred-venv/lib/python3.9/site-packages/openpyxl/worksheet/_reader.py:329: UserWarning: Unknown extension is not supported and will be removed\n",
      "  warn(msg)\n"
     ]
    },
    {
     "name": "stdout",
     "output_type": "stream",
     "text": [
      "26 AF-P39548-F1-model_v4.pdb\n"
     ]
    },
    {
     "name": "stderr",
     "output_type": "stream",
     "text": [
      "/mnt/large/jfiorentino/INTERACTomics/PREDICTOR/pred-venv/lib/python3.9/site-packages/sklearn/base.py:443: UserWarning: X has feature names, but StandardScaler was fitted without feature names\n",
      "  warnings.warn(\n",
      "/mnt/large/jfiorentino/INTERACTomics/PREDICTOR/pred-venv/lib/python3.9/site-packages/openpyxl/worksheet/_reader.py:329: UserWarning: Unknown extension is not supported and will be removed\n",
      "  warn(msg)\n"
     ]
    },
    {
     "name": "stdout",
     "output_type": "stream",
     "text": [
      "27 AF-P03069-F1-model_v4.pdb\n"
     ]
    },
    {
     "name": "stderr",
     "output_type": "stream",
     "text": [
      "/mnt/large/jfiorentino/INTERACTomics/PREDICTOR/pred-venv/lib/python3.9/site-packages/sklearn/base.py:443: UserWarning: X has feature names, but StandardScaler was fitted without feature names\n",
      "  warnings.warn(\n",
      "/mnt/large/jfiorentino/INTERACTomics/PREDICTOR/pred-venv/lib/python3.9/site-packages/openpyxl/worksheet/_reader.py:329: UserWarning: Unknown extension is not supported and will be removed\n",
      "  warn(msg)\n"
     ]
    },
    {
     "name": "stdout",
     "output_type": "stream",
     "text": [
      "28 AF-P91870-F1-model_v4.pdb\n"
     ]
    },
    {
     "name": "stderr",
     "output_type": "stream",
     "text": [
      "/mnt/large/jfiorentino/INTERACTomics/PREDICTOR/pred-venv/lib/python3.9/site-packages/sklearn/base.py:443: UserWarning: X has feature names, but StandardScaler was fitted without feature names\n",
      "  warnings.warn(\n",
      "/mnt/large/jfiorentino/INTERACTomics/PREDICTOR/pred-venv/lib/python3.9/site-packages/openpyxl/worksheet/_reader.py:329: UserWarning: Unknown extension is not supported and will be removed\n",
      "  warn(msg)\n"
     ]
    },
    {
     "name": "stdout",
     "output_type": "stream",
     "text": [
      "29 AF-Q9V7U0-F1-model_v4.pdb\n"
     ]
    },
    {
     "name": "stderr",
     "output_type": "stream",
     "text": [
      "/mnt/large/jfiorentino/INTERACTomics/PREDICTOR/pred-venv/lib/python3.9/site-packages/sklearn/base.py:443: UserWarning: X has feature names, but StandardScaler was fitted without feature names\n",
      "  warnings.warn(\n",
      "/mnt/large/jfiorentino/INTERACTomics/PREDICTOR/pred-venv/lib/python3.9/site-packages/openpyxl/worksheet/_reader.py:329: UserWarning: Unknown extension is not supported and will be removed\n",
      "  warn(msg)\n"
     ]
    },
    {
     "name": "stdout",
     "output_type": "stream",
     "text": [
      "30 AF-P62694-F1-model_v4.pdb\n"
     ]
    },
    {
     "name": "stderr",
     "output_type": "stream",
     "text": [
      "/mnt/large/jfiorentino/INTERACTomics/PREDICTOR/pred-venv/lib/python3.9/site-packages/sklearn/base.py:443: UserWarning: X has feature names, but StandardScaler was fitted without feature names\n",
      "  warnings.warn(\n",
      "/mnt/large/jfiorentino/INTERACTomics/PREDICTOR/pred-venv/lib/python3.9/site-packages/openpyxl/worksheet/_reader.py:329: UserWarning: Unknown extension is not supported and will be removed\n",
      "  warn(msg)\n"
     ]
    },
    {
     "name": "stdout",
     "output_type": "stream",
     "text": [
      "31 AF-Q4LB35-F1-model_v4.pdb\n"
     ]
    },
    {
     "name": "stderr",
     "output_type": "stream",
     "text": [
      "/mnt/large/jfiorentino/INTERACTomics/PREDICTOR/pred-venv/lib/python3.9/site-packages/sklearn/base.py:443: UserWarning: X has feature names, but StandardScaler was fitted without feature names\n",
      "  warnings.warn(\n",
      "/mnt/large/jfiorentino/INTERACTomics/PREDICTOR/pred-venv/lib/python3.9/site-packages/openpyxl/worksheet/_reader.py:329: UserWarning: Unknown extension is not supported and will be removed\n",
      "  warn(msg)\n"
     ]
    },
    {
     "name": "stdout",
     "output_type": "stream",
     "text": [
      "32 AF-Q9W4M2-F1-model_v4.pdb\n"
     ]
    },
    {
     "name": "stderr",
     "output_type": "stream",
     "text": [
      "/mnt/large/jfiorentino/INTERACTomics/PREDICTOR/pred-venv/lib/python3.9/site-packages/sklearn/base.py:443: UserWarning: X has feature names, but StandardScaler was fitted without feature names\n",
      "  warnings.warn(\n",
      "/mnt/large/jfiorentino/INTERACTomics/PREDICTOR/pred-venv/lib/python3.9/site-packages/openpyxl/worksheet/_reader.py:329: UserWarning: Unknown extension is not supported and will be removed\n",
      "  warn(msg)\n"
     ]
    },
    {
     "name": "stdout",
     "output_type": "stream",
     "text": [
      "33 AF-P18566-F1-model_v4.pdb\n"
     ]
    },
    {
     "name": "stderr",
     "output_type": "stream",
     "text": [
      "/mnt/large/jfiorentino/INTERACTomics/PREDICTOR/pred-venv/lib/python3.9/site-packages/sklearn/base.py:443: UserWarning: X has feature names, but StandardScaler was fitted without feature names\n",
      "  warnings.warn(\n",
      "/mnt/large/jfiorentino/INTERACTomics/PREDICTOR/pred-venv/lib/python3.9/site-packages/openpyxl/worksheet/_reader.py:329: UserWarning: Unknown extension is not supported and will be removed\n",
      "  warn(msg)\n"
     ]
    },
    {
     "name": "stdout",
     "output_type": "stream",
     "text": [
      "34 AF-A0A2K3DA85-F1-model_v4.pdb\n"
     ]
    },
    {
     "name": "stderr",
     "output_type": "stream",
     "text": [
      "/mnt/large/jfiorentino/INTERACTomics/PREDICTOR/pred-venv/lib/python3.9/site-packages/sklearn/base.py:443: UserWarning: X has feature names, but StandardScaler was fitted without feature names\n",
      "  warnings.warn(\n",
      "/mnt/large/jfiorentino/INTERACTomics/PREDICTOR/pred-venv/lib/python3.9/site-packages/openpyxl/worksheet/_reader.py:329: UserWarning: Unknown extension is not supported and will be removed\n",
      "  warn(msg)\n"
     ]
    },
    {
     "name": "stdout",
     "output_type": "stream",
     "text": [
      "35 AF-Q9XWB4-F1-model_v4.pdb\n"
     ]
    },
    {
     "name": "stderr",
     "output_type": "stream",
     "text": [
      "/mnt/large/jfiorentino/INTERACTomics/PREDICTOR/pred-venv/lib/python3.9/site-packages/sklearn/base.py:443: UserWarning: X has feature names, but StandardScaler was fitted without feature names\n",
      "  warnings.warn(\n",
      "/mnt/large/jfiorentino/INTERACTomics/PREDICTOR/pred-venv/lib/python3.9/site-packages/openpyxl/worksheet/_reader.py:329: UserWarning: Unknown extension is not supported and will be removed\n",
      "  warn(msg)\n"
     ]
    },
    {
     "name": "stdout",
     "output_type": "stream",
     "text": [
      "36 AF-A8IVP7-F1-model_v4.pdb\n"
     ]
    },
    {
     "name": "stderr",
     "output_type": "stream",
     "text": [
      "/mnt/large/jfiorentino/INTERACTomics/PREDICTOR/pred-venv/lib/python3.9/site-packages/sklearn/base.py:443: UserWarning: X has feature names, but StandardScaler was fitted without feature names\n",
      "  warnings.warn(\n",
      "/mnt/large/jfiorentino/INTERACTomics/PREDICTOR/pred-venv/lib/python3.9/site-packages/openpyxl/worksheet/_reader.py:329: UserWarning: Unknown extension is not supported and will be removed\n",
      "  warn(msg)\n"
     ]
    },
    {
     "name": "stdout",
     "output_type": "stream",
     "text": [
      "37 AF-A0A2K3D5S9-F1-model_v4.pdb\n"
     ]
    },
    {
     "name": "stderr",
     "output_type": "stream",
     "text": [
      "/mnt/large/jfiorentino/INTERACTomics/PREDICTOR/pred-venv/lib/python3.9/site-packages/sklearn/base.py:443: UserWarning: X has feature names, but StandardScaler was fitted without feature names\n",
      "  warnings.warn(\n",
      "/mnt/large/jfiorentino/INTERACTomics/PREDICTOR/pred-venv/lib/python3.9/site-packages/openpyxl/worksheet/_reader.py:329: UserWarning: Unknown extension is not supported and will be removed\n",
      "  warn(msg)\n"
     ]
    },
    {
     "name": "stdout",
     "output_type": "stream",
     "text": [
      "38 AF-G5EBV6-F1-model_v4.pdb\n"
     ]
    },
    {
     "name": "stderr",
     "output_type": "stream",
     "text": [
      "/mnt/large/jfiorentino/INTERACTomics/PREDICTOR/pred-venv/lib/python3.9/site-packages/sklearn/base.py:443: UserWarning: X has feature names, but StandardScaler was fitted without feature names\n",
      "  warnings.warn(\n",
      "/mnt/large/jfiorentino/INTERACTomics/PREDICTOR/pred-venv/lib/python3.9/site-packages/openpyxl/worksheet/_reader.py:329: UserWarning: Unknown extension is not supported and will be removed\n",
      "  warn(msg)\n"
     ]
    },
    {
     "name": "stdout",
     "output_type": "stream",
     "text": [
      "39 AF-A0A178UYI6-F1-model_v4.pdb\n"
     ]
    },
    {
     "name": "stderr",
     "output_type": "stream",
     "text": [
      "/mnt/large/jfiorentino/INTERACTomics/PREDICTOR/pred-venv/lib/python3.9/site-packages/sklearn/base.py:443: UserWarning: X has feature names, but StandardScaler was fitted without feature names\n",
      "  warnings.warn(\n",
      "/mnt/large/jfiorentino/INTERACTomics/PREDICTOR/pred-venv/lib/python3.9/site-packages/openpyxl/worksheet/_reader.py:329: UserWarning: Unknown extension is not supported and will be removed\n",
      "  warn(msg)\n"
     ]
    },
    {
     "name": "stdout",
     "output_type": "stream",
     "text": [
      "40 AF-Q23494-F1-model_v4.pdb\n"
     ]
    },
    {
     "name": "stderr",
     "output_type": "stream",
     "text": [
      "/mnt/large/jfiorentino/INTERACTomics/PREDICTOR/pred-venv/lib/python3.9/site-packages/sklearn/base.py:443: UserWarning: X has feature names, but StandardScaler was fitted without feature names\n",
      "  warnings.warn(\n",
      "/mnt/large/jfiorentino/INTERACTomics/PREDICTOR/pred-venv/lib/python3.9/site-packages/openpyxl/worksheet/_reader.py:329: UserWarning: Unknown extension is not supported and will be removed\n",
      "  warn(msg)\n"
     ]
    },
    {
     "name": "stdout",
     "output_type": "stream",
     "text": [
      "41 AF-Q8L3W1-F1-model_v4.pdb\n"
     ]
    },
    {
     "name": "stderr",
     "output_type": "stream",
     "text": [
      "/mnt/large/jfiorentino/INTERACTomics/PREDICTOR/pred-venv/lib/python3.9/site-packages/sklearn/base.py:443: UserWarning: X has feature names, but StandardScaler was fitted without feature names\n",
      "  warnings.warn(\n",
      "/mnt/large/jfiorentino/INTERACTomics/PREDICTOR/pred-venv/lib/python3.9/site-packages/openpyxl/worksheet/_reader.py:329: UserWarning: Unknown extension is not supported and will be removed\n",
      "  warn(msg)\n"
     ]
    },
    {
     "name": "stdout",
     "output_type": "stream",
     "text": [
      "42 AF-A0A178WIB5-F1-model_v4.pdb\n"
     ]
    },
    {
     "name": "stderr",
     "output_type": "stream",
     "text": [
      "/mnt/large/jfiorentino/INTERACTomics/PREDICTOR/pred-venv/lib/python3.9/site-packages/sklearn/base.py:443: UserWarning: X has feature names, but StandardScaler was fitted without feature names\n",
      "  warnings.warn(\n",
      "/mnt/large/jfiorentino/INTERACTomics/PREDICTOR/pred-venv/lib/python3.9/site-packages/openpyxl/worksheet/_reader.py:329: UserWarning: Unknown extension is not supported and will be removed\n",
      "  warn(msg)\n"
     ]
    },
    {
     "name": "stdout",
     "output_type": "stream",
     "text": [
      "43 AF-Q9W4I7-F1-model_v4.pdb\n"
     ]
    },
    {
     "name": "stderr",
     "output_type": "stream",
     "text": [
      "/mnt/large/jfiorentino/INTERACTomics/PREDICTOR/pred-venv/lib/python3.9/site-packages/sklearn/base.py:443: UserWarning: X has feature names, but StandardScaler was fitted without feature names\n",
      "  warnings.warn(\n",
      "/mnt/large/jfiorentino/INTERACTomics/PREDICTOR/pred-venv/lib/python3.9/site-packages/openpyxl/worksheet/_reader.py:329: UserWarning: Unknown extension is not supported and will be removed\n",
      "  warn(msg)\n"
     ]
    },
    {
     "name": "stdout",
     "output_type": "stream",
     "text": [
      "44 AF-Q8LAP2-F1-model_v4.pdb\n"
     ]
    },
    {
     "name": "stderr",
     "output_type": "stream",
     "text": [
      "/mnt/large/jfiorentino/INTERACTomics/PREDICTOR/pred-venv/lib/python3.9/site-packages/sklearn/base.py:443: UserWarning: X has feature names, but StandardScaler was fitted without feature names\n",
      "  warnings.warn(\n",
      "/mnt/large/jfiorentino/INTERACTomics/PREDICTOR/pred-venv/lib/python3.9/site-packages/openpyxl/worksheet/_reader.py:329: UserWarning: Unknown extension is not supported and will be removed\n",
      "  warn(msg)\n"
     ]
    },
    {
     "name": "stdout",
     "output_type": "stream",
     "text": [
      "45 AF-A7LPC6-F1-model_v4.pdb\n"
     ]
    },
    {
     "name": "stderr",
     "output_type": "stream",
     "text": [
      "/mnt/large/jfiorentino/INTERACTomics/PREDICTOR/pred-venv/lib/python3.9/site-packages/sklearn/base.py:443: UserWarning: X has feature names, but StandardScaler was fitted without feature names\n",
      "  warnings.warn(\n",
      "/mnt/large/jfiorentino/INTERACTomics/PREDICTOR/pred-venv/lib/python3.9/site-packages/openpyxl/worksheet/_reader.py:329: UserWarning: Unknown extension is not supported and will be removed\n",
      "  warn(msg)\n"
     ]
    },
    {
     "name": "stdout",
     "output_type": "stream",
     "text": [
      "46 AF-Q95Q04-F1-model_v4.pdb\n"
     ]
    },
    {
     "name": "stderr",
     "output_type": "stream",
     "text": [
      "/mnt/large/jfiorentino/INTERACTomics/PREDICTOR/pred-venv/lib/python3.9/site-packages/sklearn/base.py:443: UserWarning: X has feature names, but StandardScaler was fitted without feature names\n",
      "  warnings.warn(\n",
      "/mnt/large/jfiorentino/INTERACTomics/PREDICTOR/pred-venv/lib/python3.9/site-packages/openpyxl/worksheet/_reader.py:329: UserWarning: Unknown extension is not supported and will be removed\n",
      "  warn(msg)\n"
     ]
    },
    {
     "name": "stdout",
     "output_type": "stream",
     "text": [
      "47 AF-G5EG87-F1-model_v4.pdb\n"
     ]
    },
    {
     "name": "stderr",
     "output_type": "stream",
     "text": [
      "/mnt/large/jfiorentino/INTERACTomics/PREDICTOR/pred-venv/lib/python3.9/site-packages/sklearn/base.py:443: UserWarning: X has feature names, but StandardScaler was fitted without feature names\n",
      "  warnings.warn(\n",
      "/mnt/large/jfiorentino/INTERACTomics/PREDICTOR/pred-venv/lib/python3.9/site-packages/openpyxl/worksheet/_reader.py:329: UserWarning: Unknown extension is not supported and will be removed\n",
      "  warn(msg)\n"
     ]
    },
    {
     "name": "stdout",
     "output_type": "stream",
     "text": [
      "48 AF-Q8LDU1-F1-model_v4.pdb\n"
     ]
    },
    {
     "name": "stderr",
     "output_type": "stream",
     "text": [
      "/mnt/large/jfiorentino/INTERACTomics/PREDICTOR/pred-venv/lib/python3.9/site-packages/sklearn/base.py:443: UserWarning: X has feature names, but StandardScaler was fitted without feature names\n",
      "  warnings.warn(\n",
      "/mnt/large/jfiorentino/INTERACTomics/PREDICTOR/pred-venv/lib/python3.9/site-packages/openpyxl/worksheet/_reader.py:329: UserWarning: Unknown extension is not supported and will be removed\n",
      "  warn(msg)\n"
     ]
    },
    {
     "name": "stdout",
     "output_type": "stream",
     "text": [
      "49 AF-A0A0G2UMW8-F1-model_v4.pdb\n"
     ]
    },
    {
     "name": "stderr",
     "output_type": "stream",
     "text": [
      "/mnt/large/jfiorentino/INTERACTomics/PREDICTOR/pred-venv/lib/python3.9/site-packages/sklearn/base.py:443: UserWarning: X has feature names, but StandardScaler was fitted without feature names\n",
      "  warnings.warn(\n",
      "/mnt/large/jfiorentino/INTERACTomics/PREDICTOR/pred-venv/lib/python3.9/site-packages/openpyxl/worksheet/_reader.py:329: UserWarning: Unknown extension is not supported and will be removed\n",
      "  warn(msg)\n"
     ]
    },
    {
     "name": "stdout",
     "output_type": "stream",
     "text": [
      "50 AF-Q18130-F1-model_v4.pdb\n"
     ]
    },
    {
     "name": "stderr",
     "output_type": "stream",
     "text": [
      "/mnt/large/jfiorentino/INTERACTomics/PREDICTOR/pred-venv/lib/python3.9/site-packages/sklearn/base.py:443: UserWarning: X has feature names, but StandardScaler was fitted without feature names\n",
      "  warnings.warn(\n",
      "/mnt/large/jfiorentino/INTERACTomics/PREDICTOR/pred-venv/lib/python3.9/site-packages/openpyxl/worksheet/_reader.py:329: UserWarning: Unknown extension is not supported and will be removed\n",
      "  warn(msg)\n"
     ]
    },
    {
     "name": "stdout",
     "output_type": "stream",
     "text": [
      "51 AF-P18573-F1-model_v4.pdb\n"
     ]
    },
    {
     "name": "stderr",
     "output_type": "stream",
     "text": [
      "/mnt/large/jfiorentino/INTERACTomics/PREDICTOR/pred-venv/lib/python3.9/site-packages/sklearn/base.py:443: UserWarning: X has feature names, but StandardScaler was fitted without feature names\n",
      "  warnings.warn(\n",
      "/mnt/large/jfiorentino/INTERACTomics/PREDICTOR/pred-venv/lib/python3.9/site-packages/openpyxl/worksheet/_reader.py:329: UserWarning: Unknown extension is not supported and will be removed\n",
      "  warn(msg)\n"
     ]
    },
    {
     "name": "stdout",
     "output_type": "stream",
     "text": [
      "52 AF-P83260-F1-model_v4.pdb\n"
     ]
    },
    {
     "name": "stderr",
     "output_type": "stream",
     "text": [
      "/mnt/large/jfiorentino/INTERACTomics/PREDICTOR/pred-venv/lib/python3.9/site-packages/sklearn/base.py:443: UserWarning: X has feature names, but StandardScaler was fitted without feature names\n",
      "  warnings.warn(\n",
      "/mnt/large/jfiorentino/INTERACTomics/PREDICTOR/pred-venv/lib/python3.9/site-packages/openpyxl/worksheet/_reader.py:329: UserWarning: Unknown extension is not supported and will be removed\n",
      "  warn(msg)\n"
     ]
    },
    {
     "name": "stdout",
     "output_type": "stream",
     "text": [
      "53 AF-A0A2K3DAA9-F1-model_v4.pdb\n"
     ]
    },
    {
     "name": "stderr",
     "output_type": "stream",
     "text": [
      "/mnt/large/jfiorentino/INTERACTomics/PREDICTOR/pred-venv/lib/python3.9/site-packages/sklearn/base.py:443: UserWarning: X has feature names, but StandardScaler was fitted without feature names\n",
      "  warnings.warn(\n",
      "/mnt/large/jfiorentino/INTERACTomics/PREDICTOR/pred-venv/lib/python3.9/site-packages/openpyxl/worksheet/_reader.py:329: UserWarning: Unknown extension is not supported and will be removed\n",
      "  warn(msg)\n"
     ]
    },
    {
     "name": "stdout",
     "output_type": "stream",
     "text": [
      "54 AF-Q16987-F1-model_v4.pdb\n"
     ]
    },
    {
     "name": "stderr",
     "output_type": "stream",
     "text": [
      "/mnt/large/jfiorentino/INTERACTomics/PREDICTOR/pred-venv/lib/python3.9/site-packages/sklearn/base.py:443: UserWarning: X has feature names, but StandardScaler was fitted without feature names\n",
      "  warnings.warn(\n",
      "/mnt/large/jfiorentino/INTERACTomics/PREDICTOR/pred-venv/lib/python3.9/site-packages/openpyxl/worksheet/_reader.py:329: UserWarning: Unknown extension is not supported and will be removed\n",
      "  warn(msg)\n"
     ]
    },
    {
     "name": "stdout",
     "output_type": "stream",
     "text": [
      "55 AF-A0A654FF09-F1-model_v4.pdb\n"
     ]
    },
    {
     "name": "stderr",
     "output_type": "stream",
     "text": [
      "/mnt/large/jfiorentino/INTERACTomics/PREDICTOR/pred-venv/lib/python3.9/site-packages/sklearn/base.py:443: UserWarning: X has feature names, but StandardScaler was fitted without feature names\n",
      "  warnings.warn(\n",
      "/mnt/large/jfiorentino/INTERACTomics/PREDICTOR/pred-venv/lib/python3.9/site-packages/openpyxl/worksheet/_reader.py:329: UserWarning: Unknown extension is not supported and will be removed\n",
      "  warn(msg)\n"
     ]
    },
    {
     "name": "stdout",
     "output_type": "stream",
     "text": [
      "56 AF-P91349-F1-model_v4.pdb\n"
     ]
    },
    {
     "name": "stderr",
     "output_type": "stream",
     "text": [
      "/mnt/large/jfiorentino/INTERACTomics/PREDICTOR/pred-venv/lib/python3.9/site-packages/sklearn/base.py:443: UserWarning: X has feature names, but StandardScaler was fitted without feature names\n",
      "  warnings.warn(\n",
      "/mnt/large/jfiorentino/INTERACTomics/PREDICTOR/pred-venv/lib/python3.9/site-packages/openpyxl/worksheet/_reader.py:329: UserWarning: Unknown extension is not supported and will be removed\n",
      "  warn(msg)\n"
     ]
    },
    {
     "name": "stdout",
     "output_type": "stream",
     "text": [
      "57 AF-P00880-F1-model_v4.pdb\n"
     ]
    },
    {
     "name": "stderr",
     "output_type": "stream",
     "text": [
      "/mnt/large/jfiorentino/INTERACTomics/PREDICTOR/pred-venv/lib/python3.9/site-packages/sklearn/base.py:443: UserWarning: X has feature names, but StandardScaler was fitted without feature names\n",
      "  warnings.warn(\n",
      "/mnt/large/jfiorentino/INTERACTomics/PREDICTOR/pred-venv/lib/python3.9/site-packages/openpyxl/worksheet/_reader.py:329: UserWarning: Unknown extension is not supported and will be removed\n",
      "  warn(msg)\n"
     ]
    },
    {
     "name": "stdout",
     "output_type": "stream",
     "text": [
      "58 AF-P0CT76-F1-model_v4.pdb\n"
     ]
    },
    {
     "name": "stderr",
     "output_type": "stream",
     "text": [
      "/mnt/large/jfiorentino/INTERACTomics/PREDICTOR/pred-venv/lib/python3.9/site-packages/sklearn/base.py:443: UserWarning: X has feature names, but StandardScaler was fitted without feature names\n",
      "  warnings.warn(\n",
      "/mnt/large/jfiorentino/INTERACTomics/PREDICTOR/pred-venv/lib/python3.9/site-packages/openpyxl/worksheet/_reader.py:329: UserWarning: Unknown extension is not supported and will be removed\n",
      "  warn(msg)\n"
     ]
    },
    {
     "name": "stdout",
     "output_type": "stream",
     "text": [
      "59 AF-A0A0G2UHG9-F1-model_v4.pdb\n"
     ]
    },
    {
     "name": "stderr",
     "output_type": "stream",
     "text": [
      "/mnt/large/jfiorentino/INTERACTomics/PREDICTOR/pred-venv/lib/python3.9/site-packages/sklearn/base.py:443: UserWarning: X has feature names, but StandardScaler was fitted without feature names\n",
      "  warnings.warn(\n",
      "/mnt/large/jfiorentino/INTERACTomics/PREDICTOR/pred-venv/lib/python3.9/site-packages/openpyxl/worksheet/_reader.py:329: UserWarning: Unknown extension is not supported and will be removed\n",
      "  warn(msg)\n"
     ]
    },
    {
     "name": "stdout",
     "output_type": "stream",
     "text": [
      "60 AF-A0A2K3DIJ3-F1-model_v4.pdb\n"
     ]
    },
    {
     "name": "stderr",
     "output_type": "stream",
     "text": [
      "/mnt/large/jfiorentino/INTERACTomics/PREDICTOR/pred-venv/lib/python3.9/site-packages/sklearn/base.py:443: UserWarning: X has feature names, but StandardScaler was fitted without feature names\n",
      "  warnings.warn(\n",
      "/mnt/large/jfiorentino/INTERACTomics/PREDICTOR/pred-venv/lib/python3.9/site-packages/openpyxl/worksheet/_reader.py:329: UserWarning: Unknown extension is not supported and will be removed\n",
      "  warn(msg)\n"
     ]
    },
    {
     "name": "stdout",
     "output_type": "stream",
     "text": [
      "61 AF-A0A2K3E1J3-F1-model_v4.pdb\n"
     ]
    },
    {
     "name": "stderr",
     "output_type": "stream",
     "text": [
      "/mnt/large/jfiorentino/INTERACTomics/PREDICTOR/pred-venv/lib/python3.9/site-packages/sklearn/base.py:443: UserWarning: X has feature names, but StandardScaler was fitted without feature names\n",
      "  warnings.warn(\n",
      "/mnt/large/jfiorentino/INTERACTomics/PREDICTOR/pred-venv/lib/python3.9/site-packages/openpyxl/worksheet/_reader.py:329: UserWarning: Unknown extension is not supported and will be removed\n",
      "  warn(msg)\n"
     ]
    },
    {
     "name": "stdout",
     "output_type": "stream",
     "text": [
      "62 AF-Q22053-F1-model_v4.pdb\n"
     ]
    },
    {
     "name": "stderr",
     "output_type": "stream",
     "text": [
      "/mnt/large/jfiorentino/INTERACTomics/PREDICTOR/pred-venv/lib/python3.9/site-packages/sklearn/base.py:443: UserWarning: X has feature names, but StandardScaler was fitted without feature names\n",
      "  warnings.warn(\n",
      "/mnt/large/jfiorentino/INTERACTomics/PREDICTOR/pred-venv/lib/python3.9/site-packages/openpyxl/worksheet/_reader.py:329: UserWarning: Unknown extension is not supported and will be removed\n",
      "  warn(msg)\n"
     ]
    },
    {
     "name": "stdout",
     "output_type": "stream",
     "text": [
      "63 AF-Q9TZQ3-F1-model_v4.pdb\n"
     ]
    },
    {
     "name": "stderr",
     "output_type": "stream",
     "text": [
      "/mnt/large/jfiorentino/INTERACTomics/PREDICTOR/pred-venv/lib/python3.9/site-packages/sklearn/base.py:443: UserWarning: X has feature names, but StandardScaler was fitted without feature names\n",
      "  warnings.warn(\n",
      "/mnt/large/jfiorentino/INTERACTomics/PREDICTOR/pred-venv/lib/python3.9/site-packages/openpyxl/worksheet/_reader.py:329: UserWarning: Unknown extension is not supported and will be removed\n",
      "  warn(msg)\n"
     ]
    },
    {
     "name": "stdout",
     "output_type": "stream",
     "text": [
      "64 AF-X5DSL3-F1-model_v4.pdb\n"
     ]
    },
    {
     "name": "stderr",
     "output_type": "stream",
     "text": [
      "/mnt/large/jfiorentino/INTERACTomics/PREDICTOR/pred-venv/lib/python3.9/site-packages/sklearn/base.py:443: UserWarning: X has feature names, but StandardScaler was fitted without feature names\n",
      "  warnings.warn(\n",
      "/mnt/large/jfiorentino/INTERACTomics/PREDICTOR/pred-venv/lib/python3.9/site-packages/openpyxl/worksheet/_reader.py:329: UserWarning: Unknown extension is not supported and will be removed\n",
      "  warn(msg)\n"
     ]
    },
    {
     "name": "stdout",
     "output_type": "stream",
     "text": [
      "65 AF-P19659-F1-model_v4.pdb\n"
     ]
    },
    {
     "name": "stderr",
     "output_type": "stream",
     "text": [
      "/mnt/large/jfiorentino/INTERACTomics/PREDICTOR/pred-venv/lib/python3.9/site-packages/sklearn/base.py:443: UserWarning: X has feature names, but StandardScaler was fitted without feature names\n",
      "  warnings.warn(\n",
      "/mnt/large/jfiorentino/INTERACTomics/PREDICTOR/pred-venv/lib/python3.9/site-packages/openpyxl/worksheet/_reader.py:329: UserWarning: Unknown extension is not supported and will be removed\n",
      "  warn(msg)\n"
     ]
    },
    {
     "name": "stdout",
     "output_type": "stream",
     "text": [
      "66 AF-B7XGW9-F1-model_v4.pdb\n"
     ]
    },
    {
     "name": "stderr",
     "output_type": "stream",
     "text": [
      "/mnt/large/jfiorentino/INTERACTomics/PREDICTOR/pred-venv/lib/python3.9/site-packages/sklearn/base.py:443: UserWarning: X has feature names, but StandardScaler was fitted without feature names\n",
      "  warnings.warn(\n",
      "/mnt/large/jfiorentino/INTERACTomics/PREDICTOR/pred-venv/lib/python3.9/site-packages/openpyxl/worksheet/_reader.py:329: UserWarning: Unknown extension is not supported and will be removed\n",
      "  warn(msg)\n"
     ]
    },
    {
     "name": "stdout",
     "output_type": "stream",
     "text": [
      "67 AF-Q20530-F1-model_v4.pdb\n"
     ]
    },
    {
     "name": "stderr",
     "output_type": "stream",
     "text": [
      "/mnt/large/jfiorentino/INTERACTomics/PREDICTOR/pred-venv/lib/python3.9/site-packages/sklearn/base.py:443: UserWarning: X has feature names, but StandardScaler was fitted without feature names\n",
      "  warnings.warn(\n",
      "/mnt/large/jfiorentino/INTERACTomics/PREDICTOR/pred-venv/lib/python3.9/site-packages/openpyxl/worksheet/_reader.py:329: UserWarning: Unknown extension is not supported and will be removed\n",
      "  warn(msg)\n"
     ]
    },
    {
     "name": "stdout",
     "output_type": "stream",
     "text": [
      "68 AF-E1UZH7-F1-model_v4.pdb\n"
     ]
    },
    {
     "name": "stderr",
     "output_type": "stream",
     "text": [
      "/mnt/large/jfiorentino/INTERACTomics/PREDICTOR/pred-venv/lib/python3.9/site-packages/sklearn/base.py:443: UserWarning: X has feature names, but StandardScaler was fitted without feature names\n",
      "  warnings.warn(\n",
      "/mnt/large/jfiorentino/INTERACTomics/PREDICTOR/pred-venv/lib/python3.9/site-packages/openpyxl/worksheet/_reader.py:329: UserWarning: Unknown extension is not supported and will be removed\n",
      "  warn(msg)\n"
     ]
    },
    {
     "name": "stdout",
     "output_type": "stream",
     "text": [
      "69 AF-Q8SXU1-F1-model_v4.pdb\n"
     ]
    },
    {
     "name": "stderr",
     "output_type": "stream",
     "text": [
      "/mnt/large/jfiorentino/INTERACTomics/PREDICTOR/pred-venv/lib/python3.9/site-packages/sklearn/base.py:443: UserWarning: X has feature names, but StandardScaler was fitted without feature names\n",
      "  warnings.warn(\n",
      "/mnt/large/jfiorentino/INTERACTomics/PREDICTOR/pred-venv/lib/python3.9/site-packages/openpyxl/worksheet/_reader.py:329: UserWarning: Unknown extension is not supported and will be removed\n",
      "  warn(msg)\n"
     ]
    },
    {
     "name": "stdout",
     "output_type": "stream",
     "text": [
      "70 AF-Q9NAB6-F1-model_v4.pdb\n"
     ]
    },
    {
     "name": "stderr",
     "output_type": "stream",
     "text": [
      "/mnt/large/jfiorentino/INTERACTomics/PREDICTOR/pred-venv/lib/python3.9/site-packages/sklearn/base.py:443: UserWarning: X has feature names, but StandardScaler was fitted without feature names\n",
      "  warnings.warn(\n",
      "/mnt/large/jfiorentino/INTERACTomics/PREDICTOR/pred-venv/lib/python3.9/site-packages/openpyxl/worksheet/_reader.py:329: UserWarning: Unknown extension is not supported and will be removed\n",
      "  warn(msg)\n"
     ]
    },
    {
     "name": "stdout",
     "output_type": "stream",
     "text": [
      "71 AF-A0A0B4K7N3-F1-model_v4.pdb\n"
     ]
    },
    {
     "name": "stderr",
     "output_type": "stream",
     "text": [
      "/mnt/large/jfiorentino/INTERACTomics/PREDICTOR/pred-venv/lib/python3.9/site-packages/sklearn/base.py:443: UserWarning: X has feature names, but StandardScaler was fitted without feature names\n",
      "  warnings.warn(\n",
      "/mnt/large/jfiorentino/INTERACTomics/PREDICTOR/pred-venv/lib/python3.9/site-packages/openpyxl/worksheet/_reader.py:329: UserWarning: Unknown extension is not supported and will be removed\n",
      "  warn(msg)\n"
     ]
    },
    {
     "name": "stdout",
     "output_type": "stream",
     "text": [
      "72 AF-G5EG56-F1-model_v4.pdb\n"
     ]
    },
    {
     "name": "stderr",
     "output_type": "stream",
     "text": [
      "/mnt/large/jfiorentino/INTERACTomics/PREDICTOR/pred-venv/lib/python3.9/site-packages/sklearn/base.py:443: UserWarning: X has feature names, but StandardScaler was fitted without feature names\n",
      "  warnings.warn(\n",
      "/mnt/large/jfiorentino/INTERACTomics/PREDICTOR/pred-venv/lib/python3.9/site-packages/openpyxl/worksheet/_reader.py:329: UserWarning: Unknown extension is not supported and will be removed\n",
      "  warn(msg)\n"
     ]
    },
    {
     "name": "stdout",
     "output_type": "stream",
     "text": [
      "73 AF-P0AEX9-F1-model_v4.pdb\n"
     ]
    },
    {
     "name": "stderr",
     "output_type": "stream",
     "text": [
      "/mnt/large/jfiorentino/INTERACTomics/PREDICTOR/pred-venv/lib/python3.9/site-packages/sklearn/base.py:443: UserWarning: X has feature names, but StandardScaler was fitted without feature names\n",
      "  warnings.warn(\n",
      "/mnt/large/jfiorentino/INTERACTomics/PREDICTOR/pred-venv/lib/python3.9/site-packages/openpyxl/worksheet/_reader.py:329: UserWarning: Unknown extension is not supported and will be removed\n",
      "  warn(msg)\n"
     ]
    },
    {
     "name": "stdout",
     "output_type": "stream",
     "text": [
      "74 AF-P04716-F1-model_v4.pdb\n"
     ]
    },
    {
     "name": "stderr",
     "output_type": "stream",
     "text": [
      "/mnt/large/jfiorentino/INTERACTomics/PREDICTOR/pred-venv/lib/python3.9/site-packages/sklearn/base.py:443: UserWarning: X has feature names, but StandardScaler was fitted without feature names\n",
      "  warnings.warn(\n",
      "/mnt/large/jfiorentino/INTERACTomics/PREDICTOR/pred-venv/lib/python3.9/site-packages/openpyxl/worksheet/_reader.py:329: UserWarning: Unknown extension is not supported and will be removed\n",
      "  warn(msg)\n"
     ]
    },
    {
     "name": "stdout",
     "output_type": "stream",
     "text": [
      "75 AF-O13514-F1-model_v4.pdb\n"
     ]
    },
    {
     "name": "stderr",
     "output_type": "stream",
     "text": [
      "/mnt/large/jfiorentino/INTERACTomics/PREDICTOR/pred-venv/lib/python3.9/site-packages/sklearn/base.py:443: UserWarning: X has feature names, but StandardScaler was fitted without feature names\n",
      "  warnings.warn(\n",
      "/mnt/large/jfiorentino/INTERACTomics/PREDICTOR/pred-venv/lib/python3.9/site-packages/openpyxl/worksheet/_reader.py:329: UserWarning: Unknown extension is not supported and will be removed\n",
      "  warn(msg)\n"
     ]
    },
    {
     "name": "stdout",
     "output_type": "stream",
     "text": [
      "76 AF-O14076-F1-model_v4.pdb\n"
     ]
    },
    {
     "name": "stderr",
     "output_type": "stream",
     "text": [
      "/mnt/large/jfiorentino/INTERACTomics/PREDICTOR/pred-venv/lib/python3.9/site-packages/sklearn/base.py:443: UserWarning: X has feature names, but StandardScaler was fitted without feature names\n",
      "  warnings.warn(\n",
      "/mnt/large/jfiorentino/INTERACTomics/PREDICTOR/pred-venv/lib/python3.9/site-packages/openpyxl/worksheet/_reader.py:329: UserWarning: Unknown extension is not supported and will be removed\n",
      "  warn(msg)\n"
     ]
    },
    {
     "name": "stdout",
     "output_type": "stream",
     "text": [
      "77 AF-D7F951-F1-model_v4.pdb\n"
     ]
    },
    {
     "name": "stderr",
     "output_type": "stream",
     "text": [
      "/mnt/large/jfiorentino/INTERACTomics/PREDICTOR/pred-venv/lib/python3.9/site-packages/sklearn/base.py:443: UserWarning: X has feature names, but StandardScaler was fitted without feature names\n",
      "  warnings.warn(\n",
      "/mnt/large/jfiorentino/INTERACTomics/PREDICTOR/pred-venv/lib/python3.9/site-packages/openpyxl/worksheet/_reader.py:329: UserWarning: Unknown extension is not supported and will be removed\n",
      "  warn(msg)\n"
     ]
    },
    {
     "name": "stdout",
     "output_type": "stream",
     "text": [
      "78 AF-P02945-F1-model_v4.pdb\n"
     ]
    },
    {
     "name": "stderr",
     "output_type": "stream",
     "text": [
      "/mnt/large/jfiorentino/INTERACTomics/PREDICTOR/pred-venv/lib/python3.9/site-packages/sklearn/base.py:443: UserWarning: X has feature names, but StandardScaler was fitted without feature names\n",
      "  warnings.warn(\n",
      "/mnt/large/jfiorentino/INTERACTomics/PREDICTOR/pred-venv/lib/python3.9/site-packages/openpyxl/worksheet/_reader.py:329: UserWarning: Unknown extension is not supported and will be removed\n",
      "  warn(msg)\n"
     ]
    },
    {
     "name": "stdout",
     "output_type": "stream",
     "text": [
      "79 AF-O13825-F1-model_v4.pdb\n"
     ]
    },
    {
     "name": "stderr",
     "output_type": "stream",
     "text": [
      "/mnt/large/jfiorentino/INTERACTomics/PREDICTOR/pred-venv/lib/python3.9/site-packages/sklearn/base.py:443: UserWarning: X has feature names, but StandardScaler was fitted without feature names\n",
      "  warnings.warn(\n",
      "/mnt/large/jfiorentino/INTERACTomics/PREDICTOR/pred-venv/lib/python3.9/site-packages/openpyxl/worksheet/_reader.py:329: UserWarning: Unknown extension is not supported and will be removed\n",
      "  warn(msg)\n"
     ]
    },
    {
     "name": "stdout",
     "output_type": "stream",
     "text": [
      "80 AF-B7JA24-F1-model_v4.pdb\n"
     ]
    },
    {
     "name": "stderr",
     "output_type": "stream",
     "text": [
      "/mnt/large/jfiorentino/INTERACTomics/PREDICTOR/pred-venv/lib/python3.9/site-packages/sklearn/base.py:443: UserWarning: X has feature names, but StandardScaler was fitted without feature names\n",
      "  warnings.warn(\n",
      "/mnt/large/jfiorentino/INTERACTomics/PREDICTOR/pred-venv/lib/python3.9/site-packages/openpyxl/worksheet/_reader.py:329: UserWarning: Unknown extension is not supported and will be removed\n",
      "  warn(msg)\n"
     ]
    },
    {
     "name": "stdout",
     "output_type": "stream",
     "text": [
      "81 AF-A0A7G2EFD9-F1-model_v4.pdb\n"
     ]
    },
    {
     "name": "stderr",
     "output_type": "stream",
     "text": [
      "/mnt/large/jfiorentino/INTERACTomics/PREDICTOR/pred-venv/lib/python3.9/site-packages/sklearn/base.py:443: UserWarning: X has feature names, but StandardScaler was fitted without feature names\n",
      "  warnings.warn(\n",
      "/mnt/large/jfiorentino/INTERACTomics/PREDICTOR/pred-venv/lib/python3.9/site-packages/openpyxl/worksheet/_reader.py:329: UserWarning: Unknown extension is not supported and will be removed\n",
      "  warn(msg)\n"
     ]
    },
    {
     "name": "stdout",
     "output_type": "stream",
     "text": [
      "82 AF-P78953-F1-model_v4.pdb\n"
     ]
    },
    {
     "name": "stderr",
     "output_type": "stream",
     "text": [
      "/mnt/large/jfiorentino/INTERACTomics/PREDICTOR/pred-venv/lib/python3.9/site-packages/sklearn/base.py:443: UserWarning: X has feature names, but StandardScaler was fitted without feature names\n",
      "  warnings.warn(\n",
      "/mnt/large/jfiorentino/INTERACTomics/PREDICTOR/pred-venv/lib/python3.9/site-packages/openpyxl/worksheet/_reader.py:329: UserWarning: Unknown extension is not supported and will be removed\n",
      "  warn(msg)\n",
      "/mnt/large/jfiorentino/INTERACTomics/PREDICTOR/pred-venv/lib/python3.9/site-packages/sklearn/base.py:443: UserWarning: X has feature names, but StandardScaler was fitted without feature names\n",
      "  warnings.warn(\n"
     ]
    }
   ],
   "source": [
    "dfs=[]\n",
    "i=0\n",
    "for f in os.listdir(\"./pdb_files/\"):\n",
    "    print(i+1,f)\n",
    "    dfs.append(compute_score_and_profile_from_pdb(\"./pdb_files/\"+f))\n",
    "    i+=1\n",
    "df = pd.concat(dfs)"
   ]
  },
  {
   "cell_type": "code",
   "execution_count": null,
   "metadata": {},
   "outputs": [],
   "source": [
    "df.to_csv(\"/mnt/large/jfiorentino/catGRANULE2/prova_cdhit/LLPSDB_02_catgranule2.csv\")"
   ]
  },
  {
   "cell_type": "code",
   "execution_count": 9,
   "metadata": {},
   "outputs": [],
   "source": [
    "def get_physical_chemical_profiles(sequences, scales_dir, classifiers_dir, correct_order_columns):\n",
    "    sys.path.append(scales_dir)\n",
    "    names = glob(f'{scales_dir}/*')\n",
    "    names1 = [x.replace(f'{scales_dir}/', '') for x in names]\n",
    "    names1 = [x.replace('.json', '') for x in names1]\n",
    "\n",
    "    n_cores = 22\n",
    "\n",
    "    X = [(f, names, 7, False) for f in sequences]\n",
    "\n",
    "    results = []\n",
    "\n",
    "    if n_cores == None or n_cores > mp.cpu_count():\n",
    "        pool = mp.Pool(mp.cpu_count())\n",
    "    else:\n",
    "        pool = mp.Pool(n_cores)  # If the user wants to use a specified number of cores\n",
    "\n",
    "    pl = pool.starmap_async(compute_chemphysProfiles, X)\n",
    "    results = pl.get()\n",
    "    pool.close()\n",
    "    \n",
    "    rf_classifier = joblib.load(classifiers_dir + \"ONLY_PHYSCHEM/RandomForest/gridsearchCV_Object.pkl\")\n",
    "    profiles = []\n",
    "    # for each protein...\n",
    "    for i in range(len(results)):\n",
    "        # ...set the protein matrix\n",
    "        mat = results[i]\n",
    "        # create a dataframe with indexes the name of the features\n",
    "        mat_df = pd.DataFrame(mat, index=names1)\n",
    "        # ... reindex the dataframe in order to get the correct order\n",
    "        correct_order_df = mat_df.reindex(index=correct_order_columns[:82])\n",
    "        # ... compute the profile\n",
    "        profile = ComputeProfile_fromMatrix2(correct_order_df, rf_classifier,window=21)\n",
    "        # ... append it in the profiles array\n",
    "        profiles.append(np.array(profile))\n",
    "   \n",
    "    return profiles"
   ]
  },
  {
   "cell_type": "code",
   "execution_count": 21,
   "metadata": {},
   "outputs": [
    {
     "ename": "ValueError",
     "evalue": "Input X contains NaN.\nSelectFromModel does not accept missing values encoded as NaN natively. For supervised learning, you might want to consider sklearn.ensemble.HistGradientBoostingClassifier and Regressor which accept missing values encoded as NaNs natively. Alternatively, it is possible to preprocess the data, for instance by using an imputer transformer in a pipeline or drop samples with missing values. See https://scikit-learn.org/stable/modules/impute.html You can find a list of all estimators that handle NaN values at the following page: https://scikit-learn.org/stable/modules/impute.html#estimators-that-handle-nan-values",
     "output_type": "error",
     "traceback": [
      "\u001b[0;31m---------------------------------------------------------------------------\u001b[0m",
      "\u001b[0;31mValueError\u001b[0m                                Traceback (most recent call last)",
      "Input \u001b[0;32mIn [21]\u001b[0m, in \u001b[0;36m<cell line: 1>\u001b[0;34m()\u001b[0m\n\u001b[0;32m----> 1\u001b[0m prof\u001b[38;5;241m=\u001b[39m\u001b[43mget_physical_chemical_profiles\u001b[49m\u001b[43m(\u001b[49m\u001b[43mseq\u001b[49m\u001b[43m,\u001b[49m\u001b[38;5;124;43m\"\u001b[39;49m\u001b[38;5;124;43m./src/ChemicalPhysicalScales_Py_dictionary/\u001b[39;49m\u001b[38;5;124;43m\"\u001b[39;49m\u001b[43m,\u001b[49m\u001b[38;5;124;43m\"\u001b[39;49m\u001b[38;5;124;43m./src/TRAINED_MODELS/\u001b[39;49m\u001b[38;5;124;43m\"\u001b[39;49m\u001b[43m,\u001b[49m\u001b[43mcorrect_order_columns\u001b[49m\u001b[43m)\u001b[49m\n",
      "Input \u001b[0;32mIn [19]\u001b[0m, in \u001b[0;36mget_physical_chemical_profiles\u001b[0;34m(sequences, scales_dir, classifiers_dir, correct_order_columns)\u001b[0m\n\u001b[1;32m     31\u001b[0m correct_order_df \u001b[38;5;241m=\u001b[39m mat_df\u001b[38;5;241m.\u001b[39mreindex(index\u001b[38;5;241m=\u001b[39mcorrect_order_columns[:\u001b[38;5;241m82\u001b[39m])\n\u001b[1;32m     32\u001b[0m \u001b[38;5;66;03m# ... compute the profile\u001b[39;00m\n\u001b[0;32m---> 33\u001b[0m profile \u001b[38;5;241m=\u001b[39m \u001b[43mComputeProfile_fromMatrix2\u001b[49m\u001b[43m(\u001b[49m\u001b[43mcorrect_order_df\u001b[49m\u001b[43m,\u001b[49m\u001b[43m \u001b[49m\u001b[43mrf_classifier\u001b[49m\u001b[43m,\u001b[49m\u001b[43mwindow\u001b[49m\u001b[38;5;241;43m=\u001b[39;49m\u001b[38;5;241;43m21\u001b[39;49m\u001b[43m)\u001b[49m\n\u001b[1;32m     34\u001b[0m \u001b[38;5;66;03m# ... append it in the profiles array\u001b[39;00m\n\u001b[1;32m     35\u001b[0m profiles\u001b[38;5;241m.\u001b[39mappend(np\u001b[38;5;241m.\u001b[39marray(profile))\n",
      "File \u001b[0;32m/mnt/large/jfiorentino/tartaglialab_webserver/catgranule2/catgranuleFunctions.py:2058\u001b[0m, in \u001b[0;36mComputeProfile_fromMatrix2\u001b[0;34m(X, pipe, window)\u001b[0m\n\u001b[1;32m   2056\u001b[0m rolli2 \u001b[38;5;241m=\u001b[39m smooth_matrix_x(X, window\u001b[38;5;241m=\u001b[39mwindow)\n\u001b[1;32m   2057\u001b[0m \u001b[38;5;66;03m# newprof2=pipe.bestestimator.predict_proba(rolli2.T)[:,1]\u001b[39;00m\n\u001b[0;32m-> 2058\u001b[0m newprof2 \u001b[38;5;241m=\u001b[39m \u001b[43mpipe\u001b[49m\u001b[38;5;241;43m.\u001b[39;49m\u001b[43mbest_estimator_\u001b[49m\u001b[38;5;241;43m.\u001b[39;49m\u001b[43mpredict_proba\u001b[49m\u001b[43m(\u001b[49m\u001b[43mrolli2\u001b[49m\u001b[38;5;241;43m.\u001b[39;49m\u001b[43mT\u001b[49m\u001b[43m)\u001b[49m[:, \u001b[38;5;241m1\u001b[39m]\n\u001b[1;32m   2059\u001b[0m \u001b[38;5;28;01mreturn\u001b[39;00m newprof2\n",
      "File \u001b[0;32m/mnt/large/jfiorentino/INTERACTomics/PREDICTOR/pred-venv/lib/python3.9/site-packages/sklearn/pipeline.py:523\u001b[0m, in \u001b[0;36mPipeline.predict_proba\u001b[0;34m(self, X, **predict_proba_params)\u001b[0m\n\u001b[1;32m    521\u001b[0m Xt \u001b[38;5;241m=\u001b[39m X\n\u001b[1;32m    522\u001b[0m \u001b[38;5;28;01mfor\u001b[39;00m _, name, transform \u001b[38;5;129;01min\u001b[39;00m \u001b[38;5;28mself\u001b[39m\u001b[38;5;241m.\u001b[39m_iter(with_final\u001b[38;5;241m=\u001b[39m\u001b[38;5;28;01mFalse\u001b[39;00m):\n\u001b[0;32m--> 523\u001b[0m     Xt \u001b[38;5;241m=\u001b[39m \u001b[43mtransform\u001b[49m\u001b[38;5;241;43m.\u001b[39;49m\u001b[43mtransform\u001b[49m\u001b[43m(\u001b[49m\u001b[43mXt\u001b[49m\u001b[43m)\u001b[49m\n\u001b[1;32m    524\u001b[0m \u001b[38;5;28;01mreturn\u001b[39;00m \u001b[38;5;28mself\u001b[39m\u001b[38;5;241m.\u001b[39msteps[\u001b[38;5;241m-\u001b[39m\u001b[38;5;241m1\u001b[39m][\u001b[38;5;241m1\u001b[39m]\u001b[38;5;241m.\u001b[39mpredict_proba(Xt, \u001b[38;5;241m*\u001b[39m\u001b[38;5;241m*\u001b[39mpredict_proba_params)\n",
      "File \u001b[0;32m/mnt/large/jfiorentino/INTERACTomics/PREDICTOR/pred-venv/lib/python3.9/site-packages/sklearn/feature_selection/_base.py:83\u001b[0m, in \u001b[0;36mSelectorMixin.transform\u001b[0;34m(self, X)\u001b[0m\n\u001b[1;32m     69\u001b[0m \u001b[38;5;124;03m\"\"\"Reduce X to the selected features.\u001b[39;00m\n\u001b[1;32m     70\u001b[0m \n\u001b[1;32m     71\u001b[0m \u001b[38;5;124;03mParameters\u001b[39;00m\n\u001b[0;32m   (...)\u001b[0m\n\u001b[1;32m     79\u001b[0m \u001b[38;5;124;03m    The input samples with only the selected features.\u001b[39;00m\n\u001b[1;32m     80\u001b[0m \u001b[38;5;124;03m\"\"\"\u001b[39;00m\n\u001b[1;32m     81\u001b[0m \u001b[38;5;66;03m# note: we use _safe_tags instead of _get_tags because this is a\u001b[39;00m\n\u001b[1;32m     82\u001b[0m \u001b[38;5;66;03m# public Mixin.\u001b[39;00m\n\u001b[0;32m---> 83\u001b[0m X \u001b[38;5;241m=\u001b[39m \u001b[38;5;28;43mself\u001b[39;49m\u001b[38;5;241;43m.\u001b[39;49m\u001b[43m_validate_data\u001b[49m\u001b[43m(\u001b[49m\n\u001b[1;32m     84\u001b[0m \u001b[43m    \u001b[49m\u001b[43mX\u001b[49m\u001b[43m,\u001b[49m\n\u001b[1;32m     85\u001b[0m \u001b[43m    \u001b[49m\u001b[43mdtype\u001b[49m\u001b[38;5;241;43m=\u001b[39;49m\u001b[38;5;28;43;01mNone\u001b[39;49;00m\u001b[43m,\u001b[49m\n\u001b[1;32m     86\u001b[0m \u001b[43m    \u001b[49m\u001b[43maccept_sparse\u001b[49m\u001b[38;5;241;43m=\u001b[39;49m\u001b[38;5;124;43m\"\u001b[39;49m\u001b[38;5;124;43mcsr\u001b[39;49m\u001b[38;5;124;43m\"\u001b[39;49m\u001b[43m,\u001b[49m\n\u001b[1;32m     87\u001b[0m \u001b[43m    \u001b[49m\u001b[43mforce_all_finite\u001b[49m\u001b[38;5;241;43m=\u001b[39;49m\u001b[38;5;129;43;01mnot\u001b[39;49;00m\u001b[43m \u001b[49m\u001b[43m_safe_tags\u001b[49m\u001b[43m(\u001b[49m\u001b[38;5;28;43mself\u001b[39;49m\u001b[43m,\u001b[49m\u001b[43m \u001b[49m\u001b[43mkey\u001b[49m\u001b[38;5;241;43m=\u001b[39;49m\u001b[38;5;124;43m\"\u001b[39;49m\u001b[38;5;124;43mallow_nan\u001b[39;49m\u001b[38;5;124;43m\"\u001b[39;49m\u001b[43m)\u001b[49m\u001b[43m,\u001b[49m\n\u001b[1;32m     88\u001b[0m \u001b[43m    \u001b[49m\u001b[43mreset\u001b[49m\u001b[38;5;241;43m=\u001b[39;49m\u001b[38;5;28;43;01mFalse\u001b[39;49;00m\u001b[43m,\u001b[49m\n\u001b[1;32m     89\u001b[0m \u001b[43m\u001b[49m\u001b[43m)\u001b[49m\n\u001b[1;32m     90\u001b[0m \u001b[38;5;28;01mreturn\u001b[39;00m \u001b[38;5;28mself\u001b[39m\u001b[38;5;241m.\u001b[39m_transform(X)\n",
      "File \u001b[0;32m/mnt/large/jfiorentino/INTERACTomics/PREDICTOR/pred-venv/lib/python3.9/site-packages/sklearn/base.py:577\u001b[0m, in \u001b[0;36mBaseEstimator._validate_data\u001b[0;34m(self, X, y, reset, validate_separately, **check_params)\u001b[0m\n\u001b[1;32m    575\u001b[0m     \u001b[38;5;28;01mraise\u001b[39;00m \u001b[38;5;167;01mValueError\u001b[39;00m(\u001b[38;5;124m\"\u001b[39m\u001b[38;5;124mValidation should be done on X, y or both.\u001b[39m\u001b[38;5;124m\"\u001b[39m)\n\u001b[1;32m    576\u001b[0m \u001b[38;5;28;01melif\u001b[39;00m \u001b[38;5;129;01mnot\u001b[39;00m no_val_X \u001b[38;5;129;01mand\u001b[39;00m no_val_y:\n\u001b[0;32m--> 577\u001b[0m     X \u001b[38;5;241m=\u001b[39m \u001b[43mcheck_array\u001b[49m\u001b[43m(\u001b[49m\u001b[43mX\u001b[49m\u001b[43m,\u001b[49m\u001b[43m \u001b[49m\u001b[43minput_name\u001b[49m\u001b[38;5;241;43m=\u001b[39;49m\u001b[38;5;124;43m\"\u001b[39;49m\u001b[38;5;124;43mX\u001b[39;49m\u001b[38;5;124;43m\"\u001b[39;49m\u001b[43m,\u001b[49m\u001b[43m \u001b[49m\u001b[38;5;241;43m*\u001b[39;49m\u001b[38;5;241;43m*\u001b[39;49m\u001b[43mcheck_params\u001b[49m\u001b[43m)\u001b[49m\n\u001b[1;32m    578\u001b[0m     out \u001b[38;5;241m=\u001b[39m X\n\u001b[1;32m    579\u001b[0m \u001b[38;5;28;01melif\u001b[39;00m no_val_X \u001b[38;5;129;01mand\u001b[39;00m \u001b[38;5;129;01mnot\u001b[39;00m no_val_y:\n",
      "File \u001b[0;32m/mnt/large/jfiorentino/INTERACTomics/PREDICTOR/pred-venv/lib/python3.9/site-packages/sklearn/utils/validation.py:899\u001b[0m, in \u001b[0;36mcheck_array\u001b[0;34m(array, accept_sparse, accept_large_sparse, dtype, order, copy, force_all_finite, ensure_2d, allow_nd, ensure_min_samples, ensure_min_features, estimator, input_name)\u001b[0m\n\u001b[1;32m    893\u001b[0m         \u001b[38;5;28;01mraise\u001b[39;00m \u001b[38;5;167;01mValueError\u001b[39;00m(\n\u001b[1;32m    894\u001b[0m             \u001b[38;5;124m\"\u001b[39m\u001b[38;5;124mFound array with dim \u001b[39m\u001b[38;5;132;01m%d\u001b[39;00m\u001b[38;5;124m. \u001b[39m\u001b[38;5;132;01m%s\u001b[39;00m\u001b[38;5;124m expected <= 2.\u001b[39m\u001b[38;5;124m\"\u001b[39m\n\u001b[1;32m    895\u001b[0m             \u001b[38;5;241m%\u001b[39m (array\u001b[38;5;241m.\u001b[39mndim, estimator_name)\n\u001b[1;32m    896\u001b[0m         )\n\u001b[1;32m    898\u001b[0m     \u001b[38;5;28;01mif\u001b[39;00m force_all_finite:\n\u001b[0;32m--> 899\u001b[0m         \u001b[43m_assert_all_finite\u001b[49m\u001b[43m(\u001b[49m\n\u001b[1;32m    900\u001b[0m \u001b[43m            \u001b[49m\u001b[43marray\u001b[49m\u001b[43m,\u001b[49m\n\u001b[1;32m    901\u001b[0m \u001b[43m            \u001b[49m\u001b[43minput_name\u001b[49m\u001b[38;5;241;43m=\u001b[39;49m\u001b[43minput_name\u001b[49m\u001b[43m,\u001b[49m\n\u001b[1;32m    902\u001b[0m \u001b[43m            \u001b[49m\u001b[43mestimator_name\u001b[49m\u001b[38;5;241;43m=\u001b[39;49m\u001b[43mestimator_name\u001b[49m\u001b[43m,\u001b[49m\n\u001b[1;32m    903\u001b[0m \u001b[43m            \u001b[49m\u001b[43mallow_nan\u001b[49m\u001b[38;5;241;43m=\u001b[39;49m\u001b[43mforce_all_finite\u001b[49m\u001b[43m \u001b[49m\u001b[38;5;241;43m==\u001b[39;49m\u001b[43m \u001b[49m\u001b[38;5;124;43m\"\u001b[39;49m\u001b[38;5;124;43mallow-nan\u001b[39;49m\u001b[38;5;124;43m\"\u001b[39;49m\u001b[43m,\u001b[49m\n\u001b[1;32m    904\u001b[0m \u001b[43m        \u001b[49m\u001b[43m)\u001b[49m\n\u001b[1;32m    906\u001b[0m \u001b[38;5;28;01mif\u001b[39;00m ensure_min_samples \u001b[38;5;241m>\u001b[39m \u001b[38;5;241m0\u001b[39m:\n\u001b[1;32m    907\u001b[0m     n_samples \u001b[38;5;241m=\u001b[39m _num_samples(array)\n",
      "File \u001b[0;32m/mnt/large/jfiorentino/INTERACTomics/PREDICTOR/pred-venv/lib/python3.9/site-packages/sklearn/utils/validation.py:146\u001b[0m, in \u001b[0;36m_assert_all_finite\u001b[0;34m(X, allow_nan, msg_dtype, estimator_name, input_name)\u001b[0m\n\u001b[1;32m    124\u001b[0m         \u001b[38;5;28;01mif\u001b[39;00m (\n\u001b[1;32m    125\u001b[0m             \u001b[38;5;129;01mnot\u001b[39;00m allow_nan\n\u001b[1;32m    126\u001b[0m             \u001b[38;5;129;01mand\u001b[39;00m estimator_name\n\u001b[0;32m   (...)\u001b[0m\n\u001b[1;32m    130\u001b[0m             \u001b[38;5;66;03m# Improve the error message on how to handle missing values in\u001b[39;00m\n\u001b[1;32m    131\u001b[0m             \u001b[38;5;66;03m# scikit-learn.\u001b[39;00m\n\u001b[1;32m    132\u001b[0m             msg_err \u001b[38;5;241m+\u001b[39m\u001b[38;5;241m=\u001b[39m (\n\u001b[1;32m    133\u001b[0m                 \u001b[38;5;124mf\u001b[39m\u001b[38;5;124m\"\u001b[39m\u001b[38;5;130;01m\\n\u001b[39;00m\u001b[38;5;132;01m{\u001b[39;00mestimator_name\u001b[38;5;132;01m}\u001b[39;00m\u001b[38;5;124m does not accept missing values\u001b[39m\u001b[38;5;124m\"\u001b[39m\n\u001b[1;32m    134\u001b[0m                 \u001b[38;5;124m\"\u001b[39m\u001b[38;5;124m encoded as NaN natively. For supervised learning, you might want\u001b[39m\u001b[38;5;124m\"\u001b[39m\n\u001b[0;32m   (...)\u001b[0m\n\u001b[1;32m    144\u001b[0m                 \u001b[38;5;124m\"\u001b[39m\u001b[38;5;124m#estimators-that-handle-nan-values\u001b[39m\u001b[38;5;124m\"\u001b[39m\n\u001b[1;32m    145\u001b[0m             )\n\u001b[0;32m--> 146\u001b[0m         \u001b[38;5;28;01mraise\u001b[39;00m \u001b[38;5;167;01mValueError\u001b[39;00m(msg_err)\n\u001b[1;32m    148\u001b[0m \u001b[38;5;66;03m# for object dtype data, we only check for NaNs (GH-13254)\u001b[39;00m\n\u001b[1;32m    149\u001b[0m \u001b[38;5;28;01melif\u001b[39;00m X\u001b[38;5;241m.\u001b[39mdtype \u001b[38;5;241m==\u001b[39m np\u001b[38;5;241m.\u001b[39mdtype(\u001b[38;5;124m\"\u001b[39m\u001b[38;5;124mobject\u001b[39m\u001b[38;5;124m\"\u001b[39m) \u001b[38;5;129;01mand\u001b[39;00m \u001b[38;5;129;01mnot\u001b[39;00m allow_nan:\n",
      "\u001b[0;31mValueError\u001b[0m: Input X contains NaN.\nSelectFromModel does not accept missing values encoded as NaN natively. For supervised learning, you might want to consider sklearn.ensemble.HistGradientBoostingClassifier and Regressor which accept missing values encoded as NaNs natively. Alternatively, it is possible to preprocess the data, for instance by using an imputer transformer in a pipeline or drop samples with missing values. See https://scikit-learn.org/stable/modules/impute.html You can find a list of all estimators that handle NaN values at the following page: https://scikit-learn.org/stable/modules/impute.html#estimators-that-handle-nan-values"
     ]
    }
   ],
   "source": [
    "prof=get_physical_chemical_profiles(seq,\"./src/ChemicalPhysicalScales_Py_dictionary/\",\"./src/TRAINED_MODELS/\",correct_order_columns)"
   ]
  },
  {
   "cell_type": "markdown",
   "metadata": {},
   "source": [
    "### from uniprot id"
   ]
  },
  {
   "cell_type": "code",
   "execution_count": 12,
   "metadata": {},
   "outputs": [
    {
     "name": "stderr",
     "output_type": "stream",
     "text": [
      "/Users/mmonti/anaconda3/envs/predenv/lib/python3.9/site-packages/sklearn/base.py:443: UserWarning: X has feature names, but StandardScaler was fitted without feature names\n",
      "  warnings.warn(\n"
     ]
    },
    {
     "data": {
      "text/plain": [
       "<matplotlib.legend.Legend at 0x1b0e83e20>"
      ]
     },
     "execution_count": 12,
     "metadata": {},
     "output_type": "execute_result"
    }
   ],
   "source": [
    "seqTdp43=list(SeqIO.parse(\"TDP43.fasta\", \"fasta\"))\n",
    "proteinImport = fromUniprot('Q13148')[0]\n",
    "seq=str(proteinImport.seq)\n",
    "\n",
    "seq=str(seqTdp43[0].seq)\n",
    "WT_scores,WT_profiles=catGranule2_str(seq)\n",
    "plt.plot(WT_profiles, label= 'Score = %.3lf'%WT_scores)\n",
    "plt.xlabel('Residue position')\n",
    "plt.ylabel('LLPS propensity')\n",
    "plt.title('%s'%(proteinImport.id))\n",
    "plt.legend()"
   ]
  },
  {
   "cell_type": "code",
   "execution_count": 11,
   "metadata": {},
   "outputs": [
    {
     "data": {
      "text/plain": [
       "'MSEYIRVTEDENDEPIEIPSEDDGTVLLSTVTAQFPGACGLRYRNPVSQCMRGVRLVEGILHAPDAGWGNLVYVVNYPKDNKRKMDETDASSAVKVKRAVQKTSDLIVLGLPWKTTEQDLKEYFSTFGEVLMVQVKKDLKTGHSKGFGFVRFTEYETQVKVMSQRHMIDGRWCDCKLPNSKQSQDEPLRSRKVFVGRCTEDMTEDELREFFSQYGDVMDVFIPKPFRAFAFVTFADDQIAQSLCGEDLIIKGISVHISNAEPKHNSNRQLERSGRFGGNPGGFGNQGGFGNSRGGGAGLGNNQGSNMGGGMNFGAFSINPAMMAAAQAALQSSWGMMGMLASQQNQSGPSGNNQNQGNMQREPNQAFGSGNNSYSGSNSGAAIGWGSASNAGSGSGFNGGFGSSMDSKSSGWGM'"
      ]
     },
     "execution_count": 11,
     "metadata": {},
     "output_type": "execute_result"
    }
   ],
   "source": [
    "str(fromUniprot('Q13148')[0].seq)"
   ]
  },
  {
   "cell_type": "code",
   "execution_count": 3,
   "metadata": {},
   "outputs": [
    {
     "name": "stderr",
     "output_type": "stream",
     "text": [
      "/mnt/large/jfiorentino/INTERACTomics/PREDICTOR/pred-venv/lib/python3.9/site-packages/sklearn/base.py:443: UserWarning: X has feature names, but StandardScaler was fitted without feature names\n",
      "  warnings.warn(\n"
     ]
    }
   ],
   "source": [
    "fasta_file='catgranule_LLPS_PSP.fasta'\n",
    "\n",
    "fDf1 = compute_score_profile_fatsa_DF(fasta_file)\n",
    "# fDf.to_csv(\"FuzDrop_02_LLPS_catgranule2_fromfasta.csv\")"
   ]
  },
  {
   "cell_type": "code",
   "execution_count": 5,
   "metadata": {},
   "outputs": [],
   "source": [
    "fDf1.to_csv(\"llps_yeast_catgranule2_fromfasta.csv\")"
   ]
  },
  {
   "cell_type": "code",
   "execution_count": 11,
   "metadata": {},
   "outputs": [
    {
     "name": "stderr",
     "output_type": "stream",
     "text": [
      "/mnt/large/jfiorentino/INTERACTomics/PREDICTOR/pred-venv/lib/python3.9/site-packages/sklearn/base.py:443: UserWarning: X has feature names, but StandardScaler was fitted without feature names\n",
      "  warnings.warn(\n"
     ]
    }
   ],
   "source": [
    "fasta_file='LLPS_FuzDrop_02.fasta'\n",
    "\n",
    "fDf1 = compute_score_profile_fatsa_DF(fasta_file)\n",
    "# fDf.to_csv(\"FuzDrop_02_LLPS_catgranule2_fromfasta.csv\")"
   ]
  },
  {
   "cell_type": "code",
   "execution_count": 9,
   "metadata": {},
   "outputs": [
    {
     "name": "stderr",
     "output_type": "stream",
     "text": [
      "/mnt/large/jfiorentino/INTERACTomics/PREDICTOR/pred-venv/lib/python3.9/site-packages/sklearn/base.py:443: UserWarning: X has feature names, but StandardScaler was fitted without feature names\n",
      "  warnings.warn(\n"
     ]
    }
   ],
   "source": [
    "fasta_file='nonLLPS_FuzDrop_02.fasta'\n",
    "\n",
    "fDf = compute_score_profile_fatsa_DF(fasta_file)\n",
    "fDf.to_csv(\"FuzDrop_02_nonLLPS_catgranule2_fromfasta.csv\")"
   ]
  },
  {
   "cell_type": "code",
   "execution_count": 12,
   "metadata": {},
   "outputs": [
    {
     "data": {
      "text/html": [
       "<div>\n",
       "<style scoped>\n",
       "    .dataframe tbody tr th:only-of-type {\n",
       "        vertical-align: middle;\n",
       "    }\n",
       "\n",
       "    .dataframe tbody tr th {\n",
       "        vertical-align: top;\n",
       "    }\n",
       "\n",
       "    .dataframe thead th {\n",
       "        text-align: right;\n",
       "    }\n",
       "</style>\n",
       "<table border=\"1\" class=\"dataframe\">\n",
       "  <thead>\n",
       "    <tr style=\"text-align: right;\">\n",
       "      <th></th>\n",
       "      <th>Name</th>\n",
       "      <th>LLPS_Score</th>\n",
       "      <th>LLPS_Profile</th>\n",
       "    </tr>\n",
       "  </thead>\n",
       "  <tbody>\n",
       "    <tr>\n",
       "      <th>0</th>\n",
       "      <td>tr|A0A0G2UHG9|A0A0G2UHG9_DOSGI</td>\n",
       "      <td>0.490</td>\n",
       "      <td>[0.16822263797942003, 0.18014031805425632, 0.2...</td>\n",
       "    </tr>\n",
       "    <tr>\n",
       "      <th>1</th>\n",
       "      <td>tr|A0A0G2UMW8|A0A0G2UMW8_DOSGI</td>\n",
       "      <td>0.465</td>\n",
       "      <td>[0.15690724088973024, 0.16835068622811167, 0.1...</td>\n",
       "    </tr>\n",
       "    <tr>\n",
       "      <th>2</th>\n",
       "      <td>tr|A0A2K3DA85|A0A2K3DA85_CHLRE</td>\n",
       "      <td>0.345</td>\n",
       "      <td>[0.1602627430373095, 0.17875459800315294, 0.19...</td>\n",
       "    </tr>\n",
       "    <tr>\n",
       "      <th>3</th>\n",
       "      <td>tr|D3KYQ3|D3KYQ3_TETTH</td>\n",
       "      <td>0.615</td>\n",
       "      <td>[0.2820274599542334, 0.31692906178489705, 0.33...</td>\n",
       "    </tr>\n",
       "    <tr>\n",
       "      <th>4</th>\n",
       "      <td>tr|E1UZH7|E1UZH7_ECOLX</td>\n",
       "      <td>0.640</td>\n",
       "      <td>[0.31194360523665665, 0.33353474320241705, 0.3...</td>\n",
       "    </tr>\n",
       "    <tr>\n",
       "      <th>...</th>\n",
       "      <td>...</td>\n",
       "      <td>...</td>\n",
       "      <td>...</td>\n",
       "    </tr>\n",
       "    <tr>\n",
       "      <th>70</th>\n",
       "      <td>sp|Q9TZQ3|PGL1_CAEEL</td>\n",
       "      <td>0.685</td>\n",
       "      <td>[0.22961507618283888, 0.26367281475541304, 0.2...</td>\n",
       "    </tr>\n",
       "    <tr>\n",
       "      <th>71</th>\n",
       "      <td>sp|Q9V7U0|RESIL_DROME</td>\n",
       "      <td>0.685</td>\n",
       "      <td>[0.2151290035587189, 0.2462099644128114, 0.264...</td>\n",
       "    </tr>\n",
       "    <tr>\n",
       "      <th>72</th>\n",
       "      <td>sp|Q9W1V3|FBRL_DROME</td>\n",
       "      <td>0.710</td>\n",
       "      <td>[0.3014202786377709, 0.3354914860681114, 0.369...</td>\n",
       "    </tr>\n",
       "    <tr>\n",
       "      <th>73</th>\n",
       "      <td>tr|Q9W4I7|Q9W4I7_DROME</td>\n",
       "      <td>0.660</td>\n",
       "      <td>[0.2754224270353303, 0.2980645161290323, 0.321...</td>\n",
       "    </tr>\n",
       "    <tr>\n",
       "      <th>74</th>\n",
       "      <td>tr|Q9W4W2|Q9W4W2_DROME</td>\n",
       "      <td>0.625</td>\n",
       "      <td>[0.2565322171486555, 0.2777777777777777, 0.310...</td>\n",
       "    </tr>\n",
       "  </tbody>\n",
       "</table>\n",
       "<p>75 rows × 3 columns</p>\n",
       "</div>"
      ],
      "text/plain": [
       "                              Name  LLPS_Score  \\\n",
       "0   tr|A0A0G2UHG9|A0A0G2UHG9_DOSGI       0.490   \n",
       "1   tr|A0A0G2UMW8|A0A0G2UMW8_DOSGI       0.465   \n",
       "2   tr|A0A2K3DA85|A0A2K3DA85_CHLRE       0.345   \n",
       "3           tr|D3KYQ3|D3KYQ3_TETTH       0.615   \n",
       "4           tr|E1UZH7|E1UZH7_ECOLX       0.640   \n",
       "..                             ...         ...   \n",
       "70            sp|Q9TZQ3|PGL1_CAEEL       0.685   \n",
       "71           sp|Q9V7U0|RESIL_DROME       0.685   \n",
       "72            sp|Q9W1V3|FBRL_DROME       0.710   \n",
       "73          tr|Q9W4I7|Q9W4I7_DROME       0.660   \n",
       "74          tr|Q9W4W2|Q9W4W2_DROME       0.625   \n",
       "\n",
       "                                         LLPS_Profile  \n",
       "0   [0.16822263797942003, 0.18014031805425632, 0.2...  \n",
       "1   [0.15690724088973024, 0.16835068622811167, 0.1...  \n",
       "2   [0.1602627430373095, 0.17875459800315294, 0.19...  \n",
       "3   [0.2820274599542334, 0.31692906178489705, 0.33...  \n",
       "4   [0.31194360523665665, 0.33353474320241705, 0.3...  \n",
       "..                                                ...  \n",
       "70  [0.22961507618283888, 0.26367281475541304, 0.2...  \n",
       "71  [0.2151290035587189, 0.2462099644128114, 0.264...  \n",
       "72  [0.3014202786377709, 0.3354914860681114, 0.369...  \n",
       "73  [0.2754224270353303, 0.2980645161290323, 0.321...  \n",
       "74  [0.2565322171486555, 0.2777777777777777, 0.310...  \n",
       "\n",
       "[75 rows x 3 columns]"
      ]
     },
     "execution_count": 12,
     "metadata": {},
     "output_type": "execute_result"
    }
   ],
   "source": [
    "fDf1"
   ]
  },
  {
   "cell_type": "code",
   "execution_count": null,
   "metadata": {},
   "outputs": [
    {
     "name": "stderr",
     "output_type": "stream",
     "text": [
      "/mnt/large/jfiorentino/INTERACTomics/PREDICTOR/pred-venv/lib/python3.9/site-packages/openpyxl/worksheet/_reader.py:329: UserWarning: Unknown extension is not supported and will be removed\n",
      "  warn(msg)\n"
     ]
    },
    {
     "name": "stdout",
     "output_type": "stream",
     "text": [
      "                FileName  LLPS_Score\n",
      "0  AF-Q91349-F1-model_v4    0.347517\n"
     ]
    },
    {
     "name": "stderr",
     "output_type": "stream",
     "text": [
      "/mnt/large/jfiorentino/INTERACTomics/PREDICTOR/pred-venv/lib/python3.9/site-packages/sklearn/base.py:443: UserWarning: X has feature names, but StandardScaler was fitted without feature names\n",
      "  warnings.warn(\n",
      "/mnt/large/jfiorentino/INTERACTomics/PREDICTOR/pred-venv/lib/python3.9/site-packages/openpyxl/worksheet/_reader.py:329: UserWarning: Unknown extension is not supported and will be removed\n",
      "  warn(msg)\n"
     ]
    }
   ],
   "source": [
    "dfs=[]\n",
    "i=0\n",
    "for f in os.listdir(\"./pdb_LLPS/\"):\n",
    "    aa = compute_score_from_pdb(\"./pdb_LLPS/\"+f)\n",
    "    print(aa)\n",
    "    dfs.append(aa)\n",
    "    i+=1\n",
    "df = pd.concat(dfs)"
   ]
  },
  {
   "cell_type": "markdown",
   "metadata": {},
   "source": [
    "### generate profile and score form a fasta as lists or as dataframe\n"
   ]
  },
  {
   "cell_type": "code",
   "execution_count": 26,
   "metadata": {},
   "outputs": [
    {
     "name": "stderr",
     "output_type": "stream",
     "text": [
      "/Users/mmonti/anaconda3/envs/predenv/lib/python3.9/site-packages/sklearn/base.py:443: UserWarning: X has feature names, but StandardScaler was fitted without feature names\n",
      "  warnings.warn(\n"
     ]
    }
   ],
   "source": [
    "fasta_file='newMutations_TDP43_mutated.fasta'\n",
    "\n",
    "prof, scores = compute_score_and_profile_from_fasta_file(fasta_file)"
   ]
  },
  {
   "cell_type": "code",
   "execution_count": 31,
   "metadata": {},
   "outputs": [
    {
     "name": "stderr",
     "output_type": "stream",
     "text": [
      "/Users/mmonti/anaconda3/envs/predenv/lib/python3.9/site-packages/sklearn/base.py:443: UserWarning: X has feature names, but StandardScaler was fitted without feature names\n",
      "  warnings.warn(\n"
     ]
    }
   ],
   "source": [
    "fDf = compute_score_profile_fatsa_DF(fasta_file)"
   ]
  },
  {
   "cell_type": "code",
   "execution_count": 35,
   "metadata": {},
   "outputs": [
    {
     "data": {
      "text/html": [
       "<div>\n",
       "<style scoped>\n",
       "    .dataframe tbody tr th:only-of-type {\n",
       "        vertical-align: middle;\n",
       "    }\n",
       "\n",
       "    .dataframe tbody tr th {\n",
       "        vertical-align: top;\n",
       "    }\n",
       "\n",
       "    .dataframe thead th {\n",
       "        text-align: right;\n",
       "    }\n",
       "</style>\n",
       "<table border=\"1\" class=\"dataframe\">\n",
       "  <thead>\n",
       "    <tr style=\"text-align: right;\">\n",
       "      <th></th>\n",
       "      <th>Name</th>\n",
       "      <th>LLPS_Score</th>\n",
       "      <th>LLPS_Profile</th>\n",
       "    </tr>\n",
       "  </thead>\n",
       "  <tbody>\n",
       "    <tr>\n",
       "      <th>0</th>\n",
       "      <td>TDP43_333_K</td>\n",
       "      <td>0.881716</td>\n",
       "      <td>[0.3, 0.295, 0.255, 0.235, 0.28, 0.56, 0.61, 0...</td>\n",
       "    </tr>\n",
       "    <tr>\n",
       "      <th>1</th>\n",
       "      <td>TDP43_321_K</td>\n",
       "      <td>0.872718</td>\n",
       "      <td>[0.3, 0.295, 0.255, 0.235, 0.28, 0.56, 0.61, 0...</td>\n",
       "    </tr>\n",
       "    <tr>\n",
       "      <th>2</th>\n",
       "      <td>TDP43_327_P</td>\n",
       "      <td>0.861247</td>\n",
       "      <td>[0.3, 0.295, 0.255, 0.235, 0.28, 0.56, 0.61, 0...</td>\n",
       "    </tr>\n",
       "    <tr>\n",
       "      <th>3</th>\n",
       "      <td>TDP43_327_V</td>\n",
       "      <td>0.874903</td>\n",
       "      <td>[0.3, 0.295, 0.255, 0.235, 0.28, 0.56, 0.61, 0...</td>\n",
       "    </tr>\n",
       "    <tr>\n",
       "      <th>4</th>\n",
       "      <td>TDP43_359_Y</td>\n",
       "      <td>0.874290</td>\n",
       "      <td>[0.3, 0.295, 0.255, 0.235, 0.28, 0.56, 0.61, 0...</td>\n",
       "    </tr>\n",
       "    <tr>\n",
       "      <th>5</th>\n",
       "      <td>TDP43_334_I</td>\n",
       "      <td>0.871023</td>\n",
       "      <td>[0.3, 0.295, 0.255, 0.235, 0.28, 0.56, 0.61, 0...</td>\n",
       "    </tr>\n",
       "  </tbody>\n",
       "</table>\n",
       "</div>"
      ],
      "text/plain": [
       "          Name  LLPS_Score                                       LLPS_Profile\n",
       "0  TDP43_333_K    0.881716  [0.3, 0.295, 0.255, 0.235, 0.28, 0.56, 0.61, 0...\n",
       "1  TDP43_321_K    0.872718  [0.3, 0.295, 0.255, 0.235, 0.28, 0.56, 0.61, 0...\n",
       "2  TDP43_327_P    0.861247  [0.3, 0.295, 0.255, 0.235, 0.28, 0.56, 0.61, 0...\n",
       "3  TDP43_327_V    0.874903  [0.3, 0.295, 0.255, 0.235, 0.28, 0.56, 0.61, 0...\n",
       "4  TDP43_359_Y    0.874290  [0.3, 0.295, 0.255, 0.235, 0.28, 0.56, 0.61, 0...\n",
       "5  TDP43_334_I    0.871023  [0.3, 0.295, 0.255, 0.235, 0.28, 0.56, 0.61, 0..."
      ]
     },
     "execution_count": 35,
     "metadata": {},
     "output_type": "execute_result"
    }
   ],
   "source": [
    "fDf"
   ]
  },
  {
   "cell_type": "markdown",
   "metadata": {},
   "source": [
    "### generate dataframe from a single PDB or list of  PDB files\n",
    "\n"
   ]
  },
  {
   "cell_type": "code",
   "execution_count": 10,
   "metadata": {},
   "outputs": [
    {
     "name": "stderr",
     "output_type": "stream",
     "text": [
      "/Users/mmonti/anaconda3/envs/predenv/lib/python3.9/site-packages/openpyxl/worksheet/_read_only.py:81: UserWarning: Unknown extension is not supported and will be removed\n",
      "  for idx, row in parser.parse():\n",
      "/Users/mmonti/anaconda3/envs/predenv/lib/python3.9/site-packages/sklearn/base.py:443: UserWarning: X has feature names, but StandardScaler was fitted without feature names\n",
      "  warnings.warn(\n"
     ]
    }
   ],
   "source": [
    "\n",
    "a =compute_score_and_profile_from_pdb('AF-Q13148-F1-model_v4.pdb')"
   ]
  },
  {
   "cell_type": "code",
   "execution_count": 11,
   "metadata": {},
   "outputs": [
    {
     "name": "stderr",
     "output_type": "stream",
     "text": [
      "/Users/mmonti/anaconda3/envs/predenv/lib/python3.9/site-packages/openpyxl/worksheet/_read_only.py:81: UserWarning: Unknown extension is not supported and will be removed\n",
      "  for idx, row in parser.parse():\n",
      "/Users/mmonti/anaconda3/envs/predenv/lib/python3.9/site-packages/sklearn/base.py:443: UserWarning: X has feature names, but StandardScaler was fitted without feature names\n",
      "  warnings.warn(\n",
      "/Users/mmonti/anaconda3/envs/predenv/lib/python3.9/site-packages/openpyxl/worksheet/_read_only.py:81: UserWarning: Unknown extension is not supported and will be removed\n",
      "  for idx, row in parser.parse():\n",
      "/Users/mmonti/anaconda3/envs/predenv/lib/python3.9/site-packages/sklearn/base.py:443: UserWarning: X has feature names, but StandardScaler was fitted without feature names\n",
      "  warnings.warn(\n"
     ]
    }
   ],
   "source": [
    "b =compute_score_profile_ListPdb(['AF-Q13148-F1-model_v4.pdb','AF-X6R8D5-F1-model_v4.pdb'])"
   ]
  },
  {
   "cell_type": "markdown",
   "metadata": {},
   "source": [
    "## Mutation analysis of one single protein"
   ]
  },
  {
   "cell_type": "code",
   "execution_count": null,
   "metadata": {},
   "outputs": [],
   "source": []
  },
  {
   "cell_type": "code",
   "execution_count": 105,
   "metadata": {},
   "outputs": [],
   "source": [
    "names=[]\n",
    "mutSeqList=[]\n",
    "\n",
    "fastaInput=list(SeqIO.parse(\"TDP43.fasta\", \"fasta\"))\n",
    "seq=str(fastaInput[0].seq)\n",
    "\n",
    "for i in range(len(seq)):\n",
    "    for am in aminoList:\n",
    "\n",
    "        pos=i\n",
    "        newAm = am\n",
    "        \n",
    "        names.append(fastaInput[0].id.split('|')[1]+'_'+str(pos)+'_'+str(newAm))\n",
    "\n",
    "        mutSeq= seqMutation(seq, pos,newAm)\n",
    "\n",
    "\n",
    "        mutSeqList.append(mutSeq)\n"
   ]
  },
  {
   "cell_type": "code",
   "execution_count": 106,
   "metadata": {},
   "outputs": [],
   "source": [
    "write_fasta(mutSeqList, names,'TPD_allMutation.fasta')"
   ]
  },
  {
   "cell_type": "code",
   "execution_count": 107,
   "metadata": {},
   "outputs": [],
   "source": [
    "\n",
    "\n",
    "fDf = compute_score_profile_fatsa_DF('TPD_allMutation.fasta')"
   ]
  },
  {
   "cell_type": "code",
   "execution_count": null,
   "metadata": {},
   "outputs": [
    {
     "name": "stderr",
     "output_type": "stream",
     "text": [
      "/Users/mmonti/anaconda3/envs/predenv/lib/python3.9/site-packages/sklearn/base.py:443: UserWarning: X has feature names, but StandardScaler was fitted without feature names\n",
      "  warnings.warn(\n"
     ]
    }
   ],
   "source": [
    "\n",
    "\n",
    "\n",
    "prof_wt, score_wt = compute_score_and_profile_from_fasta_file('TDP43.fasta')"
   ]
  },
  {
   "cell_type": "code",
   "execution_count": null,
   "metadata": {},
   "outputs": [],
   "source": [
    "\n",
    "fDf['mutation_score'] = fDf['LLPS_Profile'].apply(lambda x: np.sum(np.array(x) - prof_wt[0])/np.mean(prof_wt))\n"
   ]
  },
  {
   "cell_type": "code",
   "execution_count": null,
   "metadata": {},
   "outputs": [
    {
     "data": {
      "text/html": [
       "<div>\n",
       "<style scoped>\n",
       "    .dataframe tbody tr th:only-of-type {\n",
       "        vertical-align: middle;\n",
       "    }\n",
       "\n",
       "    .dataframe tbody tr th {\n",
       "        vertical-align: top;\n",
       "    }\n",
       "\n",
       "    .dataframe thead th {\n",
       "        text-align: right;\n",
       "    }\n",
       "</style>\n",
       "<table border=\"1\" class=\"dataframe\">\n",
       "  <thead>\n",
       "    <tr style=\"text-align: right;\">\n",
       "      <th></th>\n",
       "      <th>Name</th>\n",
       "      <th>LLPS_Score</th>\n",
       "      <th>LLPS_Profile</th>\n",
       "      <th>mutation_score</th>\n",
       "    </tr>\n",
       "  </thead>\n",
       "  <tbody>\n",
       "    <tr>\n",
       "      <th>0</th>\n",
       "      <td>Q131480_A</td>\n",
       "      <td>0.870449</td>\n",
       "      <td>[0.3, 0.3, 0.275, 0.245, 0.325, 0.53, 0.615, 0...</td>\n",
       "      <td>0.501074</td>\n",
       "    </tr>\n",
       "    <tr>\n",
       "      <th>1</th>\n",
       "      <td>Q131480_C</td>\n",
       "      <td>0.866452</td>\n",
       "      <td>[0.3, 0.285, 0.26, 0.25, 0.26, 0.49, 0.5, 0.62...</td>\n",
       "      <td>-0.276102</td>\n",
       "    </tr>\n",
       "    <tr>\n",
       "      <th>2</th>\n",
       "      <td>Q131480_D</td>\n",
       "      <td>0.869023</td>\n",
       "      <td>[0.305, 0.33, 0.32, 0.31, 0.275, 0.45, 0.595, ...</td>\n",
       "      <td>0.449944</td>\n",
       "    </tr>\n",
       "    <tr>\n",
       "      <th>3</th>\n",
       "      <td>Q131480_E</td>\n",
       "      <td>0.870187</td>\n",
       "      <td>[0.3, 0.3, 0.28, 0.235, 0.315, 0.525, 0.59, 0....</td>\n",
       "      <td>0.378362</td>\n",
       "    </tr>\n",
       "    <tr>\n",
       "      <th>4</th>\n",
       "      <td>Q131480_F</td>\n",
       "      <td>0.870141</td>\n",
       "      <td>[0.29, 0.275, 0.245, 0.24, 0.27, 0.49, 0.57, 0...</td>\n",
       "      <td>-0.132938</td>\n",
       "    </tr>\n",
       "    <tr>\n",
       "      <th>...</th>\n",
       "      <td>...</td>\n",
       "      <td>...</td>\n",
       "      <td>...</td>\n",
       "      <td>...</td>\n",
       "    </tr>\n",
       "    <tr>\n",
       "      <th>8275</th>\n",
       "      <td>Q13148413_S</td>\n",
       "      <td>0.580510</td>\n",
       "      <td>[0.305, 0.335, 0.37, 0.47, 0.515, 0.495, 0.495...</td>\n",
       "      <td>6.882104</td>\n",
       "    </tr>\n",
       "    <tr>\n",
       "      <th>8276</th>\n",
       "      <td>Q13148413_T</td>\n",
       "      <td>0.577374</td>\n",
       "      <td>[0.305, 0.335, 0.37, 0.47, 0.515, 0.495, 0.495...</td>\n",
       "      <td>7.086625</td>\n",
       "    </tr>\n",
       "    <tr>\n",
       "      <th>8277</th>\n",
       "      <td>Q13148413_V</td>\n",
       "      <td>0.580195</td>\n",
       "      <td>[0.305, 0.335, 0.37, 0.47, 0.515, 0.495, 0.495...</td>\n",
       "      <td>7.188885</td>\n",
       "    </tr>\n",
       "    <tr>\n",
       "      <th>8278</th>\n",
       "      <td>Q13148413_W</td>\n",
       "      <td>0.563839</td>\n",
       "      <td>[0.305, 0.335, 0.37, 0.47, 0.515, 0.495, 0.495...</td>\n",
       "      <td>7.147981</td>\n",
       "    </tr>\n",
       "    <tr>\n",
       "      <th>8279</th>\n",
       "      <td>Q13148413_Y</td>\n",
       "      <td>0.580920</td>\n",
       "      <td>[0.305, 0.335, 0.37, 0.47, 0.515, 0.495, 0.495...</td>\n",
       "      <td>7.250241</td>\n",
       "    </tr>\n",
       "  </tbody>\n",
       "</table>\n",
       "<p>8280 rows × 4 columns</p>\n",
       "</div>"
      ],
      "text/plain": [
       "             Name  LLPS_Score  \\\n",
       "0       Q131480_A    0.870449   \n",
       "1       Q131480_C    0.866452   \n",
       "2       Q131480_D    0.869023   \n",
       "3       Q131480_E    0.870187   \n",
       "4       Q131480_F    0.870141   \n",
       "...           ...         ...   \n",
       "8275  Q13148413_S    0.580510   \n",
       "8276  Q13148413_T    0.577374   \n",
       "8277  Q13148413_V    0.580195   \n",
       "8278  Q13148413_W    0.563839   \n",
       "8279  Q13148413_Y    0.580920   \n",
       "\n",
       "                                           LLPS_Profile  mutation_score  \n",
       "0     [0.3, 0.3, 0.275, 0.245, 0.325, 0.53, 0.615, 0...        0.501074  \n",
       "1     [0.3, 0.285, 0.26, 0.25, 0.26, 0.49, 0.5, 0.62...       -0.276102  \n",
       "2     [0.305, 0.33, 0.32, 0.31, 0.275, 0.45, 0.595, ...        0.449944  \n",
       "3     [0.3, 0.3, 0.28, 0.235, 0.315, 0.525, 0.59, 0....        0.378362  \n",
       "4     [0.29, 0.275, 0.245, 0.24, 0.27, 0.49, 0.57, 0...       -0.132938  \n",
       "...                                                 ...             ...  \n",
       "8275  [0.305, 0.335, 0.37, 0.47, 0.515, 0.495, 0.495...        6.882104  \n",
       "8276  [0.305, 0.335, 0.37, 0.47, 0.515, 0.495, 0.495...        7.086625  \n",
       "8277  [0.305, 0.335, 0.37, 0.47, 0.515, 0.495, 0.495...        7.188885  \n",
       "8278  [0.305, 0.335, 0.37, 0.47, 0.515, 0.495, 0.495...        7.147981  \n",
       "8279  [0.305, 0.335, 0.37, 0.47, 0.515, 0.495, 0.495...        7.250241  \n",
       "\n",
       "[8280 rows x 4 columns]"
      ]
     },
     "execution_count": 98,
     "metadata": {},
     "output_type": "execute_result"
    }
   ],
   "source": []
  },
  {
   "cell_type": "code",
   "execution_count": 85,
   "metadata": {},
   "outputs": [],
   "source": [
    "\n",
    "\n",
    "\n",
    "count = 0\n",
    "hm = []\n",
    "for i in range(len(seq)):\n",
    "    hm.append([])\n",
    "    for am in aminoList:\n",
    "        hm[-1].append(fDf.mutation_score[count])\n",
    "\n",
    "        count =count+1\n",
    "\n",
    "\n"
   ]
  },
  {
   "cell_type": "code",
   "execution_count": 93,
   "metadata": {},
   "outputs": [],
   "source": [
    "\n",
    "plt.figure('HeatMap_mutation', figsize = (10,7))\n",
    "\n",
    "\n",
    "x_labels=range(1,np.shape(hm)[0]+1)\n",
    "y_labels=aminoList\n",
    "\n",
    "im=plt.imshow(np.transpose(hm), aspect='auto', origin='lower', interpolation=None, cmap='PiYG')\n",
    "plt.colorbar(im)\n",
    "\n",
    "\n",
    "# plt.xticks(ticks=range(len(x_labels)), labels=x_labels)  # Use the custom x-axis labels\n",
    "step = 25  # Show one label every 25\n",
    "plt.xticks(ticks=range(0, len(x_labels), step), labels=[x_labels[i] for i in range(0, len(x_labels), step)])\n",
    "\n",
    "\n",
    "\n",
    "plt.yticks(ticks=range(len(y_labels)), labels=y_labels)  # Use the custom y-axis labels\n",
    "\n",
    "# Optional: add labels for the axes\n",
    "plt.ylabel(\"amino-acid substitution\")\n",
    "plt.xlabel(\"sequence position\")\n",
    "plt.tight_layout()\n",
    "plt.savefig('MutationScan.pdf')"
   ]
  },
  {
   "cell_type": "code",
   "execution_count": 104,
   "metadata": {},
   "outputs": [],
   "source": [
    "plt.figure('profile_WT', figsize = (10,7))\n",
    "\n",
    "plt.plot(prof_wt[0], color='k')\n",
    "\n",
    "plt.xlabel(\"Residue position\")\n",
    "plt.ylabel(\"LLPS propensity\")\n",
    "plt.grid(alpha=0.3)\n",
    "plt.tight_layout()\n",
    "plt.savefig('Profile.pdf')"
   ]
  },
  {
   "cell_type": "code",
   "execution_count": null,
   "metadata": {},
   "outputs": [],
   "source": []
  },
  {
   "cell_type": "code",
   "execution_count": 6,
   "metadata": {},
   "outputs": [
    {
     "name": "stderr",
     "output_type": "stream",
     "text": [
      "/mnt/large/jfiorentino/INTERACTomics/PREDICTOR/pred-venv/lib/python3.9/site-packages/sklearn/base.py:443: UserWarning: X has feature names, but StandardScaler was fitted without feature names\n",
      "  warnings.warn(\n"
     ]
    }
   ],
   "source": [
    "seq=\"MPMSQPAAPPVLTVRYEGSERTFAAGHDVVVGRDLRADVRVAHPLISRAHLLLRFDQGRWVAIDNGSLNGLYLNNRRVPVVDIYDAQRVHIGNPDGPALDFEVGRHRGSAGRPPQTTSIRLPNLSAGAWPTDGPPQTGTLGSGQLQQLPPATTRIPAAPPSGPQPRYPTGGQQLWPPSGPQRAPQIYRPPTAAPPPAGARGGTEAGNLATSMMKILRPGRLTGELPPGAVRIGRANDNDIVIPEVLASRHHATLVPTPGGTEIRDNRSINGTFVNGARVDAALLHDGDVVTIGNIDLVFADGTLARREEN\"\n",
    "\n",
    "# WT_scores,WT_profiles=catGranule2_str(seq)\n",
    "prof_wt, score_wt = compute_score_and_profile_from_aa_text(seq)"
   ]
  },
  {
   "cell_type": "code",
   "execution_count": 7,
   "metadata": {},
   "outputs": [
    {
     "data": {
      "text/html": [
       "<div>\n",
       "<style scoped>\n",
       "    .dataframe tbody tr th:only-of-type {\n",
       "        vertical-align: middle;\n",
       "    }\n",
       "\n",
       "    .dataframe tbody tr th {\n",
       "        vertical-align: top;\n",
       "    }\n",
       "\n",
       "    .dataframe thead th {\n",
       "        text-align: right;\n",
       "    }\n",
       "</style>\n",
       "<table border=\"1\" class=\"dataframe\">\n",
       "  <thead>\n",
       "    <tr style=\"text-align: right;\">\n",
       "      <th></th>\n",
       "      <th>RandomForest</th>\n",
       "    </tr>\n",
       "  </thead>\n",
       "  <tbody>\n",
       "    <tr>\n",
       "      <th>Seq1</th>\n",
       "      <td>0.645</td>\n",
       "    </tr>\n",
       "  </tbody>\n",
       "</table>\n",
       "</div>"
      ],
      "text/plain": [
       "      RandomForest\n",
       "Seq1         0.645"
      ]
     },
     "execution_count": 7,
     "metadata": {},
     "output_type": "execute_result"
    }
   ],
   "source": [
    "score_wt"
   ]
  },
  {
   "cell_type": "code",
   "execution_count": 34,
   "metadata": {},
   "outputs": [
    {
     "data": {
      "image/png": "[encoded data removed]",
      "text/plain": [
       "<Figure size 432x288 with 1 Axes>"
      ]
     },
     "metadata": {
      "needs_background": "light"
     },
     "output_type": "display_data"
    }
   ],
   "source": [
    "fig,ax = plt.subplots()\n",
    "ax.set_title(\"Rv1747\",fontsize=12)\n",
    "ax.set_xlabel(\"Residue position\",fontsize=12)\n",
    "ax.set_ylabel(\"LLPS propensity\",fontsize=12)\n",
    "ax.plot(prof_wt['Seq1'],lw=2,color=\"black\")\n",
    "plt.savefig(\"LLPS_prof_Rv1747_WT.pdf\")"
   ]
  },
  {
   "cell_type": "code",
   "execution_count": null,
   "metadata": {},
   "outputs": [],
   "source": [
    "T152A\n",
    "T210A"
   ]
  },
  {
   "cell_type": "code",
   "execution_count": 17,
   "metadata": {},
   "outputs": [
    {
     "name": "stderr",
     "output_type": "stream",
     "text": [
      "/mnt/large/jfiorentino/INTERACTomics/PREDICTOR/pred-venv/lib/python3.9/site-packages/sklearn/base.py:443: UserWarning: X has feature names, but StandardScaler was fitted without feature names\n",
      "  warnings.warn(\n"
     ]
    }
   ],
   "source": [
    "seq2 = list(seq)\n",
    "seq2[151]='A'\n",
    "seq2=\"\".join(seq2)\n",
    "prof_wt_T152A, score_wt_T152A = compute_score_and_profile_from_aa_text(seq2)"
   ]
  },
  {
   "cell_type": "code",
   "execution_count": 18,
   "metadata": {},
   "outputs": [
    {
     "name": "stderr",
     "output_type": "stream",
     "text": [
      "/mnt/large/jfiorentino/INTERACTomics/PREDICTOR/pred-venv/lib/python3.9/site-packages/sklearn/base.py:443: UserWarning: X has feature names, but StandardScaler was fitted without feature names\n",
      "  warnings.warn(\n"
     ]
    }
   ],
   "source": [
    "seq3 = list(seq)\n",
    "seq3[209]='A'\n",
    "seq3=\"\".join(seq3)\n",
    "prof_wt_T210A, score_wt_T210A = compute_score_and_profile_from_aa_text(seq3)"
   ]
  },
  {
   "cell_type": "code",
   "execution_count": 19,
   "metadata": {},
   "outputs": [
    {
     "name": "stdout",
     "output_type": "stream",
     "text": [
      "      RandomForest\n",
      "Seq1         0.645       RandomForest\n",
      "Seq1          0.61       RandomForest\n",
      "Seq1          0.61\n"
     ]
    }
   ],
   "source": [
    "print(score_wt,score_wt_T152A,score_wt_T210A)"
   ]
  },
  {
   "cell_type": "code",
   "execution_count": 21,
   "metadata": {},
   "outputs": [
    {
     "data": {
      "text/plain": [
       "<matplotlib.legend.Legend at 0x7f1a2ca2edc0>"
      ]
     },
     "execution_count": 21,
     "metadata": {},
     "output_type": "execute_result"
    },
    {
     "data": {
      "image/png": "[encoded data removed]",
      "text/plain": [
       "<Figure size 432x288 with 1 Axes>"
      ]
     },
     "metadata": {
      "needs_background": "light"
     },
     "output_type": "display_data"
    }
   ],
   "source": [
    "fig,ax = plt.subplots()\n",
    "ax.set_xlabel(\"Residue position\")\n",
    "plt.plot(prof_wt['Seq1'],color = \"black\",lw=2,label=\"WT\")\n",
    "plt.plot(prof_wt_T152A['Seq1'],lw=2,label = \"T152A\",color=\"red\")\n",
    "plt.plot(prof_wt_T210A['Seq1'],lw=2,label = \"T210A\",color=\"blue\")\n",
    "plt.legend()"
   ]
  },
  {
   "cell_type": "code",
   "execution_count": 24,
   "metadata": {},
   "outputs": [
    {
     "data": {
      "text/plain": [
       "<matplotlib.legend.Legend at 0x7f1a2c86e700>"
      ]
     },
     "execution_count": 24,
     "metadata": {},
     "output_type": "execute_result"
    },
    {
     "data": {
      "image/png": "[encoded data removed]",
      "text/plain": [
       "<Figure size 432x288 with 1 Axes>"
      ]
     },
     "metadata": {
      "needs_background": "light"
     },
     "output_type": "display_data"
    }
   ],
   "source": [
    "fig,ax = plt.subplots()\n",
    "ax.set_xlabel(\"Residue position\")\n",
    "ax.set_ylim(0.7,1)\n",
    "plt.plot(prof_wt['Seq1']/0.645,color = \"black\",lw=2,label=\"WT\")\n",
    "plt.plot(prof_wt_T152A['Seq1']/0.61,lw=2,label = \"T152A\",color=\"red\")\n",
    "plt.plot(prof_wt_T210A['Seq1']/0.61,lw=2,label = \"T210A\",color=\"blue\")\n",
    "plt.legend()"
   ]
  },
  {
   "cell_type": "code",
   "execution_count": 27,
   "metadata": {},
   "outputs": [
    {
     "data": {
      "text/plain": [
       "<matplotlib.legend.Legend at 0x7f1a2c6f7c10>"
      ]
     },
     "execution_count": 27,
     "metadata": {},
     "output_type": "execute_result"
    },
    {
     "data": {
      "image/png": "[encoded data removed]",
      "text/plain": [
       "<Figure size 432x288 with 1 Axes>"
      ]
     },
     "metadata": {
      "needs_background": "light"
     },
     "output_type": "display_data"
    }
   ],
   "source": [
    "fig,ax = plt.subplots()\n",
    "ax.set_xlabel(\"Residue position\")\n",
    "ax.set_ylim(0.7,1)\n",
    "# plt.plot(prof_wt_T152A['Seq1']/0.61,lw=1,label = \"T152A\",color=\"red\")\n",
    "plt.plot(prof_wt_T210A['Seq1']/0.61,lw=1,label = \"T210A\",color=\"blue\")\n",
    "plt.plot(prof_wt['Seq1']/0.645,color = \"black\",lw=1,label=\"WT\")\n",
    "\n",
    "plt.legend()"
   ]
  },
  {
   "cell_type": "code",
   "execution_count": 30,
   "metadata": {},
   "outputs": [
    {
     "data": {
      "text/plain": [
       "'MPMSQPAAPPVLTVRYEGSERTFAAGHDVVVGRDLRADVRVAHPLISRAHLLLRFDQGRWVAIDNGSLNGLYLNNRRVPVVDIYDAQRVHIGNPDGPALDFEVGRHRGSAGRPPQTTSIRLPNLSAGAWPTDGPPQTGTLGSGQLQQLPPAATRIPAAPPSGPQPRYPTGGQQLWPPSGPQRAPQIYRPPTAAPPPAGARGGTEAGNLATSMMKILRPGRLTGELPPGAVRIGRANDNDIVIPEVLASRHHATLVPTPGGTEIRDNRSINGTFVNGARVDAALLHDGDVVTIGNIDLVFADGTLARREEN'"
      ]
     },
     "execution_count": 30,
     "metadata": {},
     "output_type": "execute_result"
    }
   ],
   "source": [
    "seq2"
   ]
  },
  {
   "cell_type": "code",
   "execution_count": 31,
   "metadata": {},
   "outputs": [
    {
     "data": {
      "text/plain": [
       "'MPMSQPAAPPVLTVRYEGSERTFAAGHDVVVGRDLRADVRVAHPLISRAHLLLRFDQGRWVAIDNGSLNGLYLNNRRVPVVDIYDAQRVHIGNPDGPALDFEVGRHRGSAGRPPQTTSIRLPNLSAGAWPTDGPPQTGTLGSGQLQQLPPATTRIPAAPPSGPQPRYPTGGQQLWPPSGPQRAPQIYRPPTAAPPPAGARGGTEAGNLAASMMKILRPGRLTGELPPGAVRIGRANDNDIVIPEVLASRHHATLVPTPGGTEIRDNRSINGTFVNGARVDAALLHDGDVVTIGNIDLVFADGTLARREEN'"
      ]
     },
     "execution_count": 31,
     "metadata": {},
     "output_type": "execute_result"
    }
   ],
   "source": [
    "seq3\n"
   ]
  },
  {
   "cell_type": "code",
   "execution_count": null,
   "metadata": {},
   "outputs": [],
   "source": []
  }
 ],
 "metadata": {
  "kernelspec": {
   "display_name": "pred-venv",
   "language": "python",
   "name": "pred-venv"
  },
  "language_info": {
   "codemirror_mode": {
    "name": "ipython",
    "version": 3
   },
   "file_extension": ".py",
   "mimetype": "text/x-python",
   "name": "python",
   "nbconvert_exporter": "python",
   "pygments_lexer": "ipython3",
   "version": "3.9.1"
  }
 },
 "nbformat": 4,
 "nbformat_minor": 4
}
